{
 "cells": [
  {
   "cell_type": "markdown",
   "metadata": {},
   "source": [
    "# Viz-a-thon"
   ]
  },
  {
   "cell_type": "code",
   "execution_count": 1,
   "metadata": {},
   "outputs": [],
   "source": [
    "import re\n",
    "import numpy as np\n",
    "import pandas as pd\n",
    "from termcolor import colored\n",
    "\n",
    "import warnings\n",
    "warnings.filterwarnings('ignore')"
   ]
  },
  {
   "cell_type": "markdown",
   "metadata": {},
   "source": [
    "# <font color='blue'>Preview Data</font>"
   ]
  },
  {
   "cell_type": "code",
   "execution_count": 2,
   "metadata": {},
   "outputs": [
    {
     "name": "stdout",
     "output_type": "stream",
     "text": [
      "/Users/ehawkins/Repos/ol-viz-a-thon\r\n",
      "ls: data/: No such file or directory\r\n"
     ]
    }
   ],
   "source": [
    "!pwd ; ls data/"
   ]
  },
  {
   "cell_type": "code",
   "execution_count": 3,
   "metadata": {},
   "outputs": [],
   "source": [
    "appeals = pd.read_csv('Vizathon-Data/AppealProcess.csv')\n",
    "\n",
    "# appeals.head(3)\n",
    "\n",
    "crim_appeals_struct = pd.read_csv('Vizathon-Data/AppellateCriminalStructure.csv')\n",
    "\n",
    "# crim_appeals_struct.head(3)\n",
    "\n",
    "case_mgmt = pd.read_csv('Vizathon-Data/CaseManagement.csv')\n",
    "\n",
    "# case_mgmt.head(3)\n",
    "\n",
    "case_type = pd.read_csv('Vizathon-Data/CaseType.csv')\n",
    "\n",
    "# case_type.head(3)\n",
    "\n",
    "caseload_size = pd.read_csv('Vizathon-Data/CaseloadSize.csv')\n",
    "\n",
    "# caseload_size.head(3)\n",
    "\n",
    "child_court = pd.read_csv('Vizathon-Data/ChildCourt.csv') \n",
    "\n",
    "# child_court.head(3)\n",
    "\n",
    "courts = pd.read_csv('Vizathon-Data/Court.csv')\n",
    "courts.drop('Unnamed: 9', axis=1, inplace=True)\n",
    "courts.drop('Unnamed: 10', axis=1, inplace=True)\n",
    "\n",
    "# courts.head()\n",
    "\n",
    "# courts.isnull().sum(), len(courts)\n",
    "\n",
    "court_case_type = pd.read_csv('Vizathon-Data/CourtCaseType.csv')\n",
    "\n",
    "# court_case_type.head(3)\n",
    "\n",
    "court_court_names = pd.read_csv('Vizathon-Data/CourtCourtName.csv')\n",
    "\n",
    "# court_court_names.head(3)\n",
    "\n",
    "court_level = pd.read_csv('Vizathon-Data/CourtLevel.csv')\n",
    "\n",
    "court_names = pd.read_csv('Vizathon-Data/CourtName.csv')\n",
    "\n",
    "# court_names.head()\n",
    "\n",
    "# court_level.head(3)\n",
    "\n",
    "death_penalty = pd.read_csv('Vizathon-Data/DeathPenalty.csv')\n",
    "\n",
    "# death_penalty.head(3)\n",
    "\n",
    "e_filing_fee = pd.read_csv('Vizathon-Data/EFilingFee.csv')\n",
    "\n",
    "# e_filing_fee.head(3)\n",
    "\n",
    "e_filing_mandatory = pd.read_csv('Vizathon-Data/EfilingMandatory.csv')\n",
    "\n",
    "# e_filing_mandatory.head(3)\n",
    "\n",
    "funding = pd.read_csv('Vizathon-Data/Funding.csv')\n",
    "\n",
    "# funding.head(3)\n",
    "\n",
    "neighbor = pd.read_csv('Vizathon-Data/Neighbor.csv')\n",
    "\n",
    "# neighbor.head(3)\n",
    "\n",
    "neighbor_states = pd.read_csv('Vizathon-Data/USStateNeighbor.csv')\n",
    "\n",
    "# neighbor_states.head(3)\n",
    "\n",
    "panel_decision = pd.read_csv('Vizathon-Data/PanelDecision.csv')\n",
    "\n",
    "# panel_decision.head(3)\n",
    "\n",
    "pop_category = pd.read_csv('Vizathon-Data/PopulationCategory.csv')\n",
    "\n",
    "# pop_category.head(3)\n",
    "\n",
    "pop_density = pd.read_csv('Vizathon-Data/PopulationDensity.csv')\n",
    "\n",
    "# pop_density.head(3)\n",
    "\n",
    "rural = pd.read_csv('Vizathon-Data/Rural.csv')\n",
    "\n",
    "# rural.head(3)\n",
    "\n",
    "trial_criminal_proc = pd.read_csv('Vizathon-Data/TrialCriminalProcessing.csv')\n",
    "\n",
    "# trial_criminal_proc.head(3)\n",
    "\n",
    "trial_struct = pd.read_csv('Vizathon-Data/TrialStructure.csv')\n",
    "\n",
    "# trial_struct.head(3)\n",
    "\n",
    "us_state = pd.read_csv('Vizathon-Data/USState.csv')\n",
    "\n",
    "# us_state.head()\n",
    "\n",
    "us_state_court = pd.read_csv('Vizathon-Data/USStateCourt.csv')\n",
    "\n",
    "# us_state_court.head(3)\n",
    "\n",
    "us_state_neighbor = pd.read_csv('Vizathon-Data/USStateNeighbor.csv')\n",
    "\n",
    "# us_state_neighbor.head(3)"
   ]
  },
  {
   "cell_type": "markdown",
   "metadata": {},
   "source": [
    "# <font color='blue'>State Statistics</font>\n",
    "\n",
    "## <font color='orange'>Single State</font>\n",
    "\n",
    "<img src='StateData.png'></img>"
   ]
  },
  {
   "cell_type": "code",
   "execution_count": 4,
   "metadata": {},
   "outputs": [],
   "source": [
    "_state = 'California'\n",
    "\n",
    "# Select state stats\n",
    "samp_state = us_state[us_state['USStateName'] == _state]"
   ]
  },
  {
   "cell_type": "code",
   "execution_count": 5,
   "metadata": {},
   "outputs": [
    {
     "data": {
      "text/html": [
       "<div>\n",
       "<style scoped>\n",
       "    .dataframe tbody tr th:only-of-type {\n",
       "        vertical-align: middle;\n",
       "    }\n",
       "\n",
       "    .dataframe tbody tr th {\n",
       "        vertical-align: top;\n",
       "    }\n",
       "\n",
       "    .dataframe thead th {\n",
       "        text-align: right;\n",
       "    }\n",
       "</style>\n",
       "<table border=\"1\" class=\"dataframe\">\n",
       "  <thead>\n",
       "    <tr style=\"text-align: right;\">\n",
       "      <th></th>\n",
       "      <th>4</th>\n",
       "    </tr>\n",
       "  </thead>\n",
       "  <tbody>\n",
       "    <tr>\n",
       "      <th>USStateID</th>\n",
       "      <td>5</td>\n",
       "    </tr>\n",
       "    <tr>\n",
       "      <th>USStateName</th>\n",
       "      <td>California</td>\n",
       "    </tr>\n",
       "    <tr>\n",
       "      <th>PopulationCategoryID</th>\n",
       "      <td>7</td>\n",
       "    </tr>\n",
       "    <tr>\n",
       "      <th>PopulationDensityID</th>\n",
       "      <td>5</td>\n",
       "    </tr>\n",
       "    <tr>\n",
       "      <th>RuralID</th>\n",
       "      <td>4</td>\n",
       "    </tr>\n",
       "    <tr>\n",
       "      <th>TrialStructureID</th>\n",
       "      <td>1</td>\n",
       "    </tr>\n",
       "    <tr>\n",
       "      <th>AppellateCriminalStructureID</th>\n",
       "      <td>4</td>\n",
       "    </tr>\n",
       "    <tr>\n",
       "      <th>TrialCriminalProcessingID</th>\n",
       "      <td>1</td>\n",
       "    </tr>\n",
       "    <tr>\n",
       "      <th>DeathPenaltyID</th>\n",
       "      <td>1</td>\n",
       "    </tr>\n",
       "    <tr>\n",
       "      <th>TrialCaseloadSizeID</th>\n",
       "      <td>6</td>\n",
       "    </tr>\n",
       "    <tr>\n",
       "      <th>DisplayOrder</th>\n",
       "      <td>5</td>\n",
       "    </tr>\n",
       "  </tbody>\n",
       "</table>\n",
       "</div>"
      ],
      "text/plain": [
       "                                       4\n",
       "USStateID                              5\n",
       "USStateName                   California\n",
       "PopulationCategoryID                   7\n",
       "PopulationDensityID                    5\n",
       "RuralID                                4\n",
       "TrialStructureID                       1\n",
       "AppellateCriminalStructureID           4\n",
       "TrialCriminalProcessingID              1\n",
       "DeathPenaltyID                         1\n",
       "TrialCaseloadSizeID                    6\n",
       "DisplayOrder                           5"
      ]
     },
     "execution_count": 5,
     "metadata": {},
     "output_type": "execute_result"
    }
   ],
   "source": [
    "samp_state.T"
   ]
  },
  {
   "cell_type": "markdown",
   "metadata": {},
   "source": [
    "## <font color='#BC2E0F'>One-to-one Relationships</font>"
   ]
  },
  {
   "cell_type": "markdown",
   "metadata": {},
   "source": [
    "### <font color='green'>Population Density</font>"
   ]
  },
  {
   "cell_type": "code",
   "execution_count": 6,
   "metadata": {},
   "outputs": [],
   "source": [
    "def get_population_density(row):\n",
    "    return pop_density[pop_density['PopulationDensityID'] == row['PopulationDensityID']]['PopulationDensityDescription'].values[0]"
   ]
  },
  {
   "cell_type": "code",
   "execution_count": 7,
   "metadata": {},
   "outputs": [],
   "source": [
    "samp_state['PopulationDensity'] = samp_state.apply(get_population_density, axis=1)"
   ]
  },
  {
   "cell_type": "code",
   "execution_count": 8,
   "metadata": {},
   "outputs": [
    {
     "data": {
      "text/html": [
       "<div>\n",
       "<style scoped>\n",
       "    .dataframe tbody tr th:only-of-type {\n",
       "        vertical-align: middle;\n",
       "    }\n",
       "\n",
       "    .dataframe tbody tr th {\n",
       "        vertical-align: top;\n",
       "    }\n",
       "\n",
       "    .dataframe thead th {\n",
       "        text-align: right;\n",
       "    }\n",
       "</style>\n",
       "<table border=\"1\" class=\"dataframe\">\n",
       "  <thead>\n",
       "    <tr style=\"text-align: right;\">\n",
       "      <th></th>\n",
       "      <th>4</th>\n",
       "    </tr>\n",
       "  </thead>\n",
       "  <tbody>\n",
       "    <tr>\n",
       "      <th>USStateID</th>\n",
       "      <td>5</td>\n",
       "    </tr>\n",
       "    <tr>\n",
       "      <th>USStateName</th>\n",
       "      <td>California</td>\n",
       "    </tr>\n",
       "    <tr>\n",
       "      <th>PopulationCategoryID</th>\n",
       "      <td>7</td>\n",
       "    </tr>\n",
       "    <tr>\n",
       "      <th>PopulationDensityID</th>\n",
       "      <td>5</td>\n",
       "    </tr>\n",
       "    <tr>\n",
       "      <th>RuralID</th>\n",
       "      <td>4</td>\n",
       "    </tr>\n",
       "    <tr>\n",
       "      <th>TrialStructureID</th>\n",
       "      <td>1</td>\n",
       "    </tr>\n",
       "    <tr>\n",
       "      <th>AppellateCriminalStructureID</th>\n",
       "      <td>4</td>\n",
       "    </tr>\n",
       "    <tr>\n",
       "      <th>TrialCriminalProcessingID</th>\n",
       "      <td>1</td>\n",
       "    </tr>\n",
       "    <tr>\n",
       "      <th>DeathPenaltyID</th>\n",
       "      <td>1</td>\n",
       "    </tr>\n",
       "    <tr>\n",
       "      <th>TrialCaseloadSizeID</th>\n",
       "      <td>6</td>\n",
       "    </tr>\n",
       "    <tr>\n",
       "      <th>DisplayOrder</th>\n",
       "      <td>5</td>\n",
       "    </tr>\n",
       "    <tr>\n",
       "      <th>PopulationDensity</th>\n",
       "      <td>201-500</td>\n",
       "    </tr>\n",
       "  </tbody>\n",
       "</table>\n",
       "</div>"
      ],
      "text/plain": [
       "                                       4\n",
       "USStateID                              5\n",
       "USStateName                   California\n",
       "PopulationCategoryID                   7\n",
       "PopulationDensityID                    5\n",
       "RuralID                                4\n",
       "TrialStructureID                       1\n",
       "AppellateCriminalStructureID           4\n",
       "TrialCriminalProcessingID              1\n",
       "DeathPenaltyID                         1\n",
       "TrialCaseloadSizeID                    6\n",
       "DisplayOrder                           5\n",
       "PopulationDensity                201-500"
      ]
     },
     "execution_count": 8,
     "metadata": {},
     "output_type": "execute_result"
    }
   ],
   "source": [
    "samp_state.T"
   ]
  },
  {
   "cell_type": "markdown",
   "metadata": {},
   "source": [
    "### <font color='green'>Population Category</font>"
   ]
  },
  {
   "cell_type": "code",
   "execution_count": 9,
   "metadata": {},
   "outputs": [],
   "source": [
    "def get_population_category(row):\n",
    "    return pop_category[\n",
    "        pop_category['PopulationCategoryID'] == row['PopulationCategoryID']\n",
    "        ]['PopulationCategoryDescription'].values[0]"
   ]
  },
  {
   "cell_type": "code",
   "execution_count": 10,
   "metadata": {},
   "outputs": [],
   "source": [
    "samp_state['PopulationCategory'] = samp_state.apply(get_population_category, axis=1)"
   ]
  },
  {
   "cell_type": "code",
   "execution_count": 11,
   "metadata": {},
   "outputs": [
    {
     "data": {
      "text/html": [
       "<div>\n",
       "<style scoped>\n",
       "    .dataframe tbody tr th:only-of-type {\n",
       "        vertical-align: middle;\n",
       "    }\n",
       "\n",
       "    .dataframe tbody tr th {\n",
       "        vertical-align: top;\n",
       "    }\n",
       "\n",
       "    .dataframe thead th {\n",
       "        text-align: right;\n",
       "    }\n",
       "</style>\n",
       "<table border=\"1\" class=\"dataframe\">\n",
       "  <thead>\n",
       "    <tr style=\"text-align: right;\">\n",
       "      <th></th>\n",
       "      <th>4</th>\n",
       "    </tr>\n",
       "  </thead>\n",
       "  <tbody>\n",
       "    <tr>\n",
       "      <th>USStateID</th>\n",
       "      <td>5</td>\n",
       "    </tr>\n",
       "    <tr>\n",
       "      <th>USStateName</th>\n",
       "      <td>California</td>\n",
       "    </tr>\n",
       "    <tr>\n",
       "      <th>PopulationCategoryID</th>\n",
       "      <td>7</td>\n",
       "    </tr>\n",
       "    <tr>\n",
       "      <th>PopulationDensityID</th>\n",
       "      <td>5</td>\n",
       "    </tr>\n",
       "    <tr>\n",
       "      <th>RuralID</th>\n",
       "      <td>4</td>\n",
       "    </tr>\n",
       "    <tr>\n",
       "      <th>TrialStructureID</th>\n",
       "      <td>1</td>\n",
       "    </tr>\n",
       "    <tr>\n",
       "      <th>AppellateCriminalStructureID</th>\n",
       "      <td>4</td>\n",
       "    </tr>\n",
       "    <tr>\n",
       "      <th>TrialCriminalProcessingID</th>\n",
       "      <td>1</td>\n",
       "    </tr>\n",
       "    <tr>\n",
       "      <th>DeathPenaltyID</th>\n",
       "      <td>1</td>\n",
       "    </tr>\n",
       "    <tr>\n",
       "      <th>TrialCaseloadSizeID</th>\n",
       "      <td>6</td>\n",
       "    </tr>\n",
       "    <tr>\n",
       "      <th>DisplayOrder</th>\n",
       "      <td>5</td>\n",
       "    </tr>\n",
       "    <tr>\n",
       "      <th>PopulationDensity</th>\n",
       "      <td>201-500</td>\n",
       "    </tr>\n",
       "    <tr>\n",
       "      <th>PopulationCategory</th>\n",
       "      <td>98901 to highest</td>\n",
       "    </tr>\n",
       "  </tbody>\n",
       "</table>\n",
       "</div>"
      ],
      "text/plain": [
       "                                             4\n",
       "USStateID                                    5\n",
       "USStateName                         California\n",
       "PopulationCategoryID                         7\n",
       "PopulationDensityID                          5\n",
       "RuralID                                      4\n",
       "TrialStructureID                             1\n",
       "AppellateCriminalStructureID                 4\n",
       "TrialCriminalProcessingID                    1\n",
       "DeathPenaltyID                               1\n",
       "TrialCaseloadSizeID                          6\n",
       "DisplayOrder                                 5\n",
       "PopulationDensity                      201-500\n",
       "PopulationCategory            98901 to highest"
      ]
     },
     "execution_count": 11,
     "metadata": {},
     "output_type": "execute_result"
    }
   ],
   "source": [
    "samp_state.T"
   ]
  },
  {
   "cell_type": "markdown",
   "metadata": {},
   "source": [
    "### <font color='green'>Rural</font>"
   ]
  },
  {
   "cell_type": "code",
   "execution_count": 12,
   "metadata": {},
   "outputs": [],
   "source": [
    "def get_rural_description(row):\n",
    "    return rural[rural['RuralID'] == row['RuralID']]['RuralDescription'].values[0]"
   ]
  },
  {
   "cell_type": "code",
   "execution_count": 13,
   "metadata": {},
   "outputs": [],
   "source": [
    "samp_state['Rural'] = samp_state.apply(get_rural_description, axis=1)"
   ]
  },
  {
   "cell_type": "code",
   "execution_count": 14,
   "metadata": {},
   "outputs": [
    {
     "data": {
      "text/html": [
       "<div>\n",
       "<style scoped>\n",
       "    .dataframe tbody tr th:only-of-type {\n",
       "        vertical-align: middle;\n",
       "    }\n",
       "\n",
       "    .dataframe tbody tr th {\n",
       "        vertical-align: top;\n",
       "    }\n",
       "\n",
       "    .dataframe thead th {\n",
       "        text-align: right;\n",
       "    }\n",
       "</style>\n",
       "<table border=\"1\" class=\"dataframe\">\n",
       "  <thead>\n",
       "    <tr style=\"text-align: right;\">\n",
       "      <th></th>\n",
       "      <th>4</th>\n",
       "    </tr>\n",
       "  </thead>\n",
       "  <tbody>\n",
       "    <tr>\n",
       "      <th>USStateID</th>\n",
       "      <td>5</td>\n",
       "    </tr>\n",
       "    <tr>\n",
       "      <th>USStateName</th>\n",
       "      <td>California</td>\n",
       "    </tr>\n",
       "    <tr>\n",
       "      <th>PopulationCategoryID</th>\n",
       "      <td>7</td>\n",
       "    </tr>\n",
       "    <tr>\n",
       "      <th>PopulationDensityID</th>\n",
       "      <td>5</td>\n",
       "    </tr>\n",
       "    <tr>\n",
       "      <th>RuralID</th>\n",
       "      <td>4</td>\n",
       "    </tr>\n",
       "    <tr>\n",
       "      <th>TrialStructureID</th>\n",
       "      <td>1</td>\n",
       "    </tr>\n",
       "    <tr>\n",
       "      <th>AppellateCriminalStructureID</th>\n",
       "      <td>4</td>\n",
       "    </tr>\n",
       "    <tr>\n",
       "      <th>TrialCriminalProcessingID</th>\n",
       "      <td>1</td>\n",
       "    </tr>\n",
       "    <tr>\n",
       "      <th>DeathPenaltyID</th>\n",
       "      <td>1</td>\n",
       "    </tr>\n",
       "    <tr>\n",
       "      <th>TrialCaseloadSizeID</th>\n",
       "      <td>6</td>\n",
       "    </tr>\n",
       "    <tr>\n",
       "      <th>DisplayOrder</th>\n",
       "      <td>5</td>\n",
       "    </tr>\n",
       "    <tr>\n",
       "      <th>PopulationDensity</th>\n",
       "      <td>201-500</td>\n",
       "    </tr>\n",
       "    <tr>\n",
       "      <th>PopulationCategory</th>\n",
       "      <td>98901 to highest</td>\n",
       "    </tr>\n",
       "    <tr>\n",
       "      <th>Rural</th>\n",
       "      <td>Less than or equal to 15% of the population</td>\n",
       "    </tr>\n",
       "  </tbody>\n",
       "</table>\n",
       "</div>"
      ],
      "text/plain": [
       "                                                                        4\n",
       "USStateID                                                               5\n",
       "USStateName                                                    California\n",
       "PopulationCategoryID                                                    7\n",
       "PopulationDensityID                                                     5\n",
       "RuralID                                                                 4\n",
       "TrialStructureID                                                        1\n",
       "AppellateCriminalStructureID                                            4\n",
       "TrialCriminalProcessingID                                               1\n",
       "DeathPenaltyID                                                          1\n",
       "TrialCaseloadSizeID                                                     6\n",
       "DisplayOrder                                                            5\n",
       "PopulationDensity                                                 201-500\n",
       "PopulationCategory                                       98901 to highest\n",
       "Rural                         Less than or equal to 15% of the population"
      ]
     },
     "execution_count": 14,
     "metadata": {},
     "output_type": "execute_result"
    }
   ],
   "source": [
    "samp_state.T"
   ]
  },
  {
   "cell_type": "markdown",
   "metadata": {},
   "source": [
    "### <font color='green'>Trial Structure</font>"
   ]
  },
  {
   "cell_type": "code",
   "execution_count": 15,
   "metadata": {},
   "outputs": [],
   "source": [
    "def get_trial_structure(row):\n",
    "    return trial_struct[trial_struct['TrialStructureID'] == row['TrialStructureID']]['TrialStructureDescription'].values[0]"
   ]
  },
  {
   "cell_type": "code",
   "execution_count": 16,
   "metadata": {},
   "outputs": [],
   "source": [
    "samp_state['TrialStructure'] = samp_state.apply(get_trial_structure, axis=1)"
   ]
  },
  {
   "cell_type": "code",
   "execution_count": 17,
   "metadata": {},
   "outputs": [
    {
     "data": {
      "text/html": [
       "<div>\n",
       "<style scoped>\n",
       "    .dataframe tbody tr th:only-of-type {\n",
       "        vertical-align: middle;\n",
       "    }\n",
       "\n",
       "    .dataframe tbody tr th {\n",
       "        vertical-align: top;\n",
       "    }\n",
       "\n",
       "    .dataframe thead th {\n",
       "        text-align: right;\n",
       "    }\n",
       "</style>\n",
       "<table border=\"1\" class=\"dataframe\">\n",
       "  <thead>\n",
       "    <tr style=\"text-align: right;\">\n",
       "      <th></th>\n",
       "      <th>4</th>\n",
       "    </tr>\n",
       "  </thead>\n",
       "  <tbody>\n",
       "    <tr>\n",
       "      <th>USStateID</th>\n",
       "      <td>5</td>\n",
       "    </tr>\n",
       "    <tr>\n",
       "      <th>USStateName</th>\n",
       "      <td>California</td>\n",
       "    </tr>\n",
       "    <tr>\n",
       "      <th>PopulationCategoryID</th>\n",
       "      <td>7</td>\n",
       "    </tr>\n",
       "    <tr>\n",
       "      <th>PopulationDensityID</th>\n",
       "      <td>5</td>\n",
       "    </tr>\n",
       "    <tr>\n",
       "      <th>RuralID</th>\n",
       "      <td>4</td>\n",
       "    </tr>\n",
       "    <tr>\n",
       "      <th>TrialStructureID</th>\n",
       "      <td>1</td>\n",
       "    </tr>\n",
       "    <tr>\n",
       "      <th>AppellateCriminalStructureID</th>\n",
       "      <td>4</td>\n",
       "    </tr>\n",
       "    <tr>\n",
       "      <th>TrialCriminalProcessingID</th>\n",
       "      <td>1</td>\n",
       "    </tr>\n",
       "    <tr>\n",
       "      <th>DeathPenaltyID</th>\n",
       "      <td>1</td>\n",
       "    </tr>\n",
       "    <tr>\n",
       "      <th>TrialCaseloadSizeID</th>\n",
       "      <td>6</td>\n",
       "    </tr>\n",
       "    <tr>\n",
       "      <th>DisplayOrder</th>\n",
       "      <td>5</td>\n",
       "    </tr>\n",
       "    <tr>\n",
       "      <th>PopulationDensity</th>\n",
       "      <td>201-500</td>\n",
       "    </tr>\n",
       "    <tr>\n",
       "      <th>PopulationCategory</th>\n",
       "      <td>98901 to highest</td>\n",
       "    </tr>\n",
       "    <tr>\n",
       "      <th>Rural</th>\n",
       "      <td>Less than or equal to 15% of the population</td>\n",
       "    </tr>\n",
       "    <tr>\n",
       "      <th>TrialStructure</th>\n",
       "      <td>Single Tiered</td>\n",
       "    </tr>\n",
       "  </tbody>\n",
       "</table>\n",
       "</div>"
      ],
      "text/plain": [
       "                                                                        4\n",
       "USStateID                                                               5\n",
       "USStateName                                                    California\n",
       "PopulationCategoryID                                                    7\n",
       "PopulationDensityID                                                     5\n",
       "RuralID                                                                 4\n",
       "TrialStructureID                                                        1\n",
       "AppellateCriminalStructureID                                            4\n",
       "TrialCriminalProcessingID                                               1\n",
       "DeathPenaltyID                                                          1\n",
       "TrialCaseloadSizeID                                                     6\n",
       "DisplayOrder                                                            5\n",
       "PopulationDensity                                                 201-500\n",
       "PopulationCategory                                       98901 to highest\n",
       "Rural                         Less than or equal to 15% of the population\n",
       "TrialStructure                                              Single Tiered"
      ]
     },
     "execution_count": 17,
     "metadata": {},
     "output_type": "execute_result"
    }
   ],
   "source": [
    "samp_state.T"
   ]
  },
  {
   "cell_type": "markdown",
   "metadata": {},
   "source": [
    "### <font color='green'>Appellate Criminal Structure</font>"
   ]
  },
  {
   "cell_type": "code",
   "execution_count": 18,
   "metadata": {},
   "outputs": [],
   "source": [
    "def add_appellate_crim_struct(row):\n",
    "    return crim_appeals_struct[\n",
    "        crim_appeals_struct['AppellateCriminalStructureID'] == row['AppellateCriminalStructureID']\n",
    "        ]['AppellateCriminalStructureDescription'].values[0]"
   ]
  },
  {
   "cell_type": "code",
   "execution_count": 19,
   "metadata": {},
   "outputs": [],
   "source": [
    "samp_state['AppCrimStructure'] = samp_state.apply(add_appellate_crim_struct, axis=1)"
   ]
  },
  {
   "cell_type": "code",
   "execution_count": 20,
   "metadata": {},
   "outputs": [
    {
     "data": {
      "text/html": [
       "<div>\n",
       "<style scoped>\n",
       "    .dataframe tbody tr th:only-of-type {\n",
       "        vertical-align: middle;\n",
       "    }\n",
       "\n",
       "    .dataframe tbody tr th {\n",
       "        vertical-align: top;\n",
       "    }\n",
       "\n",
       "    .dataframe thead th {\n",
       "        text-align: right;\n",
       "    }\n",
       "</style>\n",
       "<table border=\"1\" class=\"dataframe\">\n",
       "  <thead>\n",
       "    <tr style=\"text-align: right;\">\n",
       "      <th></th>\n",
       "      <th>4</th>\n",
       "    </tr>\n",
       "  </thead>\n",
       "  <tbody>\n",
       "    <tr>\n",
       "      <th>USStateID</th>\n",
       "      <td>5</td>\n",
       "    </tr>\n",
       "    <tr>\n",
       "      <th>USStateName</th>\n",
       "      <td>California</td>\n",
       "    </tr>\n",
       "    <tr>\n",
       "      <th>PopulationCategoryID</th>\n",
       "      <td>7</td>\n",
       "    </tr>\n",
       "    <tr>\n",
       "      <th>PopulationDensityID</th>\n",
       "      <td>5</td>\n",
       "    </tr>\n",
       "    <tr>\n",
       "      <th>RuralID</th>\n",
       "      <td>4</td>\n",
       "    </tr>\n",
       "    <tr>\n",
       "      <th>TrialStructureID</th>\n",
       "      <td>1</td>\n",
       "    </tr>\n",
       "    <tr>\n",
       "      <th>AppellateCriminalStructureID</th>\n",
       "      <td>4</td>\n",
       "    </tr>\n",
       "    <tr>\n",
       "      <th>TrialCriminalProcessingID</th>\n",
       "      <td>1</td>\n",
       "    </tr>\n",
       "    <tr>\n",
       "      <th>DeathPenaltyID</th>\n",
       "      <td>1</td>\n",
       "    </tr>\n",
       "    <tr>\n",
       "      <th>TrialCaseloadSizeID</th>\n",
       "      <td>6</td>\n",
       "    </tr>\n",
       "    <tr>\n",
       "      <th>DisplayOrder</th>\n",
       "      <td>5</td>\n",
       "    </tr>\n",
       "    <tr>\n",
       "      <th>PopulationDensity</th>\n",
       "      <td>201-500</td>\n",
       "    </tr>\n",
       "    <tr>\n",
       "      <th>PopulationCategory</th>\n",
       "      <td>98901 to highest</td>\n",
       "    </tr>\n",
       "    <tr>\n",
       "      <th>Rural</th>\n",
       "      <td>Less than or equal to 15% of the population</td>\n",
       "    </tr>\n",
       "    <tr>\n",
       "      <th>TrialStructure</th>\n",
       "      <td>Single Tiered</td>\n",
       "    </tr>\n",
       "    <tr>\n",
       "      <th>AppCrimStructure</th>\n",
       "      <td>COLR Discretionary/IAC Mandatory</td>\n",
       "    </tr>\n",
       "  </tbody>\n",
       "</table>\n",
       "</div>"
      ],
      "text/plain": [
       "                                                                        4\n",
       "USStateID                                                               5\n",
       "USStateName                                                    California\n",
       "PopulationCategoryID                                                    7\n",
       "PopulationDensityID                                                     5\n",
       "RuralID                                                                 4\n",
       "TrialStructureID                                                        1\n",
       "AppellateCriminalStructureID                                            4\n",
       "TrialCriminalProcessingID                                               1\n",
       "DeathPenaltyID                                                          1\n",
       "TrialCaseloadSizeID                                                     6\n",
       "DisplayOrder                                                            5\n",
       "PopulationDensity                                                 201-500\n",
       "PopulationCategory                                       98901 to highest\n",
       "Rural                         Less than or equal to 15% of the population\n",
       "TrialStructure                                              Single Tiered\n",
       "AppCrimStructure                         COLR Discretionary/IAC Mandatory"
      ]
     },
     "execution_count": 20,
     "metadata": {},
     "output_type": "execute_result"
    }
   ],
   "source": [
    "samp_state.T"
   ]
  },
  {
   "cell_type": "markdown",
   "metadata": {},
   "source": [
    "### <font color='green'>Trial Criminal Processing</font>"
   ]
  },
  {
   "cell_type": "code",
   "execution_count": 21,
   "metadata": {},
   "outputs": [],
   "source": [
    "def add_trial_criminal_process(row):\n",
    "    return trial_criminal_proc[\n",
    "        trial_criminal_proc['TrialCriminalProcessingID'] == row['TrialCriminalProcessingID']\n",
    "        ]['TrialCriminalProcessingDescription'].values[0]"
   ]
  },
  {
   "cell_type": "code",
   "execution_count": 22,
   "metadata": {},
   "outputs": [
    {
     "data": {
      "text/html": [
       "<div>\n",
       "<style scoped>\n",
       "    .dataframe tbody tr th:only-of-type {\n",
       "        vertical-align: middle;\n",
       "    }\n",
       "\n",
       "    .dataframe tbody tr th {\n",
       "        vertical-align: top;\n",
       "    }\n",
       "\n",
       "    .dataframe thead th {\n",
       "        text-align: right;\n",
       "    }\n",
       "</style>\n",
       "<table border=\"1\" class=\"dataframe\">\n",
       "  <thead>\n",
       "    <tr style=\"text-align: right;\">\n",
       "      <th></th>\n",
       "      <th>4</th>\n",
       "    </tr>\n",
       "  </thead>\n",
       "  <tbody>\n",
       "    <tr>\n",
       "      <th>USStateID</th>\n",
       "      <td>5</td>\n",
       "    </tr>\n",
       "    <tr>\n",
       "      <th>USStateName</th>\n",
       "      <td>California</td>\n",
       "    </tr>\n",
       "    <tr>\n",
       "      <th>PopulationCategoryID</th>\n",
       "      <td>7</td>\n",
       "    </tr>\n",
       "    <tr>\n",
       "      <th>PopulationDensityID</th>\n",
       "      <td>5</td>\n",
       "    </tr>\n",
       "    <tr>\n",
       "      <th>RuralID</th>\n",
       "      <td>4</td>\n",
       "    </tr>\n",
       "    <tr>\n",
       "      <th>TrialStructureID</th>\n",
       "      <td>1</td>\n",
       "    </tr>\n",
       "    <tr>\n",
       "      <th>AppellateCriminalStructureID</th>\n",
       "      <td>4</td>\n",
       "    </tr>\n",
       "    <tr>\n",
       "      <th>TrialCriminalProcessingID</th>\n",
       "      <td>1</td>\n",
       "    </tr>\n",
       "    <tr>\n",
       "      <th>DeathPenaltyID</th>\n",
       "      <td>1</td>\n",
       "    </tr>\n",
       "    <tr>\n",
       "      <th>TrialCaseloadSizeID</th>\n",
       "      <td>6</td>\n",
       "    </tr>\n",
       "    <tr>\n",
       "      <th>DisplayOrder</th>\n",
       "      <td>5</td>\n",
       "    </tr>\n",
       "    <tr>\n",
       "      <th>PopulationDensity</th>\n",
       "      <td>201-500</td>\n",
       "    </tr>\n",
       "    <tr>\n",
       "      <th>PopulationCategory</th>\n",
       "      <td>98901 to highest</td>\n",
       "    </tr>\n",
       "    <tr>\n",
       "      <th>Rural</th>\n",
       "      <td>Less than or equal to 15% of the population</td>\n",
       "    </tr>\n",
       "    <tr>\n",
       "      <th>TrialStructure</th>\n",
       "      <td>Single Tiered</td>\n",
       "    </tr>\n",
       "    <tr>\n",
       "      <th>AppCrimStructure</th>\n",
       "      <td>COLR Discretionary/IAC Mandatory</td>\n",
       "    </tr>\n",
       "    <tr>\n",
       "      <th>TrialCriminalProc</th>\n",
       "      <td>Single Tiered</td>\n",
       "    </tr>\n",
       "  </tbody>\n",
       "</table>\n",
       "</div>"
      ],
      "text/plain": [
       "                                                                        4\n",
       "USStateID                                                               5\n",
       "USStateName                                                    California\n",
       "PopulationCategoryID                                                    7\n",
       "PopulationDensityID                                                     5\n",
       "RuralID                                                                 4\n",
       "TrialStructureID                                                        1\n",
       "AppellateCriminalStructureID                                            4\n",
       "TrialCriminalProcessingID                                               1\n",
       "DeathPenaltyID                                                          1\n",
       "TrialCaseloadSizeID                                                     6\n",
       "DisplayOrder                                                            5\n",
       "PopulationDensity                                                 201-500\n",
       "PopulationCategory                                       98901 to highest\n",
       "Rural                         Less than or equal to 15% of the population\n",
       "TrialStructure                                              Single Tiered\n",
       "AppCrimStructure                         COLR Discretionary/IAC Mandatory\n",
       "TrialCriminalProc                                           Single Tiered"
      ]
     },
     "execution_count": 22,
     "metadata": {},
     "output_type": "execute_result"
    }
   ],
   "source": [
    "samp_state['TrialCriminalProc'] = samp_state.apply(add_trial_criminal_process, axis=1)\n",
    "samp_state.T"
   ]
  },
  {
   "cell_type": "markdown",
   "metadata": {},
   "source": [
    "### <font color='green'>Death Penalty</font>"
   ]
  },
  {
   "cell_type": "code",
   "execution_count": 23,
   "metadata": {},
   "outputs": [],
   "source": [
    "def get_death_penalty(row):\n",
    "    return death_penalty[\n",
    "        death_penalty['DeathPenaltyID'] == row['DeathPenaltyID']\n",
    "        ]['DeathPenaltyDescription'].values[0]"
   ]
  },
  {
   "cell_type": "code",
   "execution_count": 24,
   "metadata": {},
   "outputs": [],
   "source": [
    "samp_state['DeathPenalty'] = samp_state.apply(get_death_penalty, axis=1)"
   ]
  },
  {
   "cell_type": "code",
   "execution_count": 25,
   "metadata": {},
   "outputs": [
    {
     "data": {
      "text/html": [
       "<div>\n",
       "<style scoped>\n",
       "    .dataframe tbody tr th:only-of-type {\n",
       "        vertical-align: middle;\n",
       "    }\n",
       "\n",
       "    .dataframe tbody tr th {\n",
       "        vertical-align: top;\n",
       "    }\n",
       "\n",
       "    .dataframe thead th {\n",
       "        text-align: right;\n",
       "    }\n",
       "</style>\n",
       "<table border=\"1\" class=\"dataframe\">\n",
       "  <thead>\n",
       "    <tr style=\"text-align: right;\">\n",
       "      <th></th>\n",
       "      <th>4</th>\n",
       "    </tr>\n",
       "  </thead>\n",
       "  <tbody>\n",
       "    <tr>\n",
       "      <th>USStateID</th>\n",
       "      <td>5</td>\n",
       "    </tr>\n",
       "    <tr>\n",
       "      <th>USStateName</th>\n",
       "      <td>California</td>\n",
       "    </tr>\n",
       "    <tr>\n",
       "      <th>PopulationCategoryID</th>\n",
       "      <td>7</td>\n",
       "    </tr>\n",
       "    <tr>\n",
       "      <th>PopulationDensityID</th>\n",
       "      <td>5</td>\n",
       "    </tr>\n",
       "    <tr>\n",
       "      <th>RuralID</th>\n",
       "      <td>4</td>\n",
       "    </tr>\n",
       "    <tr>\n",
       "      <th>TrialStructureID</th>\n",
       "      <td>1</td>\n",
       "    </tr>\n",
       "    <tr>\n",
       "      <th>AppellateCriminalStructureID</th>\n",
       "      <td>4</td>\n",
       "    </tr>\n",
       "    <tr>\n",
       "      <th>TrialCriminalProcessingID</th>\n",
       "      <td>1</td>\n",
       "    </tr>\n",
       "    <tr>\n",
       "      <th>DeathPenaltyID</th>\n",
       "      <td>1</td>\n",
       "    </tr>\n",
       "    <tr>\n",
       "      <th>TrialCaseloadSizeID</th>\n",
       "      <td>6</td>\n",
       "    </tr>\n",
       "    <tr>\n",
       "      <th>DisplayOrder</th>\n",
       "      <td>5</td>\n",
       "    </tr>\n",
       "    <tr>\n",
       "      <th>PopulationDensity</th>\n",
       "      <td>201-500</td>\n",
       "    </tr>\n",
       "    <tr>\n",
       "      <th>PopulationCategory</th>\n",
       "      <td>98901 to highest</td>\n",
       "    </tr>\n",
       "    <tr>\n",
       "      <th>Rural</th>\n",
       "      <td>Less than or equal to 15% of the population</td>\n",
       "    </tr>\n",
       "    <tr>\n",
       "      <th>TrialStructure</th>\n",
       "      <td>Single Tiered</td>\n",
       "    </tr>\n",
       "    <tr>\n",
       "      <th>AppCrimStructure</th>\n",
       "      <td>COLR Discretionary/IAC Mandatory</td>\n",
       "    </tr>\n",
       "    <tr>\n",
       "      <th>TrialCriminalProc</th>\n",
       "      <td>Single Tiered</td>\n",
       "    </tr>\n",
       "    <tr>\n",
       "      <th>DeathPenalty</th>\n",
       "      <td>Yes</td>\n",
       "    </tr>\n",
       "  </tbody>\n",
       "</table>\n",
       "</div>"
      ],
      "text/plain": [
       "                                                                        4\n",
       "USStateID                                                               5\n",
       "USStateName                                                    California\n",
       "PopulationCategoryID                                                    7\n",
       "PopulationDensityID                                                     5\n",
       "RuralID                                                                 4\n",
       "TrialStructureID                                                        1\n",
       "AppellateCriminalStructureID                                            4\n",
       "TrialCriminalProcessingID                                               1\n",
       "DeathPenaltyID                                                          1\n",
       "TrialCaseloadSizeID                                                     6\n",
       "DisplayOrder                                                            5\n",
       "PopulationDensity                                                 201-500\n",
       "PopulationCategory                                       98901 to highest\n",
       "Rural                         Less than or equal to 15% of the population\n",
       "TrialStructure                                              Single Tiered\n",
       "AppCrimStructure                         COLR Discretionary/IAC Mandatory\n",
       "TrialCriminalProc                                           Single Tiered\n",
       "DeathPenalty                                                          Yes"
      ]
     },
     "execution_count": 25,
     "metadata": {},
     "output_type": "execute_result"
    }
   ],
   "source": [
    "samp_state.T"
   ]
  },
  {
   "cell_type": "markdown",
   "metadata": {},
   "source": [
    "### <font color='green'>Trial Caseload Size</font>"
   ]
  },
  {
   "cell_type": "code",
   "execution_count": 26,
   "metadata": {},
   "outputs": [],
   "source": [
    "def get_trial_caseload_size(row):\n",
    "    return caseload_size[caseload_size['CaseloadSizeID'] == row['TrialCaseloadSizeID']]['CaseloadSizeDescription'].values[0]"
   ]
  },
  {
   "cell_type": "code",
   "execution_count": 27,
   "metadata": {},
   "outputs": [],
   "source": [
    "samp_state['CaseloadSize'] = samp_state.apply(get_trial_caseload_size, axis=1)"
   ]
  },
  {
   "cell_type": "code",
   "execution_count": 28,
   "metadata": {},
   "outputs": [
    {
     "data": {
      "text/html": [
       "<div>\n",
       "<style scoped>\n",
       "    .dataframe tbody tr th:only-of-type {\n",
       "        vertical-align: middle;\n",
       "    }\n",
       "\n",
       "    .dataframe tbody tr th {\n",
       "        vertical-align: top;\n",
       "    }\n",
       "\n",
       "    .dataframe thead th {\n",
       "        text-align: right;\n",
       "    }\n",
       "</style>\n",
       "<table border=\"1\" class=\"dataframe\">\n",
       "  <thead>\n",
       "    <tr style=\"text-align: right;\">\n",
       "      <th></th>\n",
       "      <th>4</th>\n",
       "    </tr>\n",
       "  </thead>\n",
       "  <tbody>\n",
       "    <tr>\n",
       "      <th>USStateID</th>\n",
       "      <td>5</td>\n",
       "    </tr>\n",
       "    <tr>\n",
       "      <th>USStateName</th>\n",
       "      <td>California</td>\n",
       "    </tr>\n",
       "    <tr>\n",
       "      <th>PopulationCategoryID</th>\n",
       "      <td>7</td>\n",
       "    </tr>\n",
       "    <tr>\n",
       "      <th>PopulationDensityID</th>\n",
       "      <td>5</td>\n",
       "    </tr>\n",
       "    <tr>\n",
       "      <th>RuralID</th>\n",
       "      <td>4</td>\n",
       "    </tr>\n",
       "    <tr>\n",
       "      <th>TrialStructureID</th>\n",
       "      <td>1</td>\n",
       "    </tr>\n",
       "    <tr>\n",
       "      <th>AppellateCriminalStructureID</th>\n",
       "      <td>4</td>\n",
       "    </tr>\n",
       "    <tr>\n",
       "      <th>TrialCriminalProcessingID</th>\n",
       "      <td>1</td>\n",
       "    </tr>\n",
       "    <tr>\n",
       "      <th>DeathPenaltyID</th>\n",
       "      <td>1</td>\n",
       "    </tr>\n",
       "    <tr>\n",
       "      <th>TrialCaseloadSizeID</th>\n",
       "      <td>6</td>\n",
       "    </tr>\n",
       "    <tr>\n",
       "      <th>DisplayOrder</th>\n",
       "      <td>5</td>\n",
       "    </tr>\n",
       "    <tr>\n",
       "      <th>PopulationDensity</th>\n",
       "      <td>201-500</td>\n",
       "    </tr>\n",
       "    <tr>\n",
       "      <th>PopulationCategory</th>\n",
       "      <td>98901 to highest</td>\n",
       "    </tr>\n",
       "    <tr>\n",
       "      <th>Rural</th>\n",
       "      <td>Less than or equal to 15% of the population</td>\n",
       "    </tr>\n",
       "    <tr>\n",
       "      <th>TrialStructure</th>\n",
       "      <td>Single Tiered</td>\n",
       "    </tr>\n",
       "    <tr>\n",
       "      <th>AppCrimStructure</th>\n",
       "      <td>COLR Discretionary/IAC Mandatory</td>\n",
       "    </tr>\n",
       "    <tr>\n",
       "      <th>TrialCriminalProc</th>\n",
       "      <td>Single Tiered</td>\n",
       "    </tr>\n",
       "    <tr>\n",
       "      <th>DeathPenalty</th>\n",
       "      <td>Yes</td>\n",
       "    </tr>\n",
       "    <tr>\n",
       "      <th>CaseloadSize</th>\n",
       "      <td>Over 6 Million</td>\n",
       "    </tr>\n",
       "  </tbody>\n",
       "</table>\n",
       "</div>"
      ],
      "text/plain": [
       "                                                                        4\n",
       "USStateID                                                               5\n",
       "USStateName                                                    California\n",
       "PopulationCategoryID                                                    7\n",
       "PopulationDensityID                                                     5\n",
       "RuralID                                                                 4\n",
       "TrialStructureID                                                        1\n",
       "AppellateCriminalStructureID                                            4\n",
       "TrialCriminalProcessingID                                               1\n",
       "DeathPenaltyID                                                          1\n",
       "TrialCaseloadSizeID                                                     6\n",
       "DisplayOrder                                                            5\n",
       "PopulationDensity                                                 201-500\n",
       "PopulationCategory                                       98901 to highest\n",
       "Rural                         Less than or equal to 15% of the population\n",
       "TrialStructure                                              Single Tiered\n",
       "AppCrimStructure                         COLR Discretionary/IAC Mandatory\n",
       "TrialCriminalProc                                           Single Tiered\n",
       "DeathPenalty                                                          Yes\n",
       "CaseloadSize                                               Over 6 Million"
      ]
     },
     "execution_count": 28,
     "metadata": {},
     "output_type": "execute_result"
    }
   ],
   "source": [
    "samp_state.T"
   ]
  },
  {
   "cell_type": "markdown",
   "metadata": {},
   "source": [
    "### <font color='green'>Neighbors</font> "
   ]
  },
  {
   "cell_type": "code",
   "execution_count": 29,
   "metadata": {},
   "outputs": [],
   "source": [
    "def get_neighboring_states(us_state_name=None):\n",
    "    us_state_id = us_state[us_state['USStateName'] == us_state_name]['USStateID'].values[0]\n",
    "    neighbor_state_ids = list(neighbor[neighbor['USStateID'] == us_state_id]['NeighborUSStateID'].values)\n",
    "    all_neighbor_states = []\n",
    "    for neighbor_state_id in neighbor_state_ids:\n",
    "        try:\n",
    "            all_neighbor_states.append(us_state[\n",
    "                us_state['USStateID'] == neighbor_state_id]['USStateName'].values[0])\n",
    "        except IndexError:\n",
    "            all_neighbor_states.append(None)\n",
    "    return all_neighbor_states"
   ]
  },
  {
   "cell_type": "code",
   "execution_count": 30,
   "metadata": {},
   "outputs": [
    {
     "data": {
      "text/plain": [
       "['Oregon', 'Nevada', 'Arizona']"
      ]
     },
     "execution_count": 30,
     "metadata": {},
     "output_type": "execute_result"
    }
   ],
   "source": [
    "get_neighboring_states(us_state_name='California')"
   ]
  },
  {
   "cell_type": "markdown",
   "metadata": {},
   "source": [
    "#### <font color='#BC2E0F'>As JSON</font>"
   ]
  },
  {
   "cell_type": "code",
   "execution_count": 31,
   "metadata": {},
   "outputs": [],
   "source": [
    "# def get_states_and_neighbors_json():\n",
    "#     states_and_neighbors = dict()\n",
    "#     for idx, row in us_state.iterrows():\n",
    "#         states_and_neighbors[\n",
    "#             row['USStateName']] = get_neighboring_states(us_state_name=row['USStateName'])\n",
    "#     return states_and_neighbors"
   ]
  },
  {
   "cell_type": "code",
   "execution_count": 84,
   "metadata": {
    "collapsed": true
   },
   "outputs": [],
   "source": [
    "# states_and_neighbors = get_states_and_neighbors_json() # <<< TODO: Save to JSON"
   ]
  },
  {
   "cell_type": "code",
   "execution_count": 85,
   "metadata": {
    "collapsed": true
   },
   "outputs": [],
   "source": [
    "# states_and_neighbors"
   ]
  },
  {
   "cell_type": "code",
   "execution_count": 86,
   "metadata": {
    "collapsed": true
   },
   "outputs": [],
   "source": [
    "# states_and_neighbors['California']"
   ]
  },
  {
   "cell_type": "code",
   "execution_count": 87,
   "metadata": {
    "collapsed": true
   },
   "outputs": [],
   "source": [
    "# states_and_neighbors['Colorado']"
   ]
  },
  {
   "cell_type": "markdown",
   "metadata": {},
   "source": [
    "#### <font color='#BC2E0F'>As DataFrame</font>"
   ]
  },
  {
   "cell_type": "code",
   "execution_count": 32,
   "metadata": {},
   "outputs": [],
   "source": [
    "def get_states_and_neighbors_df(row):\n",
    "    return get_neighboring_states(us_state_name=row['USStateName'])"
   ]
  },
  {
   "cell_type": "code",
   "execution_count": 33,
   "metadata": {},
   "outputs": [],
   "source": [
    "samp_state['Neighbors'] = samp_state.apply(get_states_and_neighbors_df, axis=1)"
   ]
  },
  {
   "cell_type": "code",
   "execution_count": 34,
   "metadata": {},
   "outputs": [
    {
     "data": {
      "text/html": [
       "<div>\n",
       "<style scoped>\n",
       "    .dataframe tbody tr th:only-of-type {\n",
       "        vertical-align: middle;\n",
       "    }\n",
       "\n",
       "    .dataframe tbody tr th {\n",
       "        vertical-align: top;\n",
       "    }\n",
       "\n",
       "    .dataframe thead th {\n",
       "        text-align: right;\n",
       "    }\n",
       "</style>\n",
       "<table border=\"1\" class=\"dataframe\">\n",
       "  <thead>\n",
       "    <tr style=\"text-align: right;\">\n",
       "      <th></th>\n",
       "      <th>4</th>\n",
       "    </tr>\n",
       "  </thead>\n",
       "  <tbody>\n",
       "    <tr>\n",
       "      <th>USStateID</th>\n",
       "      <td>5</td>\n",
       "    </tr>\n",
       "    <tr>\n",
       "      <th>USStateName</th>\n",
       "      <td>California</td>\n",
       "    </tr>\n",
       "    <tr>\n",
       "      <th>PopulationCategoryID</th>\n",
       "      <td>7</td>\n",
       "    </tr>\n",
       "    <tr>\n",
       "      <th>PopulationDensityID</th>\n",
       "      <td>5</td>\n",
       "    </tr>\n",
       "    <tr>\n",
       "      <th>RuralID</th>\n",
       "      <td>4</td>\n",
       "    </tr>\n",
       "    <tr>\n",
       "      <th>TrialStructureID</th>\n",
       "      <td>1</td>\n",
       "    </tr>\n",
       "    <tr>\n",
       "      <th>AppellateCriminalStructureID</th>\n",
       "      <td>4</td>\n",
       "    </tr>\n",
       "    <tr>\n",
       "      <th>TrialCriminalProcessingID</th>\n",
       "      <td>1</td>\n",
       "    </tr>\n",
       "    <tr>\n",
       "      <th>DeathPenaltyID</th>\n",
       "      <td>1</td>\n",
       "    </tr>\n",
       "    <tr>\n",
       "      <th>TrialCaseloadSizeID</th>\n",
       "      <td>6</td>\n",
       "    </tr>\n",
       "    <tr>\n",
       "      <th>DisplayOrder</th>\n",
       "      <td>5</td>\n",
       "    </tr>\n",
       "    <tr>\n",
       "      <th>PopulationDensity</th>\n",
       "      <td>201-500</td>\n",
       "    </tr>\n",
       "    <tr>\n",
       "      <th>PopulationCategory</th>\n",
       "      <td>98901 to highest</td>\n",
       "    </tr>\n",
       "    <tr>\n",
       "      <th>Rural</th>\n",
       "      <td>Less than or equal to 15% of the population</td>\n",
       "    </tr>\n",
       "    <tr>\n",
       "      <th>TrialStructure</th>\n",
       "      <td>Single Tiered</td>\n",
       "    </tr>\n",
       "    <tr>\n",
       "      <th>AppCrimStructure</th>\n",
       "      <td>COLR Discretionary/IAC Mandatory</td>\n",
       "    </tr>\n",
       "    <tr>\n",
       "      <th>TrialCriminalProc</th>\n",
       "      <td>Single Tiered</td>\n",
       "    </tr>\n",
       "    <tr>\n",
       "      <th>DeathPenalty</th>\n",
       "      <td>Yes</td>\n",
       "    </tr>\n",
       "    <tr>\n",
       "      <th>CaseloadSize</th>\n",
       "      <td>Over 6 Million</td>\n",
       "    </tr>\n",
       "    <tr>\n",
       "      <th>Neighbors</th>\n",
       "      <td>[Oregon, Nevada, Arizona]</td>\n",
       "    </tr>\n",
       "  </tbody>\n",
       "</table>\n",
       "</div>"
      ],
      "text/plain": [
       "                                                                        4\n",
       "USStateID                                                               5\n",
       "USStateName                                                    California\n",
       "PopulationCategoryID                                                    7\n",
       "PopulationDensityID                                                     5\n",
       "RuralID                                                                 4\n",
       "TrialStructureID                                                        1\n",
       "AppellateCriminalStructureID                                            4\n",
       "TrialCriminalProcessingID                                               1\n",
       "DeathPenaltyID                                                          1\n",
       "TrialCaseloadSizeID                                                     6\n",
       "DisplayOrder                                                            5\n",
       "PopulationDensity                                                 201-500\n",
       "PopulationCategory                                       98901 to highest\n",
       "Rural                         Less than or equal to 15% of the population\n",
       "TrialStructure                                              Single Tiered\n",
       "AppCrimStructure                         COLR Discretionary/IAC Mandatory\n",
       "TrialCriminalProc                                           Single Tiered\n",
       "DeathPenalty                                                          Yes\n",
       "CaseloadSize                                               Over 6 Million\n",
       "Neighbors                                       [Oregon, Nevada, Arizona]"
      ]
     },
     "execution_count": 34,
     "metadata": {},
     "output_type": "execute_result"
    }
   ],
   "source": [
    "samp_state.T"
   ]
  },
  {
   "cell_type": "markdown",
   "metadata": {},
   "source": [
    "### <font color='green'>Court Names</font> "
   ]
  },
  {
   "cell_type": "code",
   "execution_count": 35,
   "metadata": {},
   "outputs": [],
   "source": [
    "def get_state_court_names(row):\n",
    "    state_court_ids = list(us_state_court[us_state_court['USStateID'] == row['USStateID']]['CourtID'].values)\n",
    "    all_state_courts = []\n",
    "    for court_id in state_court_ids:\n",
    "        try:\n",
    "            all_state_courts.append(courts[courts['CourtID'] == court_id]['CourtName'].values[0])\n",
    "        except IndexError:\n",
    "            print(colored('\\nNo court names for CourtID \"{}\" in \"{}\"\\n'.format(court_id, row['USStateName']), 'red', attrs=['bold']))\n",
    "    return all_state_courts"
   ]
  },
  {
   "cell_type": "code",
   "execution_count": 36,
   "metadata": {},
   "outputs": [],
   "source": [
    "samp_state['CourtNames'] = samp_state.apply(get_state_court_names, axis=1)"
   ]
  },
  {
   "cell_type": "code",
   "execution_count": 37,
   "metadata": {},
   "outputs": [
    {
     "data": {
      "text/html": [
       "<div>\n",
       "<style scoped>\n",
       "    .dataframe tbody tr th:only-of-type {\n",
       "        vertical-align: middle;\n",
       "    }\n",
       "\n",
       "    .dataframe tbody tr th {\n",
       "        vertical-align: top;\n",
       "    }\n",
       "\n",
       "    .dataframe thead th {\n",
       "        text-align: right;\n",
       "    }\n",
       "</style>\n",
       "<table border=\"1\" class=\"dataframe\">\n",
       "  <thead>\n",
       "    <tr style=\"text-align: right;\">\n",
       "      <th></th>\n",
       "      <th>4</th>\n",
       "    </tr>\n",
       "  </thead>\n",
       "  <tbody>\n",
       "    <tr>\n",
       "      <th>USStateID</th>\n",
       "      <td>5</td>\n",
       "    </tr>\n",
       "    <tr>\n",
       "      <th>USStateName</th>\n",
       "      <td>California</td>\n",
       "    </tr>\n",
       "    <tr>\n",
       "      <th>PopulationCategoryID</th>\n",
       "      <td>7</td>\n",
       "    </tr>\n",
       "    <tr>\n",
       "      <th>PopulationDensityID</th>\n",
       "      <td>5</td>\n",
       "    </tr>\n",
       "    <tr>\n",
       "      <th>RuralID</th>\n",
       "      <td>4</td>\n",
       "    </tr>\n",
       "    <tr>\n",
       "      <th>TrialStructureID</th>\n",
       "      <td>1</td>\n",
       "    </tr>\n",
       "    <tr>\n",
       "      <th>AppellateCriminalStructureID</th>\n",
       "      <td>4</td>\n",
       "    </tr>\n",
       "    <tr>\n",
       "      <th>TrialCriminalProcessingID</th>\n",
       "      <td>1</td>\n",
       "    </tr>\n",
       "    <tr>\n",
       "      <th>DeathPenaltyID</th>\n",
       "      <td>1</td>\n",
       "    </tr>\n",
       "    <tr>\n",
       "      <th>TrialCaseloadSizeID</th>\n",
       "      <td>6</td>\n",
       "    </tr>\n",
       "    <tr>\n",
       "      <th>DisplayOrder</th>\n",
       "      <td>5</td>\n",
       "    </tr>\n",
       "    <tr>\n",
       "      <th>PopulationDensity</th>\n",
       "      <td>201-500</td>\n",
       "    </tr>\n",
       "    <tr>\n",
       "      <th>PopulationCategory</th>\n",
       "      <td>98901 to highest</td>\n",
       "    </tr>\n",
       "    <tr>\n",
       "      <th>Rural</th>\n",
       "      <td>Less than or equal to 15% of the population</td>\n",
       "    </tr>\n",
       "    <tr>\n",
       "      <th>TrialStructure</th>\n",
       "      <td>Single Tiered</td>\n",
       "    </tr>\n",
       "    <tr>\n",
       "      <th>AppCrimStructure</th>\n",
       "      <td>COLR Discretionary/IAC Mandatory</td>\n",
       "    </tr>\n",
       "    <tr>\n",
       "      <th>TrialCriminalProc</th>\n",
       "      <td>Single Tiered</td>\n",
       "    </tr>\n",
       "    <tr>\n",
       "      <th>DeathPenalty</th>\n",
       "      <td>Yes</td>\n",
       "    </tr>\n",
       "    <tr>\n",
       "      <th>CaseloadSize</th>\n",
       "      <td>Over 6 Million</td>\n",
       "    </tr>\n",
       "    <tr>\n",
       "      <th>Neighbors</th>\n",
       "      <td>[Oregon, Nevada, Arizona]</td>\n",
       "    </tr>\n",
       "    <tr>\n",
       "      <th>CourtNames</th>\n",
       "      <td>[Supreme Court, Court of Appeal, Superior]</td>\n",
       "    </tr>\n",
       "  </tbody>\n",
       "</table>\n",
       "</div>"
      ],
      "text/plain": [
       "                                                                        4\n",
       "USStateID                                                               5\n",
       "USStateName                                                    California\n",
       "PopulationCategoryID                                                    7\n",
       "PopulationDensityID                                                     5\n",
       "RuralID                                                                 4\n",
       "TrialStructureID                                                        1\n",
       "AppellateCriminalStructureID                                            4\n",
       "TrialCriminalProcessingID                                               1\n",
       "DeathPenaltyID                                                          1\n",
       "TrialCaseloadSizeID                                                     6\n",
       "DisplayOrder                                                            5\n",
       "PopulationDensity                                                 201-500\n",
       "PopulationCategory                                       98901 to highest\n",
       "Rural                         Less than or equal to 15% of the population\n",
       "TrialStructure                                              Single Tiered\n",
       "AppCrimStructure                         COLR Discretionary/IAC Mandatory\n",
       "TrialCriminalProc                                           Single Tiered\n",
       "DeathPenalty                                                          Yes\n",
       "CaseloadSize                                               Over 6 Million\n",
       "Neighbors                                       [Oregon, Nevada, Arizona]\n",
       "CourtNames                     [Supreme Court, Court of Appeal, Superior]"
      ]
     },
     "execution_count": 37,
     "metadata": {},
     "output_type": "execute_result"
    }
   ],
   "source": [
    "samp_state.T"
   ]
  },
  {
   "cell_type": "markdown",
   "metadata": {},
   "source": [
    "## <font color='red'> State Overview Queries / Comparisons</font>"
   ]
  },
  {
   "cell_type": "code",
   "execution_count": 94,
   "metadata": {
    "collapsed": true
   },
   "outputs": [],
   "source": [
    "s = 'California'\n",
    "# s = 'New York'"
   ]
  },
  {
   "cell_type": "code",
   "execution_count": 95,
   "metadata": {
    "collapsed": true
   },
   "outputs": [],
   "source": [
    "# # State dropdown/select\n",
    "\n",
    "# from bokeh.io import output_file, show\n",
    "# from bokeh.layouts import widgetbox\n",
    "# from bokeh.models.widgets import Dropdown\n",
    "\n",
    "# output_file(\"dropdown.html\")\n",
    "\n",
    "# menu = [(\"Item 1\", \"item_1\"), (\"Item 2\", \"item_2\"), None, (\"Item 3\", \"item_3\")]\n",
    "# dropdown = Dropdown(label=\"Dropdown button\", button_type=\"warning\", menu=menu)\n",
    "\n",
    "# show(widgetbox(dropdown))"
   ]
  },
  {
   "cell_type": "code",
   "execution_count": 96,
   "metadata": {
    "collapsed": true
   },
   "outputs": [],
   "source": [
    "# Select state stats\n",
    "samp_state = us_state[us_state['USStateName'] == s]"
   ]
  },
  {
   "cell_type": "code",
   "execution_count": 97,
   "metadata": {
    "collapsed": true
   },
   "outputs": [],
   "source": [
    "# samp_state.T"
   ]
  },
  {
   "cell_type": "code",
   "execution_count": 98,
   "metadata": {},
   "outputs": [
    {
     "name": "stdout",
     "output_type": "stream",
     "text": [
      "CPU times: user 154 ms, sys: 2 ms, total: 156 ms\n",
      "Wall time: 154 ms\n"
     ]
    }
   ],
   "source": [
    "%%time \n",
    "\n",
    "# Add Population Density\n",
    "samp_state['PopulationDensity'] = samp_state.apply(get_population_density, axis=1)\n",
    "\n",
    "# Add Population Category\n",
    "samp_state['PopulationCategory'] = samp_state.apply(get_population_category, axis=1)\n",
    "\n",
    "# Add Rural Population\n",
    "samp_state['Rural'] = samp_state.apply(get_rural_description, axis=1)\n",
    "\n",
    "# Add Trial Structure\n",
    "samp_state['TrialStructure'] = samp_state.apply(get_trial_structure, axis=1)\n",
    "\n",
    "# Add Appellate Criminal Structure\n",
    "samp_state['AppCrimStructure'] = samp_state.apply(add_appellate_crim_struct, axis=1)\n",
    "\n",
    "# Add Criminal Trial Procedure\n",
    "samp_state['TrialCriminalProc'] = samp_state.apply(add_trial_criminal_process, axis=1)\n",
    "\n",
    "# Add Death Penalty\n",
    "samp_state['DeathPenalty'] = samp_state.apply(get_death_penalty, axis=1)\n",
    "\n",
    "# Add Trial Caseload Size\n",
    "samp_state['CaseloadSize'] = samp_state.apply(get_trial_caseload_size, axis=1)\n",
    "\n",
    "# Add Neighbors\n",
    "samp_state['Neighbors'] = samp_state.apply(get_states_and_neighbors_df, axis=1)\n",
    "\n",
    "# Add Court Names\n",
    "samp_state['CourtNames'] = samp_state.apply(get_state_court_names, axis=1)"
   ]
  },
  {
   "cell_type": "code",
   "execution_count": 99,
   "metadata": {},
   "outputs": [
    {
     "name": "stdout",
     "output_type": "stream",
     "text": [
      "\u001b[1m\u001b[34m\n",
      "California\u001b[0m\n"
     ]
    },
    {
     "data": {
      "text/html": [
       "<div>\n",
       "<style scoped>\n",
       "    .dataframe tbody tr th:only-of-type {\n",
       "        vertical-align: middle;\n",
       "    }\n",
       "\n",
       "    .dataframe tbody tr th {\n",
       "        vertical-align: top;\n",
       "    }\n",
       "\n",
       "    .dataframe thead th {\n",
       "        text-align: right;\n",
       "    }\n",
       "</style>\n",
       "<table border=\"1\" class=\"dataframe\">\n",
       "  <thead>\n",
       "    <tr style=\"text-align: right;\">\n",
       "      <th></th>\n",
       "      <th>4</th>\n",
       "    </tr>\n",
       "  </thead>\n",
       "  <tbody>\n",
       "    <tr>\n",
       "      <th>PopulationDensity</th>\n",
       "      <td>201-500</td>\n",
       "    </tr>\n",
       "    <tr>\n",
       "      <th>PopulationCategory</th>\n",
       "      <td>98901 to highest</td>\n",
       "    </tr>\n",
       "    <tr>\n",
       "      <th>Rural</th>\n",
       "      <td>Less than or equal to 15% of the population</td>\n",
       "    </tr>\n",
       "    <tr>\n",
       "      <th>TrialStructure</th>\n",
       "      <td>Single Tiered</td>\n",
       "    </tr>\n",
       "    <tr>\n",
       "      <th>AppCrimStructure</th>\n",
       "      <td>COLR Discretionary/IAC Mandatory</td>\n",
       "    </tr>\n",
       "    <tr>\n",
       "      <th>TrialCriminalProc</th>\n",
       "      <td>Single Tiered</td>\n",
       "    </tr>\n",
       "    <tr>\n",
       "      <th>DeathPenalty</th>\n",
       "      <td>Yes</td>\n",
       "    </tr>\n",
       "    <tr>\n",
       "      <th>CaseloadSize</th>\n",
       "      <td>Over 6 Million</td>\n",
       "    </tr>\n",
       "    <tr>\n",
       "      <th>Neighbors</th>\n",
       "      <td>[Oregon, Nevada, Arizona]</td>\n",
       "    </tr>\n",
       "    <tr>\n",
       "      <th>CourtNames</th>\n",
       "      <td>[Supreme Court, Court of Appeal, Superior]</td>\n",
       "    </tr>\n",
       "  </tbody>\n",
       "</table>\n",
       "</div>"
      ],
      "text/plain": [
       "                                                              4\n",
       "PopulationDensity                                       201-500\n",
       "PopulationCategory                             98901 to highest\n",
       "Rural               Less than or equal to 15% of the population\n",
       "TrialStructure                                    Single Tiered\n",
       "AppCrimStructure               COLR Discretionary/IAC Mandatory\n",
       "TrialCriminalProc                                 Single Tiered\n",
       "DeathPenalty                                                Yes\n",
       "CaseloadSize                                     Over 6 Million\n",
       "Neighbors                             [Oregon, Nevada, Arizona]\n",
       "CourtNames           [Supreme Court, Court of Appeal, Superior]"
      ]
     },
     "execution_count": 99,
     "metadata": {},
     "output_type": "execute_result"
    }
   ],
   "source": [
    "state_overview_cols = [\n",
    "    'PopulationDensity', 'PopulationCategory', 'Rural', \n",
    "    'TrialStructure', 'AppCrimStructure', 'TrialCriminalProc', \n",
    "    'DeathPenalty', 'CaseloadSize', 'Neighbors', 'CourtNames']\n",
    "\n",
    "print(colored('\\n{}'.format(s), 'blue', attrs=['bold']))\n",
    "samp_state[state_overview_cols].T"
   ]
  },
  {
   "cell_type": "markdown",
   "metadata": {},
   "source": [
    "### <font color='red'>TODO: Build dropdown widget for selection of multiple states</font>"
   ]
  },
  {
   "cell_type": "code",
   "execution_count": null,
   "metadata": {
    "collapsed": true
   },
   "outputs": [],
   "source": []
  },
  {
   "cell_type": "code",
   "execution_count": null,
   "metadata": {
    "collapsed": true
   },
   "outputs": [],
   "source": []
  },
  {
   "cell_type": "code",
   "execution_count": null,
   "metadata": {
    "collapsed": true
   },
   "outputs": [],
   "source": []
  },
  {
   "cell_type": "markdown",
   "metadata": {},
   "source": [
    "## <font color='orange'>All States</font>"
   ]
  },
  {
   "cell_type": "code",
   "execution_count": 298,
   "metadata": {},
   "outputs": [
    {
     "data": {
      "text/html": [
       "<div>\n",
       "<style scoped>\n",
       "    .dataframe tbody tr th:only-of-type {\n",
       "        vertical-align: middle;\n",
       "    }\n",
       "\n",
       "    .dataframe tbody tr th {\n",
       "        vertical-align: top;\n",
       "    }\n",
       "\n",
       "    .dataframe thead th {\n",
       "        text-align: right;\n",
       "    }\n",
       "</style>\n",
       "<table border=\"1\" class=\"dataframe\">\n",
       "  <thead>\n",
       "    <tr style=\"text-align: right;\">\n",
       "      <th></th>\n",
       "      <th>USStateID</th>\n",
       "      <th>USStateName</th>\n",
       "      <th>PopulationCategoryID</th>\n",
       "      <th>PopulationDensityID</th>\n",
       "      <th>RuralID</th>\n",
       "      <th>TrialStructureID</th>\n",
       "      <th>AppellateCriminalStructureID</th>\n",
       "      <th>TrialCriminalProcessingID</th>\n",
       "      <th>DeathPenaltyID</th>\n",
       "      <th>TrialCaseloadSizeID</th>\n",
       "      <th>DisplayOrder</th>\n",
       "    </tr>\n",
       "  </thead>\n",
       "  <tbody>\n",
       "    <tr>\n",
       "      <th>0</th>\n",
       "      <td>1</td>\n",
       "      <td>Alabama</td>\n",
       "      <td>4</td>\n",
       "      <td>3</td>\n",
       "      <td>2</td>\n",
       "      <td>2</td>\n",
       "      <td>6</td>\n",
       "      <td>2</td>\n",
       "      <td>-99</td>\n",
       "      <td>3</td>\n",
       "      <td>1</td>\n",
       "    </tr>\n",
       "    <tr>\n",
       "      <th>1</th>\n",
       "      <td>2</td>\n",
       "      <td>Alaska</td>\n",
       "      <td>1</td>\n",
       "      <td>1</td>\n",
       "      <td>2</td>\n",
       "      <td>2</td>\n",
       "      <td>4</td>\n",
       "      <td>1</td>\n",
       "      <td>0</td>\n",
       "      <td>1</td>\n",
       "      <td>2</td>\n",
       "    </tr>\n",
       "    <tr>\n",
       "      <th>2</th>\n",
       "      <td>3</td>\n",
       "      <td>Arizona</td>\n",
       "      <td>5</td>\n",
       "      <td>3</td>\n",
       "      <td>4</td>\n",
       "      <td>2</td>\n",
       "      <td>4</td>\n",
       "      <td>2</td>\n",
       "      <td>1</td>\n",
       "      <td>4</td>\n",
       "      <td>3</td>\n",
       "    </tr>\n",
       "    <tr>\n",
       "      <th>3</th>\n",
       "      <td>4</td>\n",
       "      <td>Arkansas</td>\n",
       "      <td>3</td>\n",
       "      <td>3</td>\n",
       "      <td>2</td>\n",
       "      <td>2</td>\n",
       "      <td>4</td>\n",
       "      <td>1</td>\n",
       "      <td>1</td>\n",
       "      <td>4</td>\n",
       "      <td>4</td>\n",
       "    </tr>\n",
       "    <tr>\n",
       "      <th>4</th>\n",
       "      <td>5</td>\n",
       "      <td>California</td>\n",
       "      <td>7</td>\n",
       "      <td>5</td>\n",
       "      <td>4</td>\n",
       "      <td>1</td>\n",
       "      <td>4</td>\n",
       "      <td>1</td>\n",
       "      <td>1</td>\n",
       "      <td>6</td>\n",
       "      <td>5</td>\n",
       "    </tr>\n",
       "  </tbody>\n",
       "</table>\n",
       "</div>"
      ],
      "text/plain": [
       "   USStateID USStateName  PopulationCategoryID  PopulationDensityID  RuralID  \\\n",
       "0          1     Alabama                     4                    3        2   \n",
       "1          2      Alaska                     1                    1        2   \n",
       "2          3     Arizona                     5                    3        4   \n",
       "3          4    Arkansas                     3                    3        2   \n",
       "4          5  California                     7                    5        4   \n",
       "\n",
       "   TrialStructureID  AppellateCriminalStructureID  TrialCriminalProcessingID  \\\n",
       "0                 2                             6                          2   \n",
       "1                 2                             4                          1   \n",
       "2                 2                             4                          2   \n",
       "3                 2                             4                          1   \n",
       "4                 1                             4                          1   \n",
       "\n",
       "   DeathPenaltyID  TrialCaseloadSizeID  DisplayOrder  \n",
       "0             -99                    3             1  \n",
       "1               0                    1             2  \n",
       "2               1                    4             3  \n",
       "3               1                    4             4  \n",
       "4               1                    6             5  "
      ]
     },
     "execution_count": 298,
     "metadata": {},
     "output_type": "execute_result"
    }
   ],
   "source": [
    "all_states = us_state.copy()\n",
    "all_states.head()"
   ]
  },
  {
   "cell_type": "markdown",
   "metadata": {},
   "source": [
    "## <font color='red'>First DataFrame \"all_states_display\"</font>"
   ]
  },
  {
   "cell_type": "code",
   "execution_count": 299,
   "metadata": {
    "collapsed": true
   },
   "outputs": [],
   "source": [
    "all_states_display = us_state.copy()"
   ]
  },
  {
   "cell_type": "code",
   "execution_count": 300,
   "metadata": {
    "collapsed": true
   },
   "outputs": [],
   "source": [
    "all_states_display['NeighboringStates'] = all_states_display.apply(get_states_and_neighbors_df, axis=1)"
   ]
  },
  {
   "cell_type": "code",
   "execution_count": 301,
   "metadata": {},
   "outputs": [
    {
     "data": {
      "text/html": [
       "<div>\n",
       "<style scoped>\n",
       "    .dataframe tbody tr th:only-of-type {\n",
       "        vertical-align: middle;\n",
       "    }\n",
       "\n",
       "    .dataframe tbody tr th {\n",
       "        vertical-align: top;\n",
       "    }\n",
       "\n",
       "    .dataframe thead th {\n",
       "        text-align: right;\n",
       "    }\n",
       "</style>\n",
       "<table border=\"1\" class=\"dataframe\">\n",
       "  <thead>\n",
       "    <tr style=\"text-align: right;\">\n",
       "      <th></th>\n",
       "      <th>USStateName</th>\n",
       "      <th>NeighboringStates</th>\n",
       "    </tr>\n",
       "  </thead>\n",
       "  <tbody>\n",
       "    <tr>\n",
       "      <th>0</th>\n",
       "      <td>Alabama</td>\n",
       "      <td>[Mississippi, Tennessee, Georgia, Florida]</td>\n",
       "    </tr>\n",
       "    <tr>\n",
       "      <th>1</th>\n",
       "      <td>Alaska</td>\n",
       "      <td>[None]</td>\n",
       "    </tr>\n",
       "    <tr>\n",
       "      <th>2</th>\n",
       "      <td>Arizona</td>\n",
       "      <td>[California, Nevada, Utah, Colorado, New Mexico]</td>\n",
       "    </tr>\n",
       "    <tr>\n",
       "      <th>3</th>\n",
       "      <td>Arkansas</td>\n",
       "      <td>[Louisiana, Texas, Oklahoma, Missouri, Tenness...</td>\n",
       "    </tr>\n",
       "    <tr>\n",
       "      <th>4</th>\n",
       "      <td>California</td>\n",
       "      <td>[Oregon, Nevada, Arizona]</td>\n",
       "    </tr>\n",
       "  </tbody>\n",
       "</table>\n",
       "</div>"
      ],
      "text/plain": [
       "  USStateName                                  NeighboringStates\n",
       "0     Alabama         [Mississippi, Tennessee, Georgia, Florida]\n",
       "1      Alaska                                             [None]\n",
       "2     Arizona   [California, Nevada, Utah, Colorado, New Mexico]\n",
       "3    Arkansas  [Louisiana, Texas, Oklahoma, Missouri, Tenness...\n",
       "4  California                          [Oregon, Nevada, Arizona]"
      ]
     },
     "execution_count": 301,
     "metadata": {},
     "output_type": "execute_result"
    }
   ],
   "source": [
    "all_states_display[['USStateName', 'NeighboringStates']].head()"
   ]
  },
  {
   "cell_type": "code",
   "execution_count": 302,
   "metadata": {
    "collapsed": true
   },
   "outputs": [],
   "source": [
    "all_states['PopulationDensity'] = all_states.apply(get_population_density, axis=1)\n",
    "all_states['PopulationCategory'] = all_states.apply(get_population_category, axis=1)\n",
    "all_states['Rural'] = all_states.apply(get_rural_description, axis=1)\n",
    "all_states['TrialStructure'] = all_states.apply(get_trial_structure, axis=1)\n",
    "all_states['AppCrimStructure'] = all_states.apply(add_appellate_crim_struct, axis=1)\n",
    "all_states['TrialCriminalProc'] = all_states.apply(add_trial_criminal_process, axis=1)\n",
    "all_states['DeathPenalty'] = all_states.apply(get_death_penalty, axis=1)\n",
    "all_states['CaseloadSize'] = all_states.apply(get_trial_caseload_size, axis=1)"
   ]
  },
  {
   "cell_type": "code",
   "execution_count": 303,
   "metadata": {},
   "outputs": [
    {
     "data": {
      "text/html": [
       "<div>\n",
       "<style scoped>\n",
       "    .dataframe tbody tr th:only-of-type {\n",
       "        vertical-align: middle;\n",
       "    }\n",
       "\n",
       "    .dataframe tbody tr th {\n",
       "        vertical-align: top;\n",
       "    }\n",
       "\n",
       "    .dataframe thead th {\n",
       "        text-align: right;\n",
       "    }\n",
       "</style>\n",
       "<table border=\"1\" class=\"dataframe\">\n",
       "  <thead>\n",
       "    <tr style=\"text-align: right;\">\n",
       "      <th></th>\n",
       "      <th>USStateName</th>\n",
       "      <th>PopulationDensity</th>\n",
       "      <th>PopulationCategory</th>\n",
       "      <th>Rural</th>\n",
       "      <th>TrialStructure</th>\n",
       "      <th>AppCrimStructure</th>\n",
       "      <th>TrialCriminalProc</th>\n",
       "      <th>DeathPenalty</th>\n",
       "      <th>CaseloadSize</th>\n",
       "    </tr>\n",
       "  </thead>\n",
       "  <tbody>\n",
       "    <tr>\n",
       "      <th>0</th>\n",
       "      <td>Alabama</td>\n",
       "      <td>51-100</td>\n",
       "      <td>35801 to 47800</td>\n",
       "      <td>26-49% of the population</td>\n",
       "      <td>Two Tiered</td>\n",
       "      <td>IAC by Subject Matter</td>\n",
       "      <td>Two Tiered</td>\n",
       "      <td>Missing information</td>\n",
       "      <td>501 Thousand-1 Million</td>\n",
       "    </tr>\n",
       "    <tr>\n",
       "      <th>1</th>\n",
       "      <td>Alaska</td>\n",
       "      <td>0-20</td>\n",
       "      <td>up to 9900</td>\n",
       "      <td>26-49% of the population</td>\n",
       "      <td>Two Tiered</td>\n",
       "      <td>COLR Discretionary/IAC Mandatory</td>\n",
       "      <td>Single Tiered</td>\n",
       "      <td>No</td>\n",
       "      <td>Under 200 Thousand</td>\n",
       "    </tr>\n",
       "    <tr>\n",
       "      <th>2</th>\n",
       "      <td>Arizona</td>\n",
       "      <td>51-100</td>\n",
       "      <td>47801 to 64900</td>\n",
       "      <td>Less than or equal to 15% of the population</td>\n",
       "      <td>Two Tiered</td>\n",
       "      <td>COLR Discretionary/IAC Mandatory</td>\n",
       "      <td>Two Tiered</td>\n",
       "      <td>Yes</td>\n",
       "      <td>1.1 Million-3 Million</td>\n",
       "    </tr>\n",
       "    <tr>\n",
       "      <th>3</th>\n",
       "      <td>Arkansas</td>\n",
       "      <td>51-100</td>\n",
       "      <td>18601 to 35800</td>\n",
       "      <td>26-49% of the population</td>\n",
       "      <td>Two Tiered</td>\n",
       "      <td>COLR Discretionary/IAC Mandatory</td>\n",
       "      <td>Single Tiered</td>\n",
       "      <td>Yes</td>\n",
       "      <td>1.1 Million-3 Million</td>\n",
       "    </tr>\n",
       "    <tr>\n",
       "      <th>4</th>\n",
       "      <td>California</td>\n",
       "      <td>201-500</td>\n",
       "      <td>98901 to highest</td>\n",
       "      <td>Less than or equal to 15% of the population</td>\n",
       "      <td>Single Tiered</td>\n",
       "      <td>COLR Discretionary/IAC Mandatory</td>\n",
       "      <td>Single Tiered</td>\n",
       "      <td>Yes</td>\n",
       "      <td>Over 6 Million</td>\n",
       "    </tr>\n",
       "  </tbody>\n",
       "</table>\n",
       "</div>"
      ],
      "text/plain": [
       "  USStateName PopulationDensity PopulationCategory  \\\n",
       "0     Alabama            51-100     35801 to 47800   \n",
       "1      Alaska              0-20         up to 9900   \n",
       "2     Arizona            51-100     47801 to 64900   \n",
       "3    Arkansas            51-100     18601 to 35800   \n",
       "4  California           201-500   98901 to highest   \n",
       "\n",
       "                                         Rural TrialStructure  \\\n",
       "0                     26-49% of the population     Two Tiered   \n",
       "1                     26-49% of the population     Two Tiered   \n",
       "2  Less than or equal to 15% of the population     Two Tiered   \n",
       "3                     26-49% of the population     Two Tiered   \n",
       "4  Less than or equal to 15% of the population  Single Tiered   \n",
       "\n",
       "                   AppCrimStructure TrialCriminalProc         DeathPenalty  \\\n",
       "0             IAC by Subject Matter        Two Tiered  Missing information   \n",
       "1  COLR Discretionary/IAC Mandatory     Single Tiered                   No   \n",
       "2  COLR Discretionary/IAC Mandatory        Two Tiered                  Yes   \n",
       "3  COLR Discretionary/IAC Mandatory     Single Tiered                  Yes   \n",
       "4  COLR Discretionary/IAC Mandatory     Single Tiered                  Yes   \n",
       "\n",
       "             CaseloadSize  \n",
       "0  501 Thousand-1 Million  \n",
       "1      Under 200 Thousand  \n",
       "2   1.1 Million-3 Million  \n",
       "3   1.1 Million-3 Million  \n",
       "4          Over 6 Million  "
      ]
     },
     "execution_count": 303,
     "metadata": {},
     "output_type": "execute_result"
    }
   ],
   "source": [
    "id_cols = [\n",
    "    'USStateID', 'PopulationCategoryID', 'PopulationDensityID', 'DisplayOrder',\n",
    "    'RuralID', 'TrialStructureID', 'AppellateCriminalStructureID', 'DeathPenaltyID',\n",
    "    'TrialCriminalProcessingID', 'DenathPenaltyID', 'TrialCaseloadSizeID']\n",
    "\n",
    "all_states[[col for col in all_states.columns if col not in id_cols]].head()"
   ]
  },
  {
   "cell_type": "markdown",
   "metadata": {},
   "source": [
    "### <font color='red'>INSERT Population Density Slider</font>"
   ]
  },
  {
   "cell_type": "code",
   "execution_count": 304,
   "metadata": {
    "collapsed": true
   },
   "outputs": [],
   "source": [
    "def get_pop_density_low(row):\n",
    "    return row['PopulationDensity'].split('-')[0]\n",
    "\n",
    "def get_pop_density_high(row):\n",
    "    return row['PopulationDensity'].split('-')[-1]"
   ]
  },
  {
   "cell_type": "code",
   "execution_count": 305,
   "metadata": {},
   "outputs": [
    {
     "data": {
      "text/plain": [
       "51-100          10\n",
       "501-1000         4\n",
       "21-50            8\n",
       "201-500          9\n",
       "101-200         11\n",
       "1001-highest     4\n",
       "0-20             7\n",
       "Name: PopulationDensity, dtype: int64"
      ]
     },
     "execution_count": 305,
     "metadata": {},
     "output_type": "execute_result"
    }
   ],
   "source": [
    "all_states['PopulationDensity'].value_counts().sort_index(ascending=False)"
   ]
  },
  {
   "cell_type": "code",
   "execution_count": 306,
   "metadata": {
    "collapsed": true
   },
   "outputs": [],
   "source": [
    "all_states_display = all_states.copy()"
   ]
  },
  {
   "cell_type": "code",
   "execution_count": 307,
   "metadata": {
    "collapsed": true
   },
   "outputs": [],
   "source": [
    "all_states_display['PopulationLow'] = all_states_display.apply(get_pop_density_low, axis=1)\n",
    "all_states_display['PopulationHigh'] = all_states_display.apply(get_pop_density_high, axis=1)"
   ]
  },
  {
   "cell_type": "code",
   "execution_count": 308,
   "metadata": {},
   "outputs": [
    {
     "data": {
      "text/html": [
       "<div>\n",
       "<style scoped>\n",
       "    .dataframe tbody tr th:only-of-type {\n",
       "        vertical-align: middle;\n",
       "    }\n",
       "\n",
       "    .dataframe tbody tr th {\n",
       "        vertical-align: top;\n",
       "    }\n",
       "\n",
       "    .dataframe thead th {\n",
       "        text-align: right;\n",
       "    }\n",
       "</style>\n",
       "<table border=\"1\" class=\"dataframe\">\n",
       "  <thead>\n",
       "    <tr style=\"text-align: right;\">\n",
       "      <th></th>\n",
       "      <th>USStateName</th>\n",
       "      <th>PopulationLow</th>\n",
       "      <th>PopulationHigh</th>\n",
       "    </tr>\n",
       "  </thead>\n",
       "  <tbody>\n",
       "    <tr>\n",
       "      <th>0</th>\n",
       "      <td>Alabama</td>\n",
       "      <td>51</td>\n",
       "      <td>100</td>\n",
       "    </tr>\n",
       "    <tr>\n",
       "      <th>1</th>\n",
       "      <td>Alaska</td>\n",
       "      <td>0</td>\n",
       "      <td>20</td>\n",
       "    </tr>\n",
       "    <tr>\n",
       "      <th>2</th>\n",
       "      <td>Arizona</td>\n",
       "      <td>51</td>\n",
       "      <td>100</td>\n",
       "    </tr>\n",
       "    <tr>\n",
       "      <th>3</th>\n",
       "      <td>Arkansas</td>\n",
       "      <td>51</td>\n",
       "      <td>100</td>\n",
       "    </tr>\n",
       "    <tr>\n",
       "      <th>4</th>\n",
       "      <td>California</td>\n",
       "      <td>201</td>\n",
       "      <td>500</td>\n",
       "    </tr>\n",
       "  </tbody>\n",
       "</table>\n",
       "</div>"
      ],
      "text/plain": [
       "  USStateName PopulationLow PopulationHigh\n",
       "0     Alabama            51            100\n",
       "1      Alaska             0             20\n",
       "2     Arizona            51            100\n",
       "3    Arkansas            51            100\n",
       "4  California           201            500"
      ]
     },
     "execution_count": 308,
     "metadata": {},
     "output_type": "execute_result"
    }
   ],
   "source": [
    "all_states_display[['USStateName', 'PopulationLow', 'PopulationHigh']].head()"
   ]
  },
  {
   "cell_type": "markdown",
   "metadata": {},
   "source": [
    "__Remove `highest` from values and convert to numeric__"
   ]
  },
  {
   "cell_type": "code",
   "execution_count": 309,
   "metadata": {
    "collapsed": true
   },
   "outputs": [],
   "source": [
    "def remove_highest_str(row, col):\n",
    "    if row[col] == 'highest':\n",
    "        return np.nan\n",
    "    else:\n",
    "        return row[col]"
   ]
  },
  {
   "cell_type": "code",
   "execution_count": 310,
   "metadata": {
    "collapsed": true
   },
   "outputs": [],
   "source": [
    "all_states_display['PopulationHigh'] = all_states_display.apply(remove_highest_str, args=('PopulationHigh',), axis=1)"
   ]
  },
  {
   "cell_type": "code",
   "execution_count": 311,
   "metadata": {},
   "outputs": [
    {
     "data": {
      "text/plain": [
       "101     11\n",
       "51      10\n",
       "201      9\n",
       "21       8\n",
       "0        7\n",
       "1001     4\n",
       "501      4\n",
       "Name: PopulationLow, dtype: int64"
      ]
     },
     "execution_count": 311,
     "metadata": {},
     "output_type": "execute_result"
    }
   ],
   "source": [
    "all_states_display['PopulationLow'].value_counts()"
   ]
  },
  {
   "cell_type": "code",
   "execution_count": 312,
   "metadata": {},
   "outputs": [
    {
     "data": {
      "text/plain": [
       "200     11\n",
       "100     10\n",
       "500      9\n",
       "50       8\n",
       "20       7\n",
       "1000     4\n",
       "Name: PopulationHigh, dtype: int64"
      ]
     },
     "execution_count": 312,
     "metadata": {},
     "output_type": "execute_result"
    }
   ],
   "source": [
    "all_states_display['PopulationHigh'].value_counts()"
   ]
  },
  {
   "cell_type": "code",
   "execution_count": 313,
   "metadata": {
    "collapsed": true
   },
   "outputs": [],
   "source": [
    "all_states_display['PopulationLow'] = all_states_display['PopulationLow'].astype('float64')\n",
    "all_states_display['PopulationHigh'] = all_states_display['PopulationHigh'].astype('float64')"
   ]
  },
  {
   "cell_type": "code",
   "execution_count": 314,
   "metadata": {},
   "outputs": [
    {
     "name": "stdout",
     "output_type": "stream",
     "text": [
      "PopulationLow     float64\n",
      "PopulationHigh    float64\n",
      "dtype: object\n"
     ]
    },
    {
     "data": {
      "text/html": [
       "<div>\n",
       "<style scoped>\n",
       "    .dataframe tbody tr th:only-of-type {\n",
       "        vertical-align: middle;\n",
       "    }\n",
       "\n",
       "    .dataframe tbody tr th {\n",
       "        vertical-align: top;\n",
       "    }\n",
       "\n",
       "    .dataframe thead th {\n",
       "        text-align: right;\n",
       "    }\n",
       "</style>\n",
       "<table border=\"1\" class=\"dataframe\">\n",
       "  <thead>\n",
       "    <tr style=\"text-align: right;\">\n",
       "      <th></th>\n",
       "      <th>USStateName</th>\n",
       "      <th>PopulationLow</th>\n",
       "      <th>PopulationHigh</th>\n",
       "    </tr>\n",
       "  </thead>\n",
       "  <tbody>\n",
       "    <tr>\n",
       "      <th>0</th>\n",
       "      <td>Alabama</td>\n",
       "      <td>51.0</td>\n",
       "      <td>100.0</td>\n",
       "    </tr>\n",
       "    <tr>\n",
       "      <th>1</th>\n",
       "      <td>Alaska</td>\n",
       "      <td>0.0</td>\n",
       "      <td>20.0</td>\n",
       "    </tr>\n",
       "    <tr>\n",
       "      <th>2</th>\n",
       "      <td>Arizona</td>\n",
       "      <td>51.0</td>\n",
       "      <td>100.0</td>\n",
       "    </tr>\n",
       "    <tr>\n",
       "      <th>3</th>\n",
       "      <td>Arkansas</td>\n",
       "      <td>51.0</td>\n",
       "      <td>100.0</td>\n",
       "    </tr>\n",
       "    <tr>\n",
       "      <th>4</th>\n",
       "      <td>California</td>\n",
       "      <td>201.0</td>\n",
       "      <td>500.0</td>\n",
       "    </tr>\n",
       "  </tbody>\n",
       "</table>\n",
       "</div>"
      ],
      "text/plain": [
       "  USStateName  PopulationLow  PopulationHigh\n",
       "0     Alabama           51.0           100.0\n",
       "1      Alaska            0.0            20.0\n",
       "2     Arizona           51.0           100.0\n",
       "3    Arkansas           51.0           100.0\n",
       "4  California          201.0           500.0"
      ]
     },
     "execution_count": 314,
     "metadata": {},
     "output_type": "execute_result"
    }
   ],
   "source": [
    "print(all_states_display[['PopulationLow', 'PopulationHigh']].dtypes)\n",
    "all_states_display[['USStateName', 'PopulationLow', 'PopulationHigh']].head()"
   ]
  },
  {
   "cell_type": "markdown",
   "metadata": {},
   "source": [
    "### <font color='red'>INSERT Population Category Slider</font>"
   ]
  },
  {
   "cell_type": "code",
   "execution_count": 315,
   "metadata": {},
   "outputs": [
    {
     "data": {
      "text/html": [
       "<div>\n",
       "<style scoped>\n",
       "    .dataframe tbody tr th:only-of-type {\n",
       "        vertical-align: middle;\n",
       "    }\n",
       "\n",
       "    .dataframe tbody tr th {\n",
       "        vertical-align: top;\n",
       "    }\n",
       "\n",
       "    .dataframe thead th {\n",
       "        text-align: right;\n",
       "    }\n",
       "</style>\n",
       "<table border=\"1\" class=\"dataframe\">\n",
       "  <thead>\n",
       "    <tr style=\"text-align: right;\">\n",
       "      <th></th>\n",
       "      <th>USStateName</th>\n",
       "      <th>PopulationCategory</th>\n",
       "    </tr>\n",
       "  </thead>\n",
       "  <tbody>\n",
       "    <tr>\n",
       "      <th>0</th>\n",
       "      <td>Alabama</td>\n",
       "      <td>35801 to 47800</td>\n",
       "    </tr>\n",
       "    <tr>\n",
       "      <th>1</th>\n",
       "      <td>Alaska</td>\n",
       "      <td>up to 9900</td>\n",
       "    </tr>\n",
       "    <tr>\n",
       "      <th>2</th>\n",
       "      <td>Arizona</td>\n",
       "      <td>47801 to 64900</td>\n",
       "    </tr>\n",
       "    <tr>\n",
       "      <th>3</th>\n",
       "      <td>Arkansas</td>\n",
       "      <td>18601 to 35800</td>\n",
       "    </tr>\n",
       "    <tr>\n",
       "      <th>4</th>\n",
       "      <td>California</td>\n",
       "      <td>98901 to highest</td>\n",
       "    </tr>\n",
       "  </tbody>\n",
       "</table>\n",
       "</div>"
      ],
      "text/plain": [
       "  USStateName PopulationCategory\n",
       "0     Alabama     35801 to 47800\n",
       "1      Alaska         up to 9900\n",
       "2     Arizona     47801 to 64900\n",
       "3    Arkansas     18601 to 35800\n",
       "4  California   98901 to highest"
      ]
     },
     "execution_count": 315,
     "metadata": {},
     "output_type": "execute_result"
    }
   ],
   "source": [
    "all_states_display[['USStateName', 'PopulationCategory']].head()"
   ]
  },
  {
   "cell_type": "code",
   "execution_count": 316,
   "metadata": {
    "collapsed": true
   },
   "outputs": [],
   "source": [
    "def add_population_category_low(row):\n",
    "    return row['PopulationCategory'].split(' to ')[0]\n",
    "\n",
    "def add_population_category_high(row):\n",
    "    return row['PopulationCategory'].split(' to ')[-1]"
   ]
  },
  {
   "cell_type": "code",
   "execution_count": 317,
   "metadata": {
    "collapsed": true
   },
   "outputs": [],
   "source": [
    "all_states_display['PopulationCategoryLow'] = all_states_display.apply(add_population_category_low, axis=1)\n",
    "all_states_display['PopulationCategoryHigh'] = all_states_display.apply(add_population_category_high, axis=1)"
   ]
  },
  {
   "cell_type": "code",
   "execution_count": 318,
   "metadata": {},
   "outputs": [
    {
     "data": {
      "text/plain": [
       "up       9\n",
       "35801    8\n",
       "47801    8\n",
       "64901    7\n",
       "98901    7\n",
       "18601    7\n",
       "9901     7\n",
       "Name: PopulationCategoryLow, dtype: int64"
      ]
     },
     "execution_count": 318,
     "metadata": {},
     "output_type": "execute_result"
    }
   ],
   "source": [
    "all_states_display['PopulationCategoryLow'].value_counts()"
   ]
  },
  {
   "cell_type": "code",
   "execution_count": 319,
   "metadata": {},
   "outputs": [
    {
     "data": {
      "text/plain": [
       "9900       9\n",
       "47800      8\n",
       "64900      8\n",
       "98900      7\n",
       "35800      7\n",
       "18600      7\n",
       "highest    7\n",
       "Name: PopulationCategoryHigh, dtype: int64"
      ]
     },
     "execution_count": 319,
     "metadata": {},
     "output_type": "execute_result"
    }
   ],
   "source": [
    "all_states_display['PopulationCategoryHigh'].value_counts()"
   ]
  },
  {
   "cell_type": "code",
   "execution_count": 320,
   "metadata": {
    "collapsed": true
   },
   "outputs": [],
   "source": [
    "all_states_display['PopulationCategoryHigh'] = all_states_display.apply(remove_highest_str, args=('PopulationCategoryHigh',), axis=1)"
   ]
  },
  {
   "cell_type": "code",
   "execution_count": 321,
   "metadata": {
    "collapsed": true
   },
   "outputs": [],
   "source": [
    "def remove_up_str(row, col):\n",
    "    if row[col] == 'up':\n",
    "        return 0\n",
    "    else:\n",
    "        return row[col]"
   ]
  },
  {
   "cell_type": "code",
   "execution_count": 322,
   "metadata": {
    "collapsed": true
   },
   "outputs": [],
   "source": [
    "all_states_display['PopulationCategoryLow'] = all_states_display.apply(remove_up_str, args=('PopulationCategoryLow',), axis=1)"
   ]
  },
  {
   "cell_type": "code",
   "execution_count": 323,
   "metadata": {
    "collapsed": true
   },
   "outputs": [],
   "source": [
    "all_states_display['PopulationCategoryLow'] = all_states_display['PopulationCategoryLow'].astype('float64')\n",
    "all_states_display['PopulationCategoryHigh'] = all_states_display['PopulationCategoryHigh'].astype('float64')"
   ]
  },
  {
   "cell_type": "code",
   "execution_count": 324,
   "metadata": {},
   "outputs": [
    {
     "name": "stdout",
     "output_type": "stream",
     "text": [
      "PopulationCategoryLow     float64\n",
      "PopulationCategoryHigh    float64\n",
      "dtype: object\n"
     ]
    },
    {
     "data": {
      "text/html": [
       "<div>\n",
       "<style scoped>\n",
       "    .dataframe tbody tr th:only-of-type {\n",
       "        vertical-align: middle;\n",
       "    }\n",
       "\n",
       "    .dataframe tbody tr th {\n",
       "        vertical-align: top;\n",
       "    }\n",
       "\n",
       "    .dataframe thead th {\n",
       "        text-align: right;\n",
       "    }\n",
       "</style>\n",
       "<table border=\"1\" class=\"dataframe\">\n",
       "  <thead>\n",
       "    <tr style=\"text-align: right;\">\n",
       "      <th></th>\n",
       "      <th>USStateName</th>\n",
       "      <th>PopulationCategoryLow</th>\n",
       "      <th>PopulationCategoryHigh</th>\n",
       "    </tr>\n",
       "  </thead>\n",
       "  <tbody>\n",
       "    <tr>\n",
       "      <th>0</th>\n",
       "      <td>Alabama</td>\n",
       "      <td>35801.0</td>\n",
       "      <td>47800.0</td>\n",
       "    </tr>\n",
       "    <tr>\n",
       "      <th>1</th>\n",
       "      <td>Alaska</td>\n",
       "      <td>0.0</td>\n",
       "      <td>9900.0</td>\n",
       "    </tr>\n",
       "    <tr>\n",
       "      <th>2</th>\n",
       "      <td>Arizona</td>\n",
       "      <td>47801.0</td>\n",
       "      <td>64900.0</td>\n",
       "    </tr>\n",
       "    <tr>\n",
       "      <th>3</th>\n",
       "      <td>Arkansas</td>\n",
       "      <td>18601.0</td>\n",
       "      <td>35800.0</td>\n",
       "    </tr>\n",
       "    <tr>\n",
       "      <th>4</th>\n",
       "      <td>California</td>\n",
       "      <td>98901.0</td>\n",
       "      <td>NaN</td>\n",
       "    </tr>\n",
       "  </tbody>\n",
       "</table>\n",
       "</div>"
      ],
      "text/plain": [
       "  USStateName  PopulationCategoryLow  PopulationCategoryHigh\n",
       "0     Alabama                35801.0                 47800.0\n",
       "1      Alaska                    0.0                  9900.0\n",
       "2     Arizona                47801.0                 64900.0\n",
       "3    Arkansas                18601.0                 35800.0\n",
       "4  California                98901.0                     NaN"
      ]
     },
     "execution_count": 324,
     "metadata": {},
     "output_type": "execute_result"
    }
   ],
   "source": [
    "print(all_states_display[['PopulationCategoryLow', 'PopulationCategoryHigh']].dtypes)\n",
    "all_states_display[['USStateName', 'PopulationCategoryLow', 'PopulationCategoryHigh']].head()"
   ]
  },
  {
   "cell_type": "markdown",
   "metadata": {},
   "source": [
    "### <font color='red'>INSERT Rural % Slider</font>"
   ]
  },
  {
   "cell_type": "code",
   "execution_count": 325,
   "metadata": {},
   "outputs": [
    {
     "data": {
      "text/plain": [
       "26-49% of the population                          22\n",
       "16-25% of the population                          13\n",
       "Less than or equal to 15% of the population       11\n",
       "Greater than or equal to 50% of the population     5\n",
       "Missing information                                2\n",
       "Name: Rural, dtype: int64"
      ]
     },
     "execution_count": 325,
     "metadata": {},
     "output_type": "execute_result"
    }
   ],
   "source": [
    "all_states_display['Rural'].value_counts()"
   ]
  },
  {
   "cell_type": "code",
   "execution_count": 326,
   "metadata": {
    "collapsed": true
   },
   "outputs": [],
   "source": [
    "def get_rural_low(row):\n",
    "    if '-' in row['Rural']:\n",
    "        return row['Rural'].split('-')[0]\n",
    "    elif 'Less than or equal to' in row['Rural']:\n",
    "        return 0\n",
    "    elif 'Greater than or equal to' in row['Rural']:\n",
    "        return re.search('\\d+', row['Rural']).group(0)\n",
    "    elif 'Missing information' in row['Rural']:\n",
    "        return np.nan"
   ]
  },
  {
   "cell_type": "code",
   "execution_count": 327,
   "metadata": {
    "collapsed": true
   },
   "outputs": [],
   "source": [
    "all_states_display['RuralLow'] = all_states_display.apply(get_rural_low, axis=1)"
   ]
  },
  {
   "cell_type": "code",
   "execution_count": 328,
   "metadata": {
    "collapsed": true
   },
   "outputs": [],
   "source": [
    "all_states_display['RuralLow'] = all_states_display['RuralLow'].astype('float64')"
   ]
  },
  {
   "cell_type": "code",
   "execution_count": 329,
   "metadata": {
    "collapsed": true
   },
   "outputs": [],
   "source": [
    "def get_rural_high(row):\n",
    "    if '-' in row['Rural']:\n",
    "        return row['Rural'].split('-')[-1].rstrip('% of the population')\n",
    "    elif 'Less than or equal to' in row['Rural']:\n",
    "        return re.search('\\d+', row['Rural']).group(0)\n",
    "    elif 'Greater than or equal to' in row['Rural']:\n",
    "        return 100\n",
    "    elif 'Missing information' in row['Rural']:\n",
    "        return np.nan"
   ]
  },
  {
   "cell_type": "code",
   "execution_count": 330,
   "metadata": {
    "collapsed": true
   },
   "outputs": [],
   "source": [
    "all_states_display['RuralHigh'] = all_states_display.apply(get_rural_high, axis=1)"
   ]
  },
  {
   "cell_type": "code",
   "execution_count": 331,
   "metadata": {
    "collapsed": true
   },
   "outputs": [],
   "source": [
    "all_states_display['RuralHigh'] = all_states_display['RuralHigh'].astype('float64')"
   ]
  },
  {
   "cell_type": "code",
   "execution_count": 332,
   "metadata": {},
   "outputs": [
    {
     "name": "stdout",
     "output_type": "stream",
     "text": [
      "RuralLow     float64\n",
      "RuralHigh    float64\n",
      "dtype: object\n"
     ]
    },
    {
     "data": {
      "text/html": [
       "<div>\n",
       "<style scoped>\n",
       "    .dataframe tbody tr th:only-of-type {\n",
       "        vertical-align: middle;\n",
       "    }\n",
       "\n",
       "    .dataframe tbody tr th {\n",
       "        vertical-align: top;\n",
       "    }\n",
       "\n",
       "    .dataframe thead th {\n",
       "        text-align: right;\n",
       "    }\n",
       "</style>\n",
       "<table border=\"1\" class=\"dataframe\">\n",
       "  <thead>\n",
       "    <tr style=\"text-align: right;\">\n",
       "      <th></th>\n",
       "      <th>USStateName</th>\n",
       "      <th>RuralLow</th>\n",
       "      <th>RuralHigh</th>\n",
       "    </tr>\n",
       "  </thead>\n",
       "  <tbody>\n",
       "    <tr>\n",
       "      <th>0</th>\n",
       "      <td>Alabama</td>\n",
       "      <td>26.0</td>\n",
       "      <td>49.0</td>\n",
       "    </tr>\n",
       "    <tr>\n",
       "      <th>1</th>\n",
       "      <td>Alaska</td>\n",
       "      <td>26.0</td>\n",
       "      <td>49.0</td>\n",
       "    </tr>\n",
       "    <tr>\n",
       "      <th>2</th>\n",
       "      <td>Arizona</td>\n",
       "      <td>0.0</td>\n",
       "      <td>15.0</td>\n",
       "    </tr>\n",
       "    <tr>\n",
       "      <th>3</th>\n",
       "      <td>Arkansas</td>\n",
       "      <td>26.0</td>\n",
       "      <td>49.0</td>\n",
       "    </tr>\n",
       "    <tr>\n",
       "      <th>4</th>\n",
       "      <td>California</td>\n",
       "      <td>0.0</td>\n",
       "      <td>15.0</td>\n",
       "    </tr>\n",
       "  </tbody>\n",
       "</table>\n",
       "</div>"
      ],
      "text/plain": [
       "  USStateName  RuralLow  RuralHigh\n",
       "0     Alabama      26.0       49.0\n",
       "1      Alaska      26.0       49.0\n",
       "2     Arizona       0.0       15.0\n",
       "3    Arkansas      26.0       49.0\n",
       "4  California       0.0       15.0"
      ]
     },
     "execution_count": 332,
     "metadata": {},
     "output_type": "execute_result"
    }
   ],
   "source": [
    "print(all_states_display[['RuralLow', 'RuralHigh']].dtypes)\n",
    "all_states_display[['USStateName', 'RuralLow', 'RuralHigh']].head()"
   ]
  },
  {
   "cell_type": "markdown",
   "metadata": {},
   "source": [
    "### <font color='red'>INSERT Caseload Size Slider</font>"
   ]
  },
  {
   "cell_type": "code",
   "execution_count": 333,
   "metadata": {},
   "outputs": [
    {
     "data": {
      "text/plain": [
       "1.1 Million-3 Million        12\n",
       "501 Thousand-1 Million       12\n",
       "Under 200 Thousand           11\n",
       "201 Thousand-500 Thousand     8\n",
       "3.1 Million-6 Million         7\n",
       "Over 6 Million                3\n",
       "Name: CaseloadSize, dtype: int64"
      ]
     },
     "execution_count": 333,
     "metadata": {},
     "output_type": "execute_result"
    }
   ],
   "source": [
    "all_states_display['CaseloadSize'].value_counts()"
   ]
  },
  {
   "cell_type": "code",
   "execution_count": 334,
   "metadata": {
    "collapsed": true
   },
   "outputs": [],
   "source": [
    "def get_caseload_size_low(row):\n",
    "    if row['CaseloadSize'] == 'Under 200 Thousand':\n",
    "        return 0\n",
    "    elif row['CaseloadSize'] == '201 Thousand-500 Thousand':\n",
    "        return 201000\n",
    "    elif row['CaseloadSize'] == '501 Thousand-1 Million':\n",
    "        return 501000\n",
    "    elif row['CaseloadSize'] == '1.1 Million-3 Million':\n",
    "        return 1100000\n",
    "    elif row['CaseloadSize'] == '3.1 Million-6 Million':\n",
    "        return 3100000\n",
    "    elif row['CaseloadSize'] == 'Over 6 Million':\n",
    "        return 6000000\n",
    "    \n",
    "def get_caseload_size_high(row):\n",
    "    if row['CaseloadSize'] == 'Under 200 Thousand':\n",
    "        return 200000\n",
    "    elif row['CaseloadSize'] == '201 Thousand-500 Thousand':\n",
    "        return 500000\n",
    "    elif row['CaseloadSize'] == '501 Thousand-1 Million':\n",
    "        return 1000000\n",
    "    elif row['CaseloadSize'] == '1.1 Million-3 Million':\n",
    "        return 3000000\n",
    "    elif row['CaseloadSize'] == '3.1 Million-6 Million':\n",
    "        return 6000000\n",
    "    elif row['CaseloadSize'] == 'Over 6 Million':\n",
    "        return 10000000 # <<< Arbitrary value"
   ]
  },
  {
   "cell_type": "code",
   "execution_count": 335,
   "metadata": {
    "collapsed": true
   },
   "outputs": [],
   "source": [
    "all_states_display['CaseloadLow'] = all_states_display.apply(get_caseload_size_low, axis=1)\n",
    "all_states_display['CaseloadHigh'] = all_states_display.apply(get_caseload_size_high, axis=1)"
   ]
  },
  {
   "cell_type": "code",
   "execution_count": 336,
   "metadata": {},
   "outputs": [
    {
     "name": "stdout",
     "output_type": "stream",
     "text": [
      "CaseloadLow     int64\n",
      "CaseloadHigh    int64\n",
      "dtype: object\n"
     ]
    },
    {
     "data": {
      "text/html": [
       "<div>\n",
       "<style scoped>\n",
       "    .dataframe tbody tr th:only-of-type {\n",
       "        vertical-align: middle;\n",
       "    }\n",
       "\n",
       "    .dataframe tbody tr th {\n",
       "        vertical-align: top;\n",
       "    }\n",
       "\n",
       "    .dataframe thead th {\n",
       "        text-align: right;\n",
       "    }\n",
       "</style>\n",
       "<table border=\"1\" class=\"dataframe\">\n",
       "  <thead>\n",
       "    <tr style=\"text-align: right;\">\n",
       "      <th></th>\n",
       "      <th>USStateName</th>\n",
       "      <th>CaseloadSize</th>\n",
       "      <th>CaseloadLow</th>\n",
       "      <th>CaseloadHigh</th>\n",
       "    </tr>\n",
       "  </thead>\n",
       "  <tbody>\n",
       "    <tr>\n",
       "      <th>0</th>\n",
       "      <td>Alabama</td>\n",
       "      <td>501 Thousand-1 Million</td>\n",
       "      <td>501000</td>\n",
       "      <td>1000000</td>\n",
       "    </tr>\n",
       "    <tr>\n",
       "      <th>1</th>\n",
       "      <td>Alaska</td>\n",
       "      <td>Under 200 Thousand</td>\n",
       "      <td>0</td>\n",
       "      <td>200000</td>\n",
       "    </tr>\n",
       "    <tr>\n",
       "      <th>2</th>\n",
       "      <td>Arizona</td>\n",
       "      <td>1.1 Million-3 Million</td>\n",
       "      <td>1100000</td>\n",
       "      <td>3000000</td>\n",
       "    </tr>\n",
       "    <tr>\n",
       "      <th>3</th>\n",
       "      <td>Arkansas</td>\n",
       "      <td>1.1 Million-3 Million</td>\n",
       "      <td>1100000</td>\n",
       "      <td>3000000</td>\n",
       "    </tr>\n",
       "    <tr>\n",
       "      <th>4</th>\n",
       "      <td>California</td>\n",
       "      <td>Over 6 Million</td>\n",
       "      <td>6000000</td>\n",
       "      <td>10000000</td>\n",
       "    </tr>\n",
       "  </tbody>\n",
       "</table>\n",
       "</div>"
      ],
      "text/plain": [
       "  USStateName            CaseloadSize  CaseloadLow  CaseloadHigh\n",
       "0     Alabama  501 Thousand-1 Million       501000       1000000\n",
       "1      Alaska      Under 200 Thousand            0        200000\n",
       "2     Arizona   1.1 Million-3 Million      1100000       3000000\n",
       "3    Arkansas   1.1 Million-3 Million      1100000       3000000\n",
       "4  California          Over 6 Million      6000000      10000000"
      ]
     },
     "execution_count": 336,
     "metadata": {},
     "output_type": "execute_result"
    }
   ],
   "source": [
    "print(all_states_display[['CaseloadLow', 'CaseloadHigh']].dtypes)\n",
    "all_states_display[['USStateName', 'CaseloadSize', 'CaseloadLow', 'CaseloadHigh']].head()"
   ]
  },
  {
   "cell_type": "markdown",
   "metadata": {
    "collapsed": true
   },
   "source": [
    "## <font color='red'> QGrid Widget </font>"
   ]
  },
  {
   "cell_type": "code",
   "execution_count": 139,
   "metadata": {
    "collapsed": true
   },
   "outputs": [],
   "source": [
    "# !pip install qgrid"
   ]
  },
  {
   "cell_type": "code",
   "execution_count": 140,
   "metadata": {
    "collapsed": true
   },
   "outputs": [],
   "source": [
    "# !jupyter nbextension enable --py --sys-prefix qgrid"
   ]
  },
  {
   "cell_type": "code",
   "execution_count": 141,
   "metadata": {
    "collapsed": true
   },
   "outputs": [],
   "source": [
    "import qgrid"
   ]
  },
  {
   "cell_type": "code",
   "execution_count": 142,
   "metadata": {
    "collapsed": true
   },
   "outputs": [],
   "source": [
    "# all_states_display.to_csv('all_states_display.csv', index=False)"
   ]
  },
  {
   "cell_type": "code",
   "execution_count": 143,
   "metadata": {
    "collapsed": true
   },
   "outputs": [],
   "source": [
    "# all_states_display.T"
   ]
  },
  {
   "cell_type": "code",
   "execution_count": 144,
   "metadata": {
    "collapsed": true
   },
   "outputs": [],
   "source": [
    "# all_states_display[['RuralLow', 'RuralHigh']].dtypes"
   ]
  },
  {
   "cell_type": "code",
   "execution_count": 145,
   "metadata": {
    "collapsed": true
   },
   "outputs": [],
   "source": [
    "# usastates"
   ]
  },
  {
   "cell_type": "code",
   "execution_count": 337,
   "metadata": {
    "collapsed": true
   },
   "outputs": [],
   "source": [
    "qgrid_df = all_states_display.copy()"
   ]
  },
  {
   "cell_type": "code",
   "execution_count": 338,
   "metadata": {
    "collapsed": true
   },
   "outputs": [],
   "source": [
    "display_cols = [\n",
    "    'State', 'PopDensity', 'Rural', \n",
    "    'TrialStructure', 'CrimProc', \n",
    "    'DeathPen', 'CaseloadSize']"
   ]
  },
  {
   "cell_type": "code",
   "execution_count": 339,
   "metadata": {
    "collapsed": true
   },
   "outputs": [],
   "source": [
    "qgrid_df.rename(columns={\n",
    "    'USStateName': 'State', \n",
    "    'PopulationDensity': 'PopDensity', \n",
    "#     'PopulationCategory': 'PopCategory',\n",
    "    'TrialCriminalProc': 'CrimProc',\n",
    "    'DeathPenalty': 'DeathPen'}, inplace=True)"
   ]
  },
  {
   "cell_type": "code",
   "execution_count": 340,
   "metadata": {},
   "outputs": [
    {
     "data": {
      "application/vnd.jupyter.widget-view+json": {
       "model_id": "8b704c8877654af48caafd0aa26c9183",
       "version_major": 2,
       "version_minor": 0
      },
      "text/plain": [
       "QgridWidget(grid_options={'fullWidthRows': True, 'syncColumnCellResize': True, 'forceFitColumns': True, 'defau…"
      ]
     },
     "metadata": {},
     "output_type": "display_data"
    }
   ],
   "source": [
    "qgrid_widget = qgrid.show_grid(qgrid_df[display_cols], show_toolbar=True)\n",
    "qgrid_widget"
   ]
  },
  {
   "cell_type": "code",
   "execution_count": 147,
   "metadata": {},
   "outputs": [
    {
     "data": {
      "text/plain": [
       "Two Tiered       27\n",
       "Single Tiered    26\n",
       "Name: TrialCriminalProc, dtype: int64"
      ]
     },
     "execution_count": 147,
     "metadata": {},
     "output_type": "execute_result"
    }
   ],
   "source": [
    "all_states_display['TrialCriminalProc'].value_counts()"
   ]
  },
  {
   "cell_type": "markdown",
   "metadata": {},
   "source": [
    "# <font color='blue'>State Court Stats</font>\n",
    "\n",
    "<img src='StateCourtData.png'></img>"
   ]
  },
  {
   "cell_type": "code",
   "execution_count": 148,
   "metadata": {},
   "outputs": [
    {
     "data": {
      "text/html": [
       "<div>\n",
       "<style scoped>\n",
       "    .dataframe tbody tr th:only-of-type {\n",
       "        vertical-align: middle;\n",
       "    }\n",
       "\n",
       "    .dataframe tbody tr th {\n",
       "        vertical-align: top;\n",
       "    }\n",
       "\n",
       "    .dataframe thead th {\n",
       "        text-align: right;\n",
       "    }\n",
       "</style>\n",
       "<table border=\"1\" class=\"dataframe\">\n",
       "  <thead>\n",
       "    <tr style=\"text-align: right;\">\n",
       "      <th></th>\n",
       "      <th>USStateID</th>\n",
       "      <th>USStateName</th>\n",
       "      <th>PopulationCategoryID</th>\n",
       "      <th>PopulationDensityID</th>\n",
       "      <th>RuralID</th>\n",
       "      <th>TrialStructureID</th>\n",
       "      <th>AppellateCriminalStructureID</th>\n",
       "      <th>TrialCriminalProcessingID</th>\n",
       "      <th>DeathPenaltyID</th>\n",
       "      <th>TrialCaseloadSizeID</th>\n",
       "      <th>...</th>\n",
       "      <th>DeathPenalty</th>\n",
       "      <th>CaseloadSize</th>\n",
       "      <th>PopulationLow</th>\n",
       "      <th>PopulationHigh</th>\n",
       "      <th>PopulationCategoryLow</th>\n",
       "      <th>PopulationCategoryHigh</th>\n",
       "      <th>RuralLow</th>\n",
       "      <th>RuralHigh</th>\n",
       "      <th>CaseloadLow</th>\n",
       "      <th>CaseloadHigh</th>\n",
       "    </tr>\n",
       "  </thead>\n",
       "  <tbody>\n",
       "    <tr>\n",
       "      <th>0</th>\n",
       "      <td>1</td>\n",
       "      <td>Alabama</td>\n",
       "      <td>4</td>\n",
       "      <td>3</td>\n",
       "      <td>2</td>\n",
       "      <td>2</td>\n",
       "      <td>6</td>\n",
       "      <td>2</td>\n",
       "      <td>-99</td>\n",
       "      <td>3</td>\n",
       "      <td>...</td>\n",
       "      <td>Missing information</td>\n",
       "      <td>501 Thousand-1 Million</td>\n",
       "      <td>51.0</td>\n",
       "      <td>100.0</td>\n",
       "      <td>35801.0</td>\n",
       "      <td>47800.0</td>\n",
       "      <td>26.0</td>\n",
       "      <td>49.0</td>\n",
       "      <td>501000</td>\n",
       "      <td>1000000</td>\n",
       "    </tr>\n",
       "    <tr>\n",
       "      <th>1</th>\n",
       "      <td>2</td>\n",
       "      <td>Alaska</td>\n",
       "      <td>1</td>\n",
       "      <td>1</td>\n",
       "      <td>2</td>\n",
       "      <td>2</td>\n",
       "      <td>4</td>\n",
       "      <td>1</td>\n",
       "      <td>0</td>\n",
       "      <td>1</td>\n",
       "      <td>...</td>\n",
       "      <td>No</td>\n",
       "      <td>Under 200 Thousand</td>\n",
       "      <td>0.0</td>\n",
       "      <td>20.0</td>\n",
       "      <td>0.0</td>\n",
       "      <td>9900.0</td>\n",
       "      <td>26.0</td>\n",
       "      <td>49.0</td>\n",
       "      <td>0</td>\n",
       "      <td>200000</td>\n",
       "    </tr>\n",
       "    <tr>\n",
       "      <th>2</th>\n",
       "      <td>3</td>\n",
       "      <td>Arizona</td>\n",
       "      <td>5</td>\n",
       "      <td>3</td>\n",
       "      <td>4</td>\n",
       "      <td>2</td>\n",
       "      <td>4</td>\n",
       "      <td>2</td>\n",
       "      <td>1</td>\n",
       "      <td>4</td>\n",
       "      <td>...</td>\n",
       "      <td>Yes</td>\n",
       "      <td>1.1 Million-3 Million</td>\n",
       "      <td>51.0</td>\n",
       "      <td>100.0</td>\n",
       "      <td>47801.0</td>\n",
       "      <td>64900.0</td>\n",
       "      <td>0.0</td>\n",
       "      <td>15.0</td>\n",
       "      <td>1100000</td>\n",
       "      <td>3000000</td>\n",
       "    </tr>\n",
       "  </tbody>\n",
       "</table>\n",
       "<p>3 rows × 27 columns</p>\n",
       "</div>"
      ],
      "text/plain": [
       "   USStateID USStateName  PopulationCategoryID  PopulationDensityID  RuralID  \\\n",
       "0          1     Alabama                     4                    3        2   \n",
       "1          2      Alaska                     1                    1        2   \n",
       "2          3     Arizona                     5                    3        4   \n",
       "\n",
       "   TrialStructureID  AppellateCriminalStructureID  TrialCriminalProcessingID  \\\n",
       "0                 2                             6                          2   \n",
       "1                 2                             4                          1   \n",
       "2                 2                             4                          2   \n",
       "\n",
       "   DeathPenaltyID  TrialCaseloadSizeID      ...              DeathPenalty  \\\n",
       "0             -99                    3      ...       Missing information   \n",
       "1               0                    1      ...                        No   \n",
       "2               1                    4      ...                       Yes   \n",
       "\n",
       "             CaseloadSize PopulationLow PopulationHigh PopulationCategoryLow  \\\n",
       "0  501 Thousand-1 Million          51.0          100.0               35801.0   \n",
       "1      Under 200 Thousand           0.0           20.0                   0.0   \n",
       "2   1.1 Million-3 Million          51.0          100.0               47801.0   \n",
       "\n",
       "  PopulationCategoryHigh RuralLow RuralHigh CaseloadLow  CaseloadHigh  \n",
       "0                47800.0     26.0      49.0      501000       1000000  \n",
       "1                 9900.0     26.0      49.0           0        200000  \n",
       "2                64900.0      0.0      15.0     1100000       3000000  \n",
       "\n",
       "[3 rows x 27 columns]"
      ]
     },
     "execution_count": 148,
     "metadata": {},
     "output_type": "execute_result"
    }
   ],
   "source": [
    "all_states_display.head(3)"
   ]
  },
  {
   "cell_type": "markdown",
   "metadata": {},
   "source": [
    "### <font color='green'>State Court Names</font>\n",
    "\n",
    "#### <font color='red'>Possible Issue: `No court names for CourtID \"244\" in \"Oklahoma\"` (See below)</font>"
   ]
  },
  {
   "cell_type": "code",
   "execution_count": 149,
   "metadata": {
    "collapsed": true
   },
   "outputs": [],
   "source": [
    "# def get_state_court_names(row):\n",
    "#     state_court_ids = list(us_state_court[us_state_court['USStateID'] == row['USStateID']]['CourtID'].values)\n",
    "#     all_state_courts = []\n",
    "#     for court_id in state_court_ids:\n",
    "#         try:\n",
    "#             all_state_courts.append(courts[courts['CourtID'] == court_id]['CourtName'].values[0])\n",
    "#         except IndexError:\n",
    "#             print(colored('\\nNo court names for CourtID \"{}\" in \"{}\"\\n'.format(court_id, row['USStateName']), 'red', attrs=['bold']))\n",
    "#     return all_state_courts\n",
    "\n",
    "\n",
    "# Moved this function above"
   ]
  },
  {
   "cell_type": "code",
   "execution_count": 150,
   "metadata": {},
   "outputs": [
    {
     "name": "stdout",
     "output_type": "stream",
     "text": [
      "\u001b[1m\u001b[31m\n",
      "No court names for CourtID \"244\" in \"Oklahoma\"\n",
      "\u001b[0m\n"
     ]
    }
   ],
   "source": [
    "state_court_names = all_states_display.apply(get_state_court_names, axis=1)"
   ]
  },
  {
   "cell_type": "code",
   "execution_count": 151,
   "metadata": {},
   "outputs": [
    {
     "data": {
      "text/plain": [
       "['Supreme Court',\n",
       " 'Court of Civil Appeals',\n",
       " 'Court of Criminal Appeals',\n",
       " 'Circuit',\n",
       " 'District',\n",
       " 'Municipal',\n",
       " 'Probate']"
      ]
     },
     "execution_count": 151,
     "metadata": {},
     "output_type": "execute_result"
    }
   ],
   "source": [
    "state_court_names[0]"
   ]
  },
  {
   "cell_type": "code",
   "execution_count": 152,
   "metadata": {},
   "outputs": [
    {
     "name": "stdout",
     "output_type": "stream",
     "text": [
      "\u001b[1m\u001b[31m\n",
      "No court names for CourtID \"244\" in \"Oklahoma\"\n",
      "\u001b[0m\n"
     ]
    }
   ],
   "source": [
    "all_states_display['AllStateCourtNames'] = all_states_display.apply(get_state_court_names, axis=1)"
   ]
  },
  {
   "cell_type": "code",
   "execution_count": 156,
   "metadata": {
    "collapsed": true
   },
   "outputs": [],
   "source": [
    "# all_states_display[['USStateName', 'NeighboringStates', 'AllStateCourtNames']].head()"
   ]
  },
  {
   "cell_type": "code",
   "execution_count": 155,
   "metadata": {},
   "outputs": [
    {
     "data": {
      "text/html": [
       "<div>\n",
       "<style scoped>\n",
       "    .dataframe tbody tr th:only-of-type {\n",
       "        vertical-align: middle;\n",
       "    }\n",
       "\n",
       "    .dataframe tbody tr th {\n",
       "        vertical-align: top;\n",
       "    }\n",
       "\n",
       "    .dataframe thead th {\n",
       "        text-align: right;\n",
       "    }\n",
       "</style>\n",
       "<table border=\"1\" class=\"dataframe\">\n",
       "  <thead>\n",
       "    <tr style=\"text-align: right;\">\n",
       "      <th></th>\n",
       "      <th>0</th>\n",
       "      <th>1</th>\n",
       "      <th>2</th>\n",
       "      <th>3</th>\n",
       "      <th>4</th>\n",
       "    </tr>\n",
       "  </thead>\n",
       "  <tbody>\n",
       "    <tr>\n",
       "      <th>USStateID</th>\n",
       "      <td>1</td>\n",
       "      <td>2</td>\n",
       "      <td>3</td>\n",
       "      <td>4</td>\n",
       "      <td>5</td>\n",
       "    </tr>\n",
       "    <tr>\n",
       "      <th>USStateName</th>\n",
       "      <td>Alabama</td>\n",
       "      <td>Alaska</td>\n",
       "      <td>Arizona</td>\n",
       "      <td>Arkansas</td>\n",
       "      <td>California</td>\n",
       "    </tr>\n",
       "    <tr>\n",
       "      <th>PopulationCategoryID</th>\n",
       "      <td>4</td>\n",
       "      <td>1</td>\n",
       "      <td>5</td>\n",
       "      <td>3</td>\n",
       "      <td>7</td>\n",
       "    </tr>\n",
       "    <tr>\n",
       "      <th>PopulationDensityID</th>\n",
       "      <td>3</td>\n",
       "      <td>1</td>\n",
       "      <td>3</td>\n",
       "      <td>3</td>\n",
       "      <td>5</td>\n",
       "    </tr>\n",
       "    <tr>\n",
       "      <th>RuralID</th>\n",
       "      <td>2</td>\n",
       "      <td>2</td>\n",
       "      <td>4</td>\n",
       "      <td>2</td>\n",
       "      <td>4</td>\n",
       "    </tr>\n",
       "    <tr>\n",
       "      <th>TrialStructureID</th>\n",
       "      <td>2</td>\n",
       "      <td>2</td>\n",
       "      <td>2</td>\n",
       "      <td>2</td>\n",
       "      <td>1</td>\n",
       "    </tr>\n",
       "    <tr>\n",
       "      <th>AppellateCriminalStructureID</th>\n",
       "      <td>6</td>\n",
       "      <td>4</td>\n",
       "      <td>4</td>\n",
       "      <td>4</td>\n",
       "      <td>4</td>\n",
       "    </tr>\n",
       "    <tr>\n",
       "      <th>TrialCriminalProcessingID</th>\n",
       "      <td>2</td>\n",
       "      <td>1</td>\n",
       "      <td>2</td>\n",
       "      <td>1</td>\n",
       "      <td>1</td>\n",
       "    </tr>\n",
       "    <tr>\n",
       "      <th>DeathPenaltyID</th>\n",
       "      <td>-99</td>\n",
       "      <td>0</td>\n",
       "      <td>1</td>\n",
       "      <td>1</td>\n",
       "      <td>1</td>\n",
       "    </tr>\n",
       "    <tr>\n",
       "      <th>TrialCaseloadSizeID</th>\n",
       "      <td>3</td>\n",
       "      <td>1</td>\n",
       "      <td>4</td>\n",
       "      <td>4</td>\n",
       "      <td>6</td>\n",
       "    </tr>\n",
       "    <tr>\n",
       "      <th>DisplayOrder</th>\n",
       "      <td>1</td>\n",
       "      <td>2</td>\n",
       "      <td>3</td>\n",
       "      <td>4</td>\n",
       "      <td>5</td>\n",
       "    </tr>\n",
       "    <tr>\n",
       "      <th>PopulationDensity</th>\n",
       "      <td>51-100</td>\n",
       "      <td>0-20</td>\n",
       "      <td>51-100</td>\n",
       "      <td>51-100</td>\n",
       "      <td>201-500</td>\n",
       "    </tr>\n",
       "    <tr>\n",
       "      <th>PopulationCategory</th>\n",
       "      <td>35801 to 47800</td>\n",
       "      <td>up to 9900</td>\n",
       "      <td>47801 to 64900</td>\n",
       "      <td>18601 to 35800</td>\n",
       "      <td>98901 to highest</td>\n",
       "    </tr>\n",
       "    <tr>\n",
       "      <th>Rural</th>\n",
       "      <td>26-49% of the population</td>\n",
       "      <td>26-49% of the population</td>\n",
       "      <td>Less than or equal to 15% of the population</td>\n",
       "      <td>26-49% of the population</td>\n",
       "      <td>Less than or equal to 15% of the population</td>\n",
       "    </tr>\n",
       "    <tr>\n",
       "      <th>TrialStructure</th>\n",
       "      <td>Two Tiered</td>\n",
       "      <td>Two Tiered</td>\n",
       "      <td>Two Tiered</td>\n",
       "      <td>Two Tiered</td>\n",
       "      <td>Single Tiered</td>\n",
       "    </tr>\n",
       "    <tr>\n",
       "      <th>AppCrimStructure</th>\n",
       "      <td>IAC by Subject Matter</td>\n",
       "      <td>COLR Discretionary/IAC Mandatory</td>\n",
       "      <td>COLR Discretionary/IAC Mandatory</td>\n",
       "      <td>COLR Discretionary/IAC Mandatory</td>\n",
       "      <td>COLR Discretionary/IAC Mandatory</td>\n",
       "    </tr>\n",
       "    <tr>\n",
       "      <th>TrialCriminalProc</th>\n",
       "      <td>Two Tiered</td>\n",
       "      <td>Single Tiered</td>\n",
       "      <td>Two Tiered</td>\n",
       "      <td>Single Tiered</td>\n",
       "      <td>Single Tiered</td>\n",
       "    </tr>\n",
       "    <tr>\n",
       "      <th>DeathPenalty</th>\n",
       "      <td>Missing information</td>\n",
       "      <td>No</td>\n",
       "      <td>Yes</td>\n",
       "      <td>Yes</td>\n",
       "      <td>Yes</td>\n",
       "    </tr>\n",
       "    <tr>\n",
       "      <th>CaseloadSize</th>\n",
       "      <td>501 Thousand-1 Million</td>\n",
       "      <td>Under 200 Thousand</td>\n",
       "      <td>1.1 Million-3 Million</td>\n",
       "      <td>1.1 Million-3 Million</td>\n",
       "      <td>Over 6 Million</td>\n",
       "    </tr>\n",
       "    <tr>\n",
       "      <th>PopulationLow</th>\n",
       "      <td>51</td>\n",
       "      <td>0</td>\n",
       "      <td>51</td>\n",
       "      <td>51</td>\n",
       "      <td>201</td>\n",
       "    </tr>\n",
       "    <tr>\n",
       "      <th>PopulationHigh</th>\n",
       "      <td>100</td>\n",
       "      <td>20</td>\n",
       "      <td>100</td>\n",
       "      <td>100</td>\n",
       "      <td>500</td>\n",
       "    </tr>\n",
       "    <tr>\n",
       "      <th>PopulationCategoryLow</th>\n",
       "      <td>35801</td>\n",
       "      <td>0</td>\n",
       "      <td>47801</td>\n",
       "      <td>18601</td>\n",
       "      <td>98901</td>\n",
       "    </tr>\n",
       "    <tr>\n",
       "      <th>PopulationCategoryHigh</th>\n",
       "      <td>47800</td>\n",
       "      <td>9900</td>\n",
       "      <td>64900</td>\n",
       "      <td>35800</td>\n",
       "      <td>NaN</td>\n",
       "    </tr>\n",
       "    <tr>\n",
       "      <th>RuralLow</th>\n",
       "      <td>26</td>\n",
       "      <td>26</td>\n",
       "      <td>0</td>\n",
       "      <td>26</td>\n",
       "      <td>0</td>\n",
       "    </tr>\n",
       "    <tr>\n",
       "      <th>RuralHigh</th>\n",
       "      <td>49</td>\n",
       "      <td>49</td>\n",
       "      <td>15</td>\n",
       "      <td>49</td>\n",
       "      <td>15</td>\n",
       "    </tr>\n",
       "    <tr>\n",
       "      <th>CaseloadLow</th>\n",
       "      <td>501000</td>\n",
       "      <td>0</td>\n",
       "      <td>1100000</td>\n",
       "      <td>1100000</td>\n",
       "      <td>6000000</td>\n",
       "    </tr>\n",
       "    <tr>\n",
       "      <th>CaseloadHigh</th>\n",
       "      <td>1000000</td>\n",
       "      <td>200000</td>\n",
       "      <td>3000000</td>\n",
       "      <td>3000000</td>\n",
       "      <td>10000000</td>\n",
       "    </tr>\n",
       "    <tr>\n",
       "      <th>AllStateCourtNames</th>\n",
       "      <td>[Supreme Court, Court of Civil Appeals, Court ...</td>\n",
       "      <td>[Supreme Court, Court of Appeals, District, Su...</td>\n",
       "      <td>[Supreme Court, Court of Appeal, Justice of th...</td>\n",
       "      <td>[Supreme Court, Court of Appeals, Circuit, Dis...</td>\n",
       "      <td>[Supreme Court, Court of Appeal, Superior]</td>\n",
       "    </tr>\n",
       "  </tbody>\n",
       "</table>\n",
       "</div>"
      ],
      "text/plain": [
       "                                                                              0  \\\n",
       "USStateID                                                                     1   \n",
       "USStateName                                                             Alabama   \n",
       "PopulationCategoryID                                                          4   \n",
       "PopulationDensityID                                                           3   \n",
       "RuralID                                                                       2   \n",
       "TrialStructureID                                                              2   \n",
       "AppellateCriminalStructureID                                                  6   \n",
       "TrialCriminalProcessingID                                                     2   \n",
       "DeathPenaltyID                                                              -99   \n",
       "TrialCaseloadSizeID                                                           3   \n",
       "DisplayOrder                                                                  1   \n",
       "PopulationDensity                                                        51-100   \n",
       "PopulationCategory                                               35801 to 47800   \n",
       "Rural                                                  26-49% of the population   \n",
       "TrialStructure                                                       Two Tiered   \n",
       "AppCrimStructure                                          IAC by Subject Matter   \n",
       "TrialCriminalProc                                                    Two Tiered   \n",
       "DeathPenalty                                                Missing information   \n",
       "CaseloadSize                                             501 Thousand-1 Million   \n",
       "PopulationLow                                                                51   \n",
       "PopulationHigh                                                              100   \n",
       "PopulationCategoryLow                                                     35801   \n",
       "PopulationCategoryHigh                                                    47800   \n",
       "RuralLow                                                                     26   \n",
       "RuralHigh                                                                    49   \n",
       "CaseloadLow                                                              501000   \n",
       "CaseloadHigh                                                            1000000   \n",
       "AllStateCourtNames            [Supreme Court, Court of Civil Appeals, Court ...   \n",
       "\n",
       "                                                                              1  \\\n",
       "USStateID                                                                     2   \n",
       "USStateName                                                              Alaska   \n",
       "PopulationCategoryID                                                          1   \n",
       "PopulationDensityID                                                           1   \n",
       "RuralID                                                                       2   \n",
       "TrialStructureID                                                              2   \n",
       "AppellateCriminalStructureID                                                  4   \n",
       "TrialCriminalProcessingID                                                     1   \n",
       "DeathPenaltyID                                                                0   \n",
       "TrialCaseloadSizeID                                                           1   \n",
       "DisplayOrder                                                                  2   \n",
       "PopulationDensity                                                          0-20   \n",
       "PopulationCategory                                                   up to 9900   \n",
       "Rural                                                  26-49% of the population   \n",
       "TrialStructure                                                       Two Tiered   \n",
       "AppCrimStructure                               COLR Discretionary/IAC Mandatory   \n",
       "TrialCriminalProc                                                 Single Tiered   \n",
       "DeathPenalty                                                                 No   \n",
       "CaseloadSize                                                 Under 200 Thousand   \n",
       "PopulationLow                                                                 0   \n",
       "PopulationHigh                                                               20   \n",
       "PopulationCategoryLow                                                         0   \n",
       "PopulationCategoryHigh                                                     9900   \n",
       "RuralLow                                                                     26   \n",
       "RuralHigh                                                                    49   \n",
       "CaseloadLow                                                                   0   \n",
       "CaseloadHigh                                                             200000   \n",
       "AllStateCourtNames            [Supreme Court, Court of Appeals, District, Su...   \n",
       "\n",
       "                                                                              2  \\\n",
       "USStateID                                                                     3   \n",
       "USStateName                                                             Arizona   \n",
       "PopulationCategoryID                                                          5   \n",
       "PopulationDensityID                                                           3   \n",
       "RuralID                                                                       4   \n",
       "TrialStructureID                                                              2   \n",
       "AppellateCriminalStructureID                                                  4   \n",
       "TrialCriminalProcessingID                                                     2   \n",
       "DeathPenaltyID                                                                1   \n",
       "TrialCaseloadSizeID                                                           4   \n",
       "DisplayOrder                                                                  3   \n",
       "PopulationDensity                                                        51-100   \n",
       "PopulationCategory                                               47801 to 64900   \n",
       "Rural                               Less than or equal to 15% of the population   \n",
       "TrialStructure                                                       Two Tiered   \n",
       "AppCrimStructure                               COLR Discretionary/IAC Mandatory   \n",
       "TrialCriminalProc                                                    Two Tiered   \n",
       "DeathPenalty                                                                Yes   \n",
       "CaseloadSize                                              1.1 Million-3 Million   \n",
       "PopulationLow                                                                51   \n",
       "PopulationHigh                                                              100   \n",
       "PopulationCategoryLow                                                     47801   \n",
       "PopulationCategoryHigh                                                    64900   \n",
       "RuralLow                                                                      0   \n",
       "RuralHigh                                                                    15   \n",
       "CaseloadLow                                                             1100000   \n",
       "CaseloadHigh                                                            3000000   \n",
       "AllStateCourtNames            [Supreme Court, Court of Appeal, Justice of th...   \n",
       "\n",
       "                                                                              3  \\\n",
       "USStateID                                                                     4   \n",
       "USStateName                                                            Arkansas   \n",
       "PopulationCategoryID                                                          3   \n",
       "PopulationDensityID                                                           3   \n",
       "RuralID                                                                       2   \n",
       "TrialStructureID                                                              2   \n",
       "AppellateCriminalStructureID                                                  4   \n",
       "TrialCriminalProcessingID                                                     1   \n",
       "DeathPenaltyID                                                                1   \n",
       "TrialCaseloadSizeID                                                           4   \n",
       "DisplayOrder                                                                  4   \n",
       "PopulationDensity                                                        51-100   \n",
       "PopulationCategory                                               18601 to 35800   \n",
       "Rural                                                  26-49% of the population   \n",
       "TrialStructure                                                       Two Tiered   \n",
       "AppCrimStructure                               COLR Discretionary/IAC Mandatory   \n",
       "TrialCriminalProc                                                 Single Tiered   \n",
       "DeathPenalty                                                                Yes   \n",
       "CaseloadSize                                              1.1 Million-3 Million   \n",
       "PopulationLow                                                                51   \n",
       "PopulationHigh                                                              100   \n",
       "PopulationCategoryLow                                                     18601   \n",
       "PopulationCategoryHigh                                                    35800   \n",
       "RuralLow                                                                     26   \n",
       "RuralHigh                                                                    49   \n",
       "CaseloadLow                                                             1100000   \n",
       "CaseloadHigh                                                            3000000   \n",
       "AllStateCourtNames            [Supreme Court, Court of Appeals, Circuit, Dis...   \n",
       "\n",
       "                                                                        4  \n",
       "USStateID                                                               5  \n",
       "USStateName                                                    California  \n",
       "PopulationCategoryID                                                    7  \n",
       "PopulationDensityID                                                     5  \n",
       "RuralID                                                                 4  \n",
       "TrialStructureID                                                        1  \n",
       "AppellateCriminalStructureID                                            4  \n",
       "TrialCriminalProcessingID                                               1  \n",
       "DeathPenaltyID                                                          1  \n",
       "TrialCaseloadSizeID                                                     6  \n",
       "DisplayOrder                                                            5  \n",
       "PopulationDensity                                                 201-500  \n",
       "PopulationCategory                                       98901 to highest  \n",
       "Rural                         Less than or equal to 15% of the population  \n",
       "TrialStructure                                              Single Tiered  \n",
       "AppCrimStructure                         COLR Discretionary/IAC Mandatory  \n",
       "TrialCriminalProc                                           Single Tiered  \n",
       "DeathPenalty                                                          Yes  \n",
       "CaseloadSize                                               Over 6 Million  \n",
       "PopulationLow                                                         201  \n",
       "PopulationHigh                                                        500  \n",
       "PopulationCategoryLow                                               98901  \n",
       "PopulationCategoryHigh                                                NaN  \n",
       "RuralLow                                                                0  \n",
       "RuralHigh                                                              15  \n",
       "CaseloadLow                                                       6000000  \n",
       "CaseloadHigh                                                     10000000  \n",
       "AllStateCourtNames             [Supreme Court, Court of Appeal, Superior]  "
      ]
     },
     "execution_count": 155,
     "metadata": {},
     "output_type": "execute_result"
    }
   ],
   "source": [
    "all_states_display.head().T"
   ]
  },
  {
   "cell_type": "code",
   "execution_count": 162,
   "metadata": {},
   "outputs": [
    {
     "name": "stdout",
     "output_type": "stream",
     "text": [
      "OustandingQuestionReCourtIDs196And300.png\r\n",
      "StateCourtData.png\r\n",
      "StateData.png\r\n",
      "Viz-A-Thon Definitions.docx\r\n",
      "\u001b[34mVizathon-Data\u001b[m\u001b[m\r\n",
      "all_court_case_types.csv\r\n",
      "all_states_display.csv\r\n",
      "court_hierarchy.csv\r\n",
      "\u001b[34mcsv_files_for_alvin\u001b[m\u001b[m\r\n",
      "download_state_case_types.js\r\n",
      "download_state_court_details.js\r\n",
      "download_state_court_hiearchy.js\r\n",
      "download_state_courts_jurisdiction_funding.js\r\n",
      "download_states_overview.js\r\n",
      "dropdown.html\r\n",
      "myapp.py\r\n",
      "names_of_courts_by_state.csv\r\n",
      "\u001b[34mresources\u001b[m\u001b[m\r\n",
      "\u001b[34msamples\u001b[m\u001b[m\r\n",
      "simple.dot\r\n",
      "simple.png\r\n",
      "us_states_and_courts.csv\r\n",
      "viz_a_thon_EDA.ipynb\r\n",
      "\u001b[34mviz_a_thon_app\u001b[m\u001b[m\r\n",
      "viz_a_thon_data_model.png\r\n"
     ]
    }
   ],
   "source": [
    "!ls"
   ]
  },
  {
   "cell_type": "code",
   "execution_count": 163,
   "metadata": {
    "collapsed": true
   },
   "outputs": [],
   "source": [
    "# display_cols = [\n",
    "#     'USStateName', 'PopulationDensity', 'PopulationCategory', 'Rural', \n",
    "#     'TrialStructure', 'AppCrimStructure', 'TrialCriminalProc', \n",
    "#     'DeathPenalty', 'CaseloadSize', 'AllStateCourtNames']\n",
    "# all_states_display[display_cols].to_csv('csv_files_for_alvin/states_overview.csv')"
   ]
  },
  {
   "cell_type": "markdown",
   "metadata": {},
   "source": [
    "## <font color='red'>Second DataFrame: \"us_states_and_courts\"</font>"
   ]
  },
  {
   "cell_type": "code",
   "execution_count": 367,
   "metadata": {},
   "outputs": [
    {
     "data": {
      "text/plain": [
       "(290, 3)"
      ]
     },
     "execution_count": 367,
     "metadata": {},
     "output_type": "execute_result"
    }
   ],
   "source": [
    "us_state_court.shape"
   ]
  },
  {
   "cell_type": "code",
   "execution_count": 368,
   "metadata": {},
   "outputs": [
    {
     "data": {
      "text/plain": [
       "(291, 9)"
      ]
     },
     "execution_count": 368,
     "metadata": {},
     "output_type": "execute_result"
    }
   ],
   "source": [
    "courts.shape"
   ]
  },
  {
   "cell_type": "code",
   "execution_count": 369,
   "metadata": {},
   "outputs": [
    {
     "data": {
      "text/html": [
       "<div>\n",
       "<style scoped>\n",
       "    .dataframe tbody tr th:only-of-type {\n",
       "        vertical-align: middle;\n",
       "    }\n",
       "\n",
       "    .dataframe tbody tr th {\n",
       "        vertical-align: top;\n",
       "    }\n",
       "\n",
       "    .dataframe thead th {\n",
       "        text-align: right;\n",
       "    }\n",
       "</style>\n",
       "<table border=\"1\" class=\"dataframe\">\n",
       "  <thead>\n",
       "    <tr style=\"text-align: right;\">\n",
       "      <th></th>\n",
       "      <th>USStateCourtID</th>\n",
       "      <th>CourtID</th>\n",
       "      <th>USStateID</th>\n",
       "      <th>CourtName</th>\n",
       "      <th>CourtLevelID</th>\n",
       "      <th>CSPAggID</th>\n",
       "      <th>FundingID</th>\n",
       "      <th>AppealFromAdminAgency</th>\n",
       "      <th>Notes</th>\n",
       "      <th>Link</th>\n",
       "      <th>DisplayOrder</th>\n",
       "    </tr>\n",
       "  </thead>\n",
       "  <tbody>\n",
       "    <tr>\n",
       "      <th>0</th>\n",
       "      <td>1</td>\n",
       "      <td>1</td>\n",
       "      <td>1</td>\n",
       "      <td>Supreme Court</td>\n",
       "      <td>COLR</td>\n",
       "      <td>COLR</td>\n",
       "      <td>S</td>\n",
       "      <td>False</td>\n",
       "      <td>Assigns cases to the Court of Civil Appeals.</td>\n",
       "      <td>http://judicial.alabama.gov/supreme.cfm</td>\n",
       "      <td>1</td>\n",
       "    </tr>\n",
       "    <tr>\n",
       "      <th>1</th>\n",
       "      <td>2</td>\n",
       "      <td>2</td>\n",
       "      <td>1</td>\n",
       "      <td>Court of Civil Appeals</td>\n",
       "      <td>IAC</td>\n",
       "      <td>IAC</td>\n",
       "      <td>S</td>\n",
       "      <td>False</td>\n",
       "      <td>-99</td>\n",
       "      <td>http://judicial.alabama.gov/civil.cfm</td>\n",
       "      <td>2</td>\n",
       "    </tr>\n",
       "    <tr>\n",
       "      <th>2</th>\n",
       "      <td>3</td>\n",
       "      <td>3</td>\n",
       "      <td>1</td>\n",
       "      <td>Court of Criminal Appeals</td>\n",
       "      <td>IAC</td>\n",
       "      <td>IAC</td>\n",
       "      <td>S</td>\n",
       "      <td>False</td>\n",
       "      <td>-99</td>\n",
       "      <td>http://judicial.alabama.gov/criminal.cfm</td>\n",
       "      <td>3</td>\n",
       "    </tr>\n",
       "  </tbody>\n",
       "</table>\n",
       "</div>"
      ],
      "text/plain": [
       "   USStateCourtID  CourtID  USStateID                  CourtName CourtLevelID  \\\n",
       "0               1        1          1              Supreme Court   COLR         \n",
       "1               2        2          1     Court of Civil Appeals   IAC          \n",
       "2               3        3          1  Court of Criminal Appeals   IAC          \n",
       "\n",
       "     CSPAggID FundingID  AppealFromAdminAgency  \\\n",
       "0  COLR               S                  False   \n",
       "1  IAC                S                  False   \n",
       "2  IAC                S                  False   \n",
       "\n",
       "                                          Notes  \\\n",
       "0  Assigns cases to the Court of Civil Appeals.   \n",
       "1                                           -99   \n",
       "2                                           -99   \n",
       "\n",
       "                                       Link  DisplayOrder  \n",
       "0   http://judicial.alabama.gov/supreme.cfm             1  \n",
       "1     http://judicial.alabama.gov/civil.cfm             2  \n",
       "2  http://judicial.alabama.gov/criminal.cfm             3  "
      ]
     },
     "execution_count": 369,
     "metadata": {},
     "output_type": "execute_result"
    }
   ],
   "source": [
    "us_states_and_courts = pd.merge(us_state_court, courts, on='CourtID')\n",
    "us_states_and_courts.head(3)"
   ]
  },
  {
   "cell_type": "code",
   "execution_count": 370,
   "metadata": {},
   "outputs": [
    {
     "data": {
      "text/html": [
       "<div>\n",
       "<style scoped>\n",
       "    .dataframe tbody tr th:only-of-type {\n",
       "        vertical-align: middle;\n",
       "    }\n",
       "\n",
       "    .dataframe tbody tr th {\n",
       "        vertical-align: top;\n",
       "    }\n",
       "\n",
       "    .dataframe thead th {\n",
       "        text-align: right;\n",
       "    }\n",
       "</style>\n",
       "<table border=\"1\" class=\"dataframe\">\n",
       "  <thead>\n",
       "    <tr style=\"text-align: right;\">\n",
       "      <th></th>\n",
       "      <th>USStateID</th>\n",
       "      <th>USStateName</th>\n",
       "      <th>PopulationCategoryID</th>\n",
       "      <th>PopulationDensityID</th>\n",
       "      <th>RuralID</th>\n",
       "      <th>TrialStructureID</th>\n",
       "      <th>AppellateCriminalStructureID</th>\n",
       "      <th>TrialCriminalProcessingID</th>\n",
       "      <th>DeathPenaltyID</th>\n",
       "      <th>TrialCaseloadSizeID</th>\n",
       "      <th>...</th>\n",
       "      <th>DeathPenalty</th>\n",
       "      <th>CaseloadSize</th>\n",
       "      <th>PopulationLow</th>\n",
       "      <th>PopulationHigh</th>\n",
       "      <th>PopulationCategoryLow</th>\n",
       "      <th>PopulationCategoryHigh</th>\n",
       "      <th>RuralLow</th>\n",
       "      <th>RuralHigh</th>\n",
       "      <th>CaseloadLow</th>\n",
       "      <th>CaseloadHigh</th>\n",
       "    </tr>\n",
       "  </thead>\n",
       "  <tbody>\n",
       "    <tr>\n",
       "      <th>0</th>\n",
       "      <td>1</td>\n",
       "      <td>Alabama</td>\n",
       "      <td>4</td>\n",
       "      <td>3</td>\n",
       "      <td>2</td>\n",
       "      <td>2</td>\n",
       "      <td>6</td>\n",
       "      <td>2</td>\n",
       "      <td>-99</td>\n",
       "      <td>3</td>\n",
       "      <td>...</td>\n",
       "      <td>N/A</td>\n",
       "      <td>500k - 1M</td>\n",
       "      <td>51.0</td>\n",
       "      <td>100.0</td>\n",
       "      <td>35801.0</td>\n",
       "      <td>47800.0</td>\n",
       "      <td>26.0</td>\n",
       "      <td>49.0</td>\n",
       "      <td>501000</td>\n",
       "      <td>1000000</td>\n",
       "    </tr>\n",
       "    <tr>\n",
       "      <th>1</th>\n",
       "      <td>2</td>\n",
       "      <td>Alaska</td>\n",
       "      <td>1</td>\n",
       "      <td>1</td>\n",
       "      <td>2</td>\n",
       "      <td>2</td>\n",
       "      <td>4</td>\n",
       "      <td>1</td>\n",
       "      <td>0</td>\n",
       "      <td>1</td>\n",
       "      <td>...</td>\n",
       "      <td>No</td>\n",
       "      <td>&lt; 200k</td>\n",
       "      <td>0.0</td>\n",
       "      <td>20.0</td>\n",
       "      <td>0.0</td>\n",
       "      <td>9900.0</td>\n",
       "      <td>26.0</td>\n",
       "      <td>49.0</td>\n",
       "      <td>0</td>\n",
       "      <td>200000</td>\n",
       "    </tr>\n",
       "    <tr>\n",
       "      <th>2</th>\n",
       "      <td>3</td>\n",
       "      <td>Arizona</td>\n",
       "      <td>5</td>\n",
       "      <td>3</td>\n",
       "      <td>4</td>\n",
       "      <td>2</td>\n",
       "      <td>4</td>\n",
       "      <td>2</td>\n",
       "      <td>1</td>\n",
       "      <td>4</td>\n",
       "      <td>...</td>\n",
       "      <td>Yes</td>\n",
       "      <td>1.1M - 3M</td>\n",
       "      <td>51.0</td>\n",
       "      <td>100.0</td>\n",
       "      <td>47801.0</td>\n",
       "      <td>64900.0</td>\n",
       "      <td>0.0</td>\n",
       "      <td>15.0</td>\n",
       "      <td>1100000</td>\n",
       "      <td>3000000</td>\n",
       "    </tr>\n",
       "  </tbody>\n",
       "</table>\n",
       "<p>3 rows × 27 columns</p>\n",
       "</div>"
      ],
      "text/plain": [
       "   USStateID USStateName  PopulationCategoryID  PopulationDensityID  RuralID  \\\n",
       "0          1     Alabama                     4                    3        2   \n",
       "1          2      Alaska                     1                    1        2   \n",
       "2          3     Arizona                     5                    3        4   \n",
       "\n",
       "   TrialStructureID  AppellateCriminalStructureID  TrialCriminalProcessingID  \\\n",
       "0                 2                             6                          2   \n",
       "1                 2                             4                          1   \n",
       "2                 2                             4                          2   \n",
       "\n",
       "   DeathPenaltyID  TrialCaseloadSizeID      ...       DeathPenalty  \\\n",
       "0             -99                    3      ...                N/A   \n",
       "1               0                    1      ...                 No   \n",
       "2               1                    4      ...                Yes   \n",
       "\n",
       "  CaseloadSize PopulationLow PopulationHigh PopulationCategoryLow  \\\n",
       "0    500k - 1M          51.0          100.0               35801.0   \n",
       "1       < 200k           0.0           20.0                   0.0   \n",
       "2    1.1M - 3M          51.0          100.0               47801.0   \n",
       "\n",
       "  PopulationCategoryHigh RuralLow RuralHigh CaseloadLow  CaseloadHigh  \n",
       "0                47800.0     26.0      49.0      501000       1000000  \n",
       "1                 9900.0     26.0      49.0           0        200000  \n",
       "2                64900.0      0.0      15.0     1100000       3000000  \n",
       "\n",
       "[3 rows x 27 columns]"
      ]
     },
     "execution_count": 370,
     "metadata": {},
     "output_type": "execute_result"
    }
   ],
   "source": [
    "all_states_display.head(3)"
   ]
  },
  {
   "cell_type": "code",
   "execution_count": 371,
   "metadata": {
    "collapsed": true
   },
   "outputs": [],
   "source": [
    "# Add State Name to `us_states_and_courts`\n",
    "\n",
    "def add_state_name(row):\n",
    "    return all_states_display[all_states_display['USStateID'] == row['USStateID']]['USStateName'].values[0]"
   ]
  },
  {
   "cell_type": "code",
   "execution_count": 372,
   "metadata": {
    "collapsed": true
   },
   "outputs": [],
   "source": [
    "us_states_and_courts['State'] = us_states_and_courts.apply(add_state_name, axis=1)"
   ]
  },
  {
   "cell_type": "code",
   "execution_count": 373,
   "metadata": {},
   "outputs": [
    {
     "data": {
      "text/html": [
       "<div>\n",
       "<style scoped>\n",
       "    .dataframe tbody tr th:only-of-type {\n",
       "        vertical-align: middle;\n",
       "    }\n",
       "\n",
       "    .dataframe tbody tr th {\n",
       "        vertical-align: top;\n",
       "    }\n",
       "\n",
       "    .dataframe thead th {\n",
       "        text-align: right;\n",
       "    }\n",
       "</style>\n",
       "<table border=\"1\" class=\"dataframe\">\n",
       "  <thead>\n",
       "    <tr style=\"text-align: right;\">\n",
       "      <th></th>\n",
       "      <th>USStateCourtID</th>\n",
       "      <th>CourtID</th>\n",
       "      <th>USStateID</th>\n",
       "      <th>CourtName</th>\n",
       "      <th>CourtLevelID</th>\n",
       "      <th>CSPAggID</th>\n",
       "      <th>FundingID</th>\n",
       "      <th>AppealFromAdminAgency</th>\n",
       "      <th>Notes</th>\n",
       "      <th>Link</th>\n",
       "      <th>DisplayOrder</th>\n",
       "      <th>State</th>\n",
       "    </tr>\n",
       "  </thead>\n",
       "  <tbody>\n",
       "    <tr>\n",
       "      <th>0</th>\n",
       "      <td>1</td>\n",
       "      <td>1</td>\n",
       "      <td>1</td>\n",
       "      <td>Supreme Court</td>\n",
       "      <td>COLR</td>\n",
       "      <td>COLR</td>\n",
       "      <td>S</td>\n",
       "      <td>False</td>\n",
       "      <td>Assigns cases to the Court of Civil Appeals.</td>\n",
       "      <td>http://judicial.alabama.gov/supreme.cfm</td>\n",
       "      <td>1</td>\n",
       "      <td>Alabama</td>\n",
       "    </tr>\n",
       "    <tr>\n",
       "      <th>1</th>\n",
       "      <td>2</td>\n",
       "      <td>2</td>\n",
       "      <td>1</td>\n",
       "      <td>Court of Civil Appeals</td>\n",
       "      <td>IAC</td>\n",
       "      <td>IAC</td>\n",
       "      <td>S</td>\n",
       "      <td>False</td>\n",
       "      <td>-99</td>\n",
       "      <td>http://judicial.alabama.gov/civil.cfm</td>\n",
       "      <td>2</td>\n",
       "      <td>Alabama</td>\n",
       "    </tr>\n",
       "    <tr>\n",
       "      <th>2</th>\n",
       "      <td>3</td>\n",
       "      <td>3</td>\n",
       "      <td>1</td>\n",
       "      <td>Court of Criminal Appeals</td>\n",
       "      <td>IAC</td>\n",
       "      <td>IAC</td>\n",
       "      <td>S</td>\n",
       "      <td>False</td>\n",
       "      <td>-99</td>\n",
       "      <td>http://judicial.alabama.gov/criminal.cfm</td>\n",
       "      <td>3</td>\n",
       "      <td>Alabama</td>\n",
       "    </tr>\n",
       "  </tbody>\n",
       "</table>\n",
       "</div>"
      ],
      "text/plain": [
       "   USStateCourtID  CourtID  USStateID                  CourtName CourtLevelID  \\\n",
       "0               1        1          1              Supreme Court   COLR         \n",
       "1               2        2          1     Court of Civil Appeals   IAC          \n",
       "2               3        3          1  Court of Criminal Appeals   IAC          \n",
       "\n",
       "     CSPAggID FundingID  AppealFromAdminAgency  \\\n",
       "0  COLR               S                  False   \n",
       "1  IAC                S                  False   \n",
       "2  IAC                S                  False   \n",
       "\n",
       "                                          Notes  \\\n",
       "0  Assigns cases to the Court of Civil Appeals.   \n",
       "1                                           -99   \n",
       "2                                           -99   \n",
       "\n",
       "                                       Link  DisplayOrder    State  \n",
       "0   http://judicial.alabama.gov/supreme.cfm             1  Alabama  \n",
       "1     http://judicial.alabama.gov/civil.cfm             2  Alabama  \n",
       "2  http://judicial.alabama.gov/criminal.cfm             3  Alabama  "
      ]
     },
     "execution_count": 373,
     "metadata": {},
     "output_type": "execute_result"
    }
   ],
   "source": [
    "us_states_and_courts.head(3)"
   ]
  },
  {
   "cell_type": "code",
   "execution_count": 374,
   "metadata": {},
   "outputs": [
    {
     "data": {
      "text/html": [
       "<div>\n",
       "<style scoped>\n",
       "    .dataframe tbody tr th:only-of-type {\n",
       "        vertical-align: middle;\n",
       "    }\n",
       "\n",
       "    .dataframe tbody tr th {\n",
       "        vertical-align: top;\n",
       "    }\n",
       "\n",
       "    .dataframe thead th {\n",
       "        text-align: right;\n",
       "    }\n",
       "</style>\n",
       "<table border=\"1\" class=\"dataframe\">\n",
       "  <thead>\n",
       "    <tr style=\"text-align: right;\">\n",
       "      <th></th>\n",
       "      <th>USStateCourtID</th>\n",
       "      <th>CourtID</th>\n",
       "      <th>USStateID</th>\n",
       "      <th>CourtName</th>\n",
       "      <th>CourtLevelID</th>\n",
       "      <th>CSPAggID</th>\n",
       "      <th>FundingID</th>\n",
       "      <th>AppealFromAdminAgency</th>\n",
       "      <th>Notes</th>\n",
       "      <th>Link</th>\n",
       "      <th>DisplayOrder</th>\n",
       "      <th>State</th>\n",
       "    </tr>\n",
       "  </thead>\n",
       "  <tbody>\n",
       "    <tr>\n",
       "      <th>0</th>\n",
       "      <td>1</td>\n",
       "      <td>1</td>\n",
       "      <td>1</td>\n",
       "      <td>Supreme Court</td>\n",
       "      <td>COLR</td>\n",
       "      <td>COLR</td>\n",
       "      <td>S</td>\n",
       "      <td>False</td>\n",
       "      <td>Assigns cases to the Court of Civil Appeals.</td>\n",
       "      <td>http://judicial.alabama.gov/supreme.cfm</td>\n",
       "      <td>1</td>\n",
       "      <td>Alabama</td>\n",
       "    </tr>\n",
       "  </tbody>\n",
       "</table>\n",
       "</div>"
      ],
      "text/plain": [
       "   USStateCourtID  CourtID  USStateID      CourtName CourtLevelID    CSPAggID  \\\n",
       "0               1        1          1  Supreme Court   COLR        COLR         \n",
       "\n",
       "  FundingID  AppealFromAdminAgency  \\\n",
       "0         S                  False   \n",
       "\n",
       "                                          Notes  \\\n",
       "0  Assigns cases to the Court of Civil Appeals.   \n",
       "\n",
       "                                      Link  DisplayOrder    State  \n",
       "0  http://judicial.alabama.gov/supreme.cfm             1  Alabama  "
      ]
     },
     "execution_count": 374,
     "metadata": {},
     "output_type": "execute_result"
    }
   ],
   "source": [
    "us_states_and_courts[(us_states_and_courts['State'] == 'Alabama') & (us_states_and_courts['CourtName'] == 'Supreme Court')]"
   ]
  },
  {
   "cell_type": "code",
   "execution_count": 375,
   "metadata": {
    "collapsed": true
   },
   "outputs": [],
   "source": [
    "# Add funding\n",
    "def add_funding_description(row):\n",
    "    return funding[funding['FundingID'] == row['FundingID']]['FundingDescription'].values[0]"
   ]
  },
  {
   "cell_type": "code",
   "execution_count": 376,
   "metadata": {},
   "outputs": [
    {
     "data": {
      "text/html": [
       "<div>\n",
       "<style scoped>\n",
       "    .dataframe tbody tr th:only-of-type {\n",
       "        vertical-align: middle;\n",
       "    }\n",
       "\n",
       "    .dataframe tbody tr th {\n",
       "        vertical-align: top;\n",
       "    }\n",
       "\n",
       "    .dataframe thead th {\n",
       "        text-align: right;\n",
       "    }\n",
       "</style>\n",
       "<table border=\"1\" class=\"dataframe\">\n",
       "  <thead>\n",
       "    <tr style=\"text-align: right;\">\n",
       "      <th></th>\n",
       "      <th>FundingID</th>\n",
       "      <th>FundingName</th>\n",
       "      <th>FundingDescription</th>\n",
       "      <th>DisplayOrder</th>\n",
       "    </tr>\n",
       "  </thead>\n",
       "  <tbody>\n",
       "    <tr>\n",
       "      <th>0</th>\n",
       "      <td>S</td>\n",
       "      <td>State</td>\n",
       "      <td>State funded</td>\n",
       "      <td>1</td>\n",
       "    </tr>\n",
       "    <tr>\n",
       "      <th>1</th>\n",
       "      <td>M</td>\n",
       "      <td>Mixed</td>\n",
       "      <td>State and local funding</td>\n",
       "      <td>2</td>\n",
       "    </tr>\n",
       "    <tr>\n",
       "      <th>2</th>\n",
       "      <td>L</td>\n",
       "      <td>Local</td>\n",
       "      <td>Locally funded</td>\n",
       "      <td>3</td>\n",
       "    </tr>\n",
       "  </tbody>\n",
       "</table>\n",
       "</div>"
      ],
      "text/plain": [
       "  FundingID FundingName       FundingDescription  DisplayOrder\n",
       "0         S       State             State funded             1\n",
       "1         M       Mixed  State and local funding             2\n",
       "2         L       Local           Locally funded             3"
      ]
     },
     "execution_count": 376,
     "metadata": {},
     "output_type": "execute_result"
    }
   ],
   "source": [
    "funding.head(3)"
   ]
  },
  {
   "cell_type": "code",
   "execution_count": 377,
   "metadata": {
    "collapsed": true
   },
   "outputs": [],
   "source": [
    "us_states_and_courts['FundingDescription'] = us_states_and_courts.apply(add_funding_description, axis=1)"
   ]
  },
  {
   "cell_type": "code",
   "execution_count": 378,
   "metadata": {},
   "outputs": [
    {
     "data": {
      "text/html": [
       "<div>\n",
       "<style scoped>\n",
       "    .dataframe tbody tr th:only-of-type {\n",
       "        vertical-align: middle;\n",
       "    }\n",
       "\n",
       "    .dataframe tbody tr th {\n",
       "        vertical-align: top;\n",
       "    }\n",
       "\n",
       "    .dataframe thead th {\n",
       "        text-align: right;\n",
       "    }\n",
       "</style>\n",
       "<table border=\"1\" class=\"dataframe\">\n",
       "  <thead>\n",
       "    <tr style=\"text-align: right;\">\n",
       "      <th></th>\n",
       "      <th>State</th>\n",
       "      <th>CourtName</th>\n",
       "      <th>Notes</th>\n",
       "      <th>FundingDescription</th>\n",
       "      <th>Link</th>\n",
       "    </tr>\n",
       "  </thead>\n",
       "  <tbody>\n",
       "    <tr>\n",
       "      <th>0</th>\n",
       "      <td>Alabama</td>\n",
       "      <td>Supreme Court</td>\n",
       "      <td>Assigns cases to the Court of Civil Appeals.</td>\n",
       "      <td>State funded</td>\n",
       "      <td>http://judicial.alabama.gov/supreme.cfm</td>\n",
       "    </tr>\n",
       "    <tr>\n",
       "      <th>1</th>\n",
       "      <td>Alabama</td>\n",
       "      <td>Court of Civil Appeals</td>\n",
       "      <td>-99</td>\n",
       "      <td>State funded</td>\n",
       "      <td>http://judicial.alabama.gov/civil.cfm</td>\n",
       "    </tr>\n",
       "    <tr>\n",
       "      <th>2</th>\n",
       "      <td>Alabama</td>\n",
       "      <td>Court of Criminal Appeals</td>\n",
       "      <td>-99</td>\n",
       "      <td>State funded</td>\n",
       "      <td>http://judicial.alabama.gov/criminal.cfm</td>\n",
       "    </tr>\n",
       "  </tbody>\n",
       "</table>\n",
       "</div>"
      ],
      "text/plain": [
       "     State                  CourtName  \\\n",
       "0  Alabama              Supreme Court   \n",
       "1  Alabama     Court of Civil Appeals   \n",
       "2  Alabama  Court of Criminal Appeals   \n",
       "\n",
       "                                          Notes FundingDescription  \\\n",
       "0  Assigns cases to the Court of Civil Appeals.       State funded   \n",
       "1                                           -99       State funded   \n",
       "2                                           -99       State funded   \n",
       "\n",
       "                                       Link  \n",
       "0   http://judicial.alabama.gov/supreme.cfm  \n",
       "1     http://judicial.alabama.gov/civil.cfm  \n",
       "2  http://judicial.alabama.gov/criminal.cfm  "
      ]
     },
     "execution_count": 378,
     "metadata": {},
     "output_type": "execute_result"
    }
   ],
   "source": [
    "us_states_and_courts[['State', 'CourtName', 'Notes', 'FundingDescription', 'Link']].head(3)"
   ]
  },
  {
   "cell_type": "code",
   "execution_count": 379,
   "metadata": {
    "collapsed": true
   },
   "outputs": [],
   "source": [
    "# Add Court Level Description\n",
    "def add_court_level_description(row):\n",
    "    return court_level[court_level['CourtLevelID'] == row['CourtLevelID']]['CourtLevelDescription'].values[0]"
   ]
  },
  {
   "cell_type": "code",
   "execution_count": 380,
   "metadata": {
    "collapsed": true
   },
   "outputs": [],
   "source": [
    "us_states_and_courts['CourtLevelDescription'] = us_states_and_courts.apply(add_court_level_description, axis=1)"
   ]
  },
  {
   "cell_type": "code",
   "execution_count": 381,
   "metadata": {},
   "outputs": [
    {
     "data": {
      "text/html": [
       "<div>\n",
       "<style scoped>\n",
       "    .dataframe tbody tr th:only-of-type {\n",
       "        vertical-align: middle;\n",
       "    }\n",
       "\n",
       "    .dataframe tbody tr th {\n",
       "        vertical-align: top;\n",
       "    }\n",
       "\n",
       "    .dataframe thead th {\n",
       "        text-align: right;\n",
       "    }\n",
       "</style>\n",
       "<table border=\"1\" class=\"dataframe\">\n",
       "  <thead>\n",
       "    <tr style=\"text-align: right;\">\n",
       "      <th></th>\n",
       "      <th>State</th>\n",
       "      <th>CourtName</th>\n",
       "      <th>CourtLevelDescription</th>\n",
       "      <th>Notes</th>\n",
       "      <th>FundingDescription</th>\n",
       "      <th>Link</th>\n",
       "    </tr>\n",
       "  </thead>\n",
       "  <tbody>\n",
       "    <tr>\n",
       "      <th>0</th>\n",
       "      <td>Alabama</td>\n",
       "      <td>Supreme Court</td>\n",
       "      <td>Court of Last Resource</td>\n",
       "      <td>Assigns cases to the Court of Civil Appeals.</td>\n",
       "      <td>State funded</td>\n",
       "      <td>http://judicial.alabama.gov/supreme.cfm</td>\n",
       "    </tr>\n",
       "    <tr>\n",
       "      <th>1</th>\n",
       "      <td>Alabama</td>\n",
       "      <td>Court of Civil Appeals</td>\n",
       "      <td>Intermediate Appellate Court</td>\n",
       "      <td>-99</td>\n",
       "      <td>State funded</td>\n",
       "      <td>http://judicial.alabama.gov/civil.cfm</td>\n",
       "    </tr>\n",
       "    <tr>\n",
       "      <th>2</th>\n",
       "      <td>Alabama</td>\n",
       "      <td>Court of Criminal Appeals</td>\n",
       "      <td>Intermediate Appellate Court</td>\n",
       "      <td>-99</td>\n",
       "      <td>State funded</td>\n",
       "      <td>http://judicial.alabama.gov/criminal.cfm</td>\n",
       "    </tr>\n",
       "  </tbody>\n",
       "</table>\n",
       "</div>"
      ],
      "text/plain": [
       "     State                  CourtName         CourtLevelDescription  \\\n",
       "0  Alabama              Supreme Court        Court of Last Resource   \n",
       "1  Alabama     Court of Civil Appeals  Intermediate Appellate Court   \n",
       "2  Alabama  Court of Criminal Appeals  Intermediate Appellate Court   \n",
       "\n",
       "                                          Notes FundingDescription  \\\n",
       "0  Assigns cases to the Court of Civil Appeals.       State funded   \n",
       "1                                           -99       State funded   \n",
       "2                                           -99       State funded   \n",
       "\n",
       "                                       Link  \n",
       "0   http://judicial.alabama.gov/supreme.cfm  \n",
       "1     http://judicial.alabama.gov/civil.cfm  \n",
       "2  http://judicial.alabama.gov/criminal.cfm  "
      ]
     },
     "execution_count": 381,
     "metadata": {},
     "output_type": "execute_result"
    }
   ],
   "source": [
    "us_states_and_courts[['State', 'CourtName', 'CourtLevelDescription', 'Notes', 'FundingDescription', 'Link']].head(3)"
   ]
  },
  {
   "cell_type": "code",
   "execution_count": 382,
   "metadata": {},
   "outputs": [
    {
     "data": {
      "text/html": [
       "<div>\n",
       "<style scoped>\n",
       "    .dataframe tbody tr th:only-of-type {\n",
       "        vertical-align: middle;\n",
       "    }\n",
       "\n",
       "    .dataframe tbody tr th {\n",
       "        vertical-align: top;\n",
       "    }\n",
       "\n",
       "    .dataframe thead th {\n",
       "        text-align: right;\n",
       "    }\n",
       "</style>\n",
       "<table border=\"1\" class=\"dataframe\">\n",
       "  <thead>\n",
       "    <tr style=\"text-align: right;\">\n",
       "      <th></th>\n",
       "      <th>CourtCourtNameID</th>\n",
       "      <th>CourtNameID</th>\n",
       "      <th>CourtID</th>\n",
       "    </tr>\n",
       "  </thead>\n",
       "  <tbody>\n",
       "    <tr>\n",
       "      <th>0</th>\n",
       "      <td>1</td>\n",
       "      <td>1</td>\n",
       "      <td>2</td>\n",
       "    </tr>\n",
       "    <tr>\n",
       "      <th>1</th>\n",
       "      <td>2</td>\n",
       "      <td>2</td>\n",
       "      <td>3</td>\n",
       "    </tr>\n",
       "    <tr>\n",
       "      <th>2</th>\n",
       "      <td>3</td>\n",
       "      <td>3</td>\n",
       "      <td>1</td>\n",
       "    </tr>\n",
       "  </tbody>\n",
       "</table>\n",
       "</div>"
      ],
      "text/plain": [
       "   CourtCourtNameID  CourtNameID  CourtID\n",
       "0                 1            1        2\n",
       "1                 2            2        3\n",
       "2                 3            3        1"
      ]
     },
     "execution_count": 382,
     "metadata": {},
     "output_type": "execute_result"
    }
   ],
   "source": [
    "court_court_names.head(3)"
   ]
  },
  {
   "cell_type": "code",
   "execution_count": 383,
   "metadata": {},
   "outputs": [
    {
     "data": {
      "text/html": [
       "<div>\n",
       "<style scoped>\n",
       "    .dataframe tbody tr th:only-of-type {\n",
       "        vertical-align: middle;\n",
       "    }\n",
       "\n",
       "    .dataframe tbody tr th {\n",
       "        vertical-align: top;\n",
       "    }\n",
       "\n",
       "    .dataframe thead th {\n",
       "        text-align: right;\n",
       "    }\n",
       "</style>\n",
       "<table border=\"1\" class=\"dataframe\">\n",
       "  <thead>\n",
       "    <tr style=\"text-align: right;\">\n",
       "      <th></th>\n",
       "      <th>USStateCourtID</th>\n",
       "      <th>CourtID</th>\n",
       "      <th>USStateID</th>\n",
       "      <th>CourtName</th>\n",
       "      <th>CourtLevelID</th>\n",
       "      <th>CSPAggID</th>\n",
       "      <th>FundingID</th>\n",
       "      <th>AppealFromAdminAgency</th>\n",
       "      <th>Notes</th>\n",
       "      <th>Link</th>\n",
       "      <th>DisplayOrder</th>\n",
       "      <th>State</th>\n",
       "      <th>FundingDescription</th>\n",
       "      <th>CourtLevelDescription</th>\n",
       "    </tr>\n",
       "  </thead>\n",
       "  <tbody>\n",
       "    <tr>\n",
       "      <th>0</th>\n",
       "      <td>1</td>\n",
       "      <td>1</td>\n",
       "      <td>1</td>\n",
       "      <td>Supreme Court</td>\n",
       "      <td>COLR</td>\n",
       "      <td>COLR</td>\n",
       "      <td>S</td>\n",
       "      <td>False</td>\n",
       "      <td>Assigns cases to the Court of Civil Appeals.</td>\n",
       "      <td>http://judicial.alabama.gov/supreme.cfm</td>\n",
       "      <td>1</td>\n",
       "      <td>Alabama</td>\n",
       "      <td>State funded</td>\n",
       "      <td>Court of Last Resource</td>\n",
       "    </tr>\n",
       "    <tr>\n",
       "      <th>1</th>\n",
       "      <td>2</td>\n",
       "      <td>2</td>\n",
       "      <td>1</td>\n",
       "      <td>Court of Civil Appeals</td>\n",
       "      <td>IAC</td>\n",
       "      <td>IAC</td>\n",
       "      <td>S</td>\n",
       "      <td>False</td>\n",
       "      <td>-99</td>\n",
       "      <td>http://judicial.alabama.gov/civil.cfm</td>\n",
       "      <td>2</td>\n",
       "      <td>Alabama</td>\n",
       "      <td>State funded</td>\n",
       "      <td>Intermediate Appellate Court</td>\n",
       "    </tr>\n",
       "    <tr>\n",
       "      <th>2</th>\n",
       "      <td>3</td>\n",
       "      <td>3</td>\n",
       "      <td>1</td>\n",
       "      <td>Court of Criminal Appeals</td>\n",
       "      <td>IAC</td>\n",
       "      <td>IAC</td>\n",
       "      <td>S</td>\n",
       "      <td>False</td>\n",
       "      <td>-99</td>\n",
       "      <td>http://judicial.alabama.gov/criminal.cfm</td>\n",
       "      <td>3</td>\n",
       "      <td>Alabama</td>\n",
       "      <td>State funded</td>\n",
       "      <td>Intermediate Appellate Court</td>\n",
       "    </tr>\n",
       "    <tr>\n",
       "      <th>3</th>\n",
       "      <td>4</td>\n",
       "      <td>106</td>\n",
       "      <td>1</td>\n",
       "      <td>Circuit</td>\n",
       "      <td>GJ</td>\n",
       "      <td>GJ</td>\n",
       "      <td>M</td>\n",
       "      <td>True</td>\n",
       "      <td>Jury trials.</td>\n",
       "      <td>http://judicial.alabama.gov/</td>\n",
       "      <td>4</td>\n",
       "      <td>Alabama</td>\n",
       "      <td>State and local funding</td>\n",
       "      <td>General Jurisdiction</td>\n",
       "    </tr>\n",
       "    <tr>\n",
       "      <th>4</th>\n",
       "      <td>5</td>\n",
       "      <td>107</td>\n",
       "      <td>1</td>\n",
       "      <td>District</td>\n",
       "      <td>LJ</td>\n",
       "      <td>LJ</td>\n",
       "      <td>M</td>\n",
       "      <td>False</td>\n",
       "      <td>No jury trials.</td>\n",
       "      <td>-99</td>\n",
       "      <td>5</td>\n",
       "      <td>Alabama</td>\n",
       "      <td>State and local funding</td>\n",
       "      <td>Limited Jurisdiction</td>\n",
       "    </tr>\n",
       "  </tbody>\n",
       "</table>\n",
       "</div>"
      ],
      "text/plain": [
       "   USStateCourtID  CourtID  USStateID                  CourtName CourtLevelID  \\\n",
       "0               1        1          1              Supreme Court   COLR         \n",
       "1               2        2          1     Court of Civil Appeals   IAC          \n",
       "2               3        3          1  Court of Criminal Appeals   IAC          \n",
       "3               4      106          1                    Circuit   GJ           \n",
       "4               5      107          1                   District   LJ           \n",
       "\n",
       "     CSPAggID FundingID  AppealFromAdminAgency  \\\n",
       "0  COLR               S                  False   \n",
       "1  IAC                S                  False   \n",
       "2  IAC                S                  False   \n",
       "3  GJ                 M                   True   \n",
       "4  LJ                 M                  False   \n",
       "\n",
       "                                          Notes  \\\n",
       "0  Assigns cases to the Court of Civil Appeals.   \n",
       "1                                           -99   \n",
       "2                                           -99   \n",
       "3                                  Jury trials.   \n",
       "4                               No jury trials.   \n",
       "\n",
       "                                       Link  DisplayOrder    State  \\\n",
       "0   http://judicial.alabama.gov/supreme.cfm             1  Alabama   \n",
       "1     http://judicial.alabama.gov/civil.cfm             2  Alabama   \n",
       "2  http://judicial.alabama.gov/criminal.cfm             3  Alabama   \n",
       "3              http://judicial.alabama.gov/             4  Alabama   \n",
       "4                                       -99             5  Alabama   \n",
       "\n",
       "        FundingDescription         CourtLevelDescription  \n",
       "0             State funded        Court of Last Resource  \n",
       "1             State funded  Intermediate Appellate Court  \n",
       "2             State funded  Intermediate Appellate Court  \n",
       "3  State and local funding          General Jurisdiction  \n",
       "4  State and local funding          Limited Jurisdiction  "
      ]
     },
     "execution_count": 383,
     "metadata": {},
     "output_type": "execute_result"
    }
   ],
   "source": [
    "us_states_and_courts.head()"
   ]
  },
  {
   "cell_type": "code",
   "execution_count": 384,
   "metadata": {},
   "outputs": [
    {
     "name": "stdout",
     "output_type": "stream",
     "text": [
      "(340, 3)\n",
      "(289, 14)\n"
     ]
    }
   ],
   "source": [
    "print(court_court_names.shape)\n",
    "print(us_states_and_courts.shape)"
   ]
  },
  {
   "cell_type": "code",
   "execution_count": 385,
   "metadata": {},
   "outputs": [
    {
     "data": {
      "text/html": [
       "<div>\n",
       "<style scoped>\n",
       "    .dataframe tbody tr th:only-of-type {\n",
       "        vertical-align: middle;\n",
       "    }\n",
       "\n",
       "    .dataframe tbody tr th {\n",
       "        vertical-align: top;\n",
       "    }\n",
       "\n",
       "    .dataframe thead th {\n",
       "        text-align: right;\n",
       "    }\n",
       "</style>\n",
       "<table border=\"1\" class=\"dataframe\">\n",
       "  <thead>\n",
       "    <tr style=\"text-align: right;\">\n",
       "      <th></th>\n",
       "      <th>USStateCourtID</th>\n",
       "      <th>CourtID</th>\n",
       "      <th>USStateID</th>\n",
       "      <th>CourtName</th>\n",
       "      <th>CourtLevelID</th>\n",
       "      <th>CSPAggID</th>\n",
       "      <th>FundingID</th>\n",
       "      <th>AppealFromAdminAgency</th>\n",
       "      <th>Notes</th>\n",
       "      <th>Link</th>\n",
       "      <th>DisplayOrder</th>\n",
       "      <th>State</th>\n",
       "      <th>FundingDescription</th>\n",
       "      <th>CourtLevelDescription</th>\n",
       "    </tr>\n",
       "  </thead>\n",
       "  <tbody>\n",
       "    <tr>\n",
       "      <th>253</th>\n",
       "      <td>255</td>\n",
       "      <td>93</td>\n",
       "      <td>46</td>\n",
       "      <td>Court of Appeals</td>\n",
       "      <td>IAC</td>\n",
       "      <td>IAC</td>\n",
       "      <td>S</td>\n",
       "      <td>False</td>\n",
       "      <td>-99</td>\n",
       "      <td>http://www.txcourts.gov/about-texas-courts/cou...</td>\n",
       "      <td>255</td>\n",
       "      <td>Texas</td>\n",
       "      <td>State funded</td>\n",
       "      <td>Intermediate Appellate Court</td>\n",
       "    </tr>\n",
       "  </tbody>\n",
       "</table>\n",
       "</div>"
      ],
      "text/plain": [
       "     USStateCourtID  CourtID  USStateID         CourtName CourtLevelID  \\\n",
       "253             255       93         46  Court of Appeals   IAC          \n",
       "\n",
       "       CSPAggID FundingID  AppealFromAdminAgency Notes  \\\n",
       "253  IAC                S                  False   -99   \n",
       "\n",
       "                                                  Link  DisplayOrder  State  \\\n",
       "253  http://www.txcourts.gov/about-texas-courts/cou...           255  Texas   \n",
       "\n",
       "    FundingDescription         CourtLevelDescription  \n",
       "253       State funded  Intermediate Appellate Court  "
      ]
     },
     "execution_count": 385,
     "metadata": {},
     "output_type": "execute_result"
    }
   ],
   "source": [
    "us_states_and_courts[us_states_and_courts['CourtID'] == 93]"
   ]
  },
  {
   "cell_type": "code",
   "execution_count": 386,
   "metadata": {},
   "outputs": [
    {
     "data": {
      "text/html": [
       "<div>\n",
       "<style scoped>\n",
       "    .dataframe tbody tr th:only-of-type {\n",
       "        vertical-align: middle;\n",
       "    }\n",
       "\n",
       "    .dataframe tbody tr th {\n",
       "        vertical-align: top;\n",
       "    }\n",
       "\n",
       "    .dataframe thead th {\n",
       "        text-align: right;\n",
       "    }\n",
       "</style>\n",
       "<table border=\"1\" class=\"dataframe\">\n",
       "  <thead>\n",
       "    <tr style=\"text-align: right;\">\n",
       "      <th></th>\n",
       "      <th>CourtCourtNameID</th>\n",
       "      <th>CourtNameID</th>\n",
       "      <th>CourtID</th>\n",
       "    </tr>\n",
       "  </thead>\n",
       "  <tbody>\n",
       "    <tr>\n",
       "      <th>123</th>\n",
       "      <td>124</td>\n",
       "      <td>126</td>\n",
       "      <td>93</td>\n",
       "    </tr>\n",
       "    <tr>\n",
       "      <th>124</th>\n",
       "      <td>125</td>\n",
       "      <td>127</td>\n",
       "      <td>93</td>\n",
       "    </tr>\n",
       "    <tr>\n",
       "      <th>125</th>\n",
       "      <td>126</td>\n",
       "      <td>128</td>\n",
       "      <td>93</td>\n",
       "    </tr>\n",
       "    <tr>\n",
       "      <th>126</th>\n",
       "      <td>127</td>\n",
       "      <td>129</td>\n",
       "      <td>93</td>\n",
       "    </tr>\n",
       "    <tr>\n",
       "      <th>127</th>\n",
       "      <td>128</td>\n",
       "      <td>130</td>\n",
       "      <td>93</td>\n",
       "    </tr>\n",
       "    <tr>\n",
       "      <th>128</th>\n",
       "      <td>129</td>\n",
       "      <td>131</td>\n",
       "      <td>93</td>\n",
       "    </tr>\n",
       "    <tr>\n",
       "      <th>129</th>\n",
       "      <td>130</td>\n",
       "      <td>132</td>\n",
       "      <td>93</td>\n",
       "    </tr>\n",
       "    <tr>\n",
       "      <th>130</th>\n",
       "      <td>131</td>\n",
       "      <td>133</td>\n",
       "      <td>93</td>\n",
       "    </tr>\n",
       "    <tr>\n",
       "      <th>131</th>\n",
       "      <td>132</td>\n",
       "      <td>134</td>\n",
       "      <td>93</td>\n",
       "    </tr>\n",
       "    <tr>\n",
       "      <th>132</th>\n",
       "      <td>133</td>\n",
       "      <td>135</td>\n",
       "      <td>93</td>\n",
       "    </tr>\n",
       "    <tr>\n",
       "      <th>133</th>\n",
       "      <td>134</td>\n",
       "      <td>136</td>\n",
       "      <td>93</td>\n",
       "    </tr>\n",
       "    <tr>\n",
       "      <th>134</th>\n",
       "      <td>135</td>\n",
       "      <td>137</td>\n",
       "      <td>93</td>\n",
       "    </tr>\n",
       "    <tr>\n",
       "      <th>135</th>\n",
       "      <td>136</td>\n",
       "      <td>138</td>\n",
       "      <td>93</td>\n",
       "    </tr>\n",
       "    <tr>\n",
       "      <th>136</th>\n",
       "      <td>137</td>\n",
       "      <td>139</td>\n",
       "      <td>93</td>\n",
       "    </tr>\n",
       "  </tbody>\n",
       "</table>\n",
       "</div>"
      ],
      "text/plain": [
       "     CourtCourtNameID  CourtNameID  CourtID\n",
       "123               124          126       93\n",
       "124               125          127       93\n",
       "125               126          128       93\n",
       "126               127          129       93\n",
       "127               128          130       93\n",
       "128               129          131       93\n",
       "129               130          132       93\n",
       "130               131          133       93\n",
       "131               132          134       93\n",
       "132               133          135       93\n",
       "133               134          136       93\n",
       "134               135          137       93\n",
       "135               136          138       93\n",
       "136               137          139       93"
      ]
     },
     "execution_count": 386,
     "metadata": {},
     "output_type": "execute_result"
    }
   ],
   "source": [
    "court_court_names[court_court_names['CourtID'] == 93]"
   ]
  },
  {
   "cell_type": "code",
   "execution_count": 387,
   "metadata": {},
   "outputs": [
    {
     "data": {
      "text/html": [
       "<div>\n",
       "<style scoped>\n",
       "    .dataframe tbody tr th:only-of-type {\n",
       "        vertical-align: middle;\n",
       "    }\n",
       "\n",
       "    .dataframe tbody tr th {\n",
       "        vertical-align: top;\n",
       "    }\n",
       "\n",
       "    .dataframe thead th {\n",
       "        text-align: right;\n",
       "    }\n",
       "</style>\n",
       "<table border=\"1\" class=\"dataframe\">\n",
       "  <thead>\n",
       "    <tr style=\"text-align: right;\">\n",
       "      <th></th>\n",
       "      <th>State</th>\n",
       "      <th>CourtName</th>\n",
       "      <th>CourtLevelDescription</th>\n",
       "      <th>FundingDescription</th>\n",
       "      <th>AppealFromAdminAgency</th>\n",
       "      <th>Notes</th>\n",
       "      <th>Link</th>\n",
       "    </tr>\n",
       "  </thead>\n",
       "  <tbody>\n",
       "    <tr>\n",
       "      <th>0</th>\n",
       "      <td>Alabama</td>\n",
       "      <td>Supreme Court</td>\n",
       "      <td>Court of Last Resource</td>\n",
       "      <td>State funded</td>\n",
       "      <td>False</td>\n",
       "      <td>Assigns cases to the Court of Civil Appeals.</td>\n",
       "      <td>http://judicial.alabama.gov/supreme.cfm</td>\n",
       "    </tr>\n",
       "    <tr>\n",
       "      <th>1</th>\n",
       "      <td>Alabama</td>\n",
       "      <td>Court of Civil Appeals</td>\n",
       "      <td>Intermediate Appellate Court</td>\n",
       "      <td>State funded</td>\n",
       "      <td>False</td>\n",
       "      <td>-99</td>\n",
       "      <td>http://judicial.alabama.gov/civil.cfm</td>\n",
       "    </tr>\n",
       "    <tr>\n",
       "      <th>2</th>\n",
       "      <td>Alabama</td>\n",
       "      <td>Court of Criminal Appeals</td>\n",
       "      <td>Intermediate Appellate Court</td>\n",
       "      <td>State funded</td>\n",
       "      <td>False</td>\n",
       "      <td>-99</td>\n",
       "      <td>http://judicial.alabama.gov/criminal.cfm</td>\n",
       "    </tr>\n",
       "  </tbody>\n",
       "</table>\n",
       "</div>"
      ],
      "text/plain": [
       "     State                  CourtName         CourtLevelDescription  \\\n",
       "0  Alabama              Supreme Court        Court of Last Resource   \n",
       "1  Alabama     Court of Civil Appeals  Intermediate Appellate Court   \n",
       "2  Alabama  Court of Criminal Appeals  Intermediate Appellate Court   \n",
       "\n",
       "  FundingDescription  AppealFromAdminAgency  \\\n",
       "0       State funded                  False   \n",
       "1       State funded                  False   \n",
       "2       State funded                  False   \n",
       "\n",
       "                                          Notes  \\\n",
       "0  Assigns cases to the Court of Civil Appeals.   \n",
       "1                                           -99   \n",
       "2                                           -99   \n",
       "\n",
       "                                       Link  \n",
       "0   http://judicial.alabama.gov/supreme.cfm  \n",
       "1     http://judicial.alabama.gov/civil.cfm  \n",
       "2  http://judicial.alabama.gov/criminal.cfm  "
      ]
     },
     "execution_count": 387,
     "metadata": {},
     "output_type": "execute_result"
    }
   ],
   "source": [
    "display_cols = [\n",
    "    'State', 'CourtName', 'CourtLevelDescription', \n",
    "    'FundingDescription', 'AppealFromAdminAgency', 'Notes', 'Link']\n",
    "us_states_and_courts[display_cols].head(3)"
   ]
  },
  {
   "cell_type": "code",
   "execution_count": 388,
   "metadata": {
    "collapsed": true
   },
   "outputs": [],
   "source": [
    "# Change `Court of Last RESOURCE` to `Court of Last RESORT`\n",
    "\n",
    "def correct_court_level_description(row, col):\n",
    "    if row[col] == 'Court of Last Resource':\n",
    "        return 'Court of Last Resort'\n",
    "    else:\n",
    "        return row[col]"
   ]
  },
  {
   "cell_type": "code",
   "execution_count": 389,
   "metadata": {
    "collapsed": true
   },
   "outputs": [],
   "source": [
    "us_states_and_courts['CourtLevelDescription'] = us_states_and_courts.apply(correct_court_level_description, \n",
    "                                                                           args=('CourtLevelDescription',), axis=1)"
   ]
  },
  {
   "cell_type": "code",
   "execution_count": 390,
   "metadata": {},
   "outputs": [
    {
     "data": {
      "application/vnd.jupyter.widget-view+json": {
       "model_id": "6ba1da10818b4259a066ce7ab0699be5",
       "version_major": 2,
       "version_minor": 0
      },
      "text/plain": [
       "QgridWidget(grid_options={'fullWidthRows': True, 'syncColumnCellResize': True, 'forceFitColumns': True, 'defau…"
      ]
     },
     "metadata": {},
     "output_type": "display_data"
    }
   ],
   "source": [
    "qgrid_widget = qgrid.show_grid(us_states_and_courts[display_cols], show_toolbar=True)\n",
    "qgrid_widget"
   ]
  },
  {
   "cell_type": "code",
   "execution_count": 394,
   "metadata": {
    "collapsed": true
   },
   "outputs": [],
   "source": [
    "us_states_and_courts[display_cols].to_csv('us_states_and_courts.csv', index=False)"
   ]
  },
  {
   "cell_type": "code",
   "execution_count": 391,
   "metadata": {
    "collapsed": true
   },
   "outputs": [],
   "source": [
    "def format_bools_for_bokeh(row):\n",
    "    if row['AppealFromAdminAgency'] == True:\n",
    "        return 'Yes'\n",
    "    elif row['AppealFromAdminAgency'] == False:\n",
    "        return 'No'"
   ]
  },
  {
   "cell_type": "code",
   "execution_count": 392,
   "metadata": {
    "collapsed": true
   },
   "outputs": [],
   "source": [
    "us_states_and_courts['AppealFromAdminAgency'] = us_states_and_courts.apply(format_bools_for_bokeh, axis=1)"
   ]
  },
  {
   "cell_type": "code",
   "execution_count": 393,
   "metadata": {},
   "outputs": [
    {
     "data": {
      "text/plain": [
       "Limited Jurisdiction            115\n",
       "General Jurisdiction             72\n",
       "Court of Last Resort             55\n",
       "Intermediate Appellate Court     47\n",
       "Name: CourtLevelDescription, dtype: int64"
      ]
     },
     "execution_count": 393,
     "metadata": {},
     "output_type": "execute_result"
    }
   ],
   "source": [
    "us_states_and_courts['CourtLevelDescription'].value_counts()"
   ]
  },
  {
   "cell_type": "code",
   "execution_count": null,
   "metadata": {
    "collapsed": true
   },
   "outputs": [],
   "source": [
    "us_states_and_courts['Notes'] = us_states_and_courts['Notes'].str.replace('-99', '')"
   ]
  },
  {
   "cell_type": "code",
   "execution_count": 193,
   "metadata": {
    "collapsed": true
   },
   "outputs": [],
   "source": [
    "# us_states_and_courts[display_cols].to_csv('csv_files_for_alvin/us_states_and_courts.csv', index=False)"
   ]
  },
  {
   "cell_type": "markdown",
   "metadata": {},
   "source": [
    "## <font color='red'>Third DataFrame \"names_of_courts_by_state\"</font>"
   ]
  },
  {
   "cell_type": "code",
   "execution_count": 342,
   "metadata": {
    "collapsed": true
   },
   "outputs": [],
   "source": [
    "names_of_courts_by_state = court_court_names.copy()"
   ]
  },
  {
   "cell_type": "code",
   "execution_count": 343,
   "metadata": {},
   "outputs": [
    {
     "data": {
      "text/html": [
       "<div>\n",
       "<style scoped>\n",
       "    .dataframe tbody tr th:only-of-type {\n",
       "        vertical-align: middle;\n",
       "    }\n",
       "\n",
       "    .dataframe tbody tr th {\n",
       "        vertical-align: top;\n",
       "    }\n",
       "\n",
       "    .dataframe thead th {\n",
       "        text-align: right;\n",
       "    }\n",
       "</style>\n",
       "<table border=\"1\" class=\"dataframe\">\n",
       "  <thead>\n",
       "    <tr style=\"text-align: right;\">\n",
       "      <th></th>\n",
       "      <th>CourtCourtNameID</th>\n",
       "      <th>CourtNameID</th>\n",
       "      <th>CourtID</th>\n",
       "    </tr>\n",
       "  </thead>\n",
       "  <tbody>\n",
       "    <tr>\n",
       "      <th>0</th>\n",
       "      <td>1</td>\n",
       "      <td>1</td>\n",
       "      <td>2</td>\n",
       "    </tr>\n",
       "    <tr>\n",
       "      <th>1</th>\n",
       "      <td>2</td>\n",
       "      <td>2</td>\n",
       "      <td>3</td>\n",
       "    </tr>\n",
       "    <tr>\n",
       "      <th>2</th>\n",
       "      <td>3</td>\n",
       "      <td>3</td>\n",
       "      <td>1</td>\n",
       "    </tr>\n",
       "  </tbody>\n",
       "</table>\n",
       "</div>"
      ],
      "text/plain": [
       "   CourtCourtNameID  CourtNameID  CourtID\n",
       "0                 1            1        2\n",
       "1                 2            2        3\n",
       "2                 3            3        1"
      ]
     },
     "execution_count": 343,
     "metadata": {},
     "output_type": "execute_result"
    }
   ],
   "source": [
    "names_of_courts_by_state.head(3)"
   ]
  },
  {
   "cell_type": "code",
   "execution_count": 344,
   "metadata": {
    "collapsed": true
   },
   "outputs": [],
   "source": [
    "# Add State name\n",
    "\n",
    "def add_state_name(row):\n",
    "    try:\n",
    "        return us_states_and_courts[us_states_and_courts['CourtID'] == row['CourtID']]['State'].values[0]\n",
    "    except IndexError:\n",
    "        print(colored('Error! `CourtID`: {}'.format(row['CourtID']), 'red', attrs=['bold']))"
   ]
  },
  {
   "cell_type": "code",
   "execution_count": 345,
   "metadata": {
    "collapsed": true
   },
   "outputs": [],
   "source": [
    "names_of_courts_by_state['State'] = names_of_courts_by_state.apply(add_state_name, axis=1)"
   ]
  },
  {
   "cell_type": "code",
   "execution_count": 346,
   "metadata": {},
   "outputs": [
    {
     "data": {
      "text/html": [
       "<div>\n",
       "<style scoped>\n",
       "    .dataframe tbody tr th:only-of-type {\n",
       "        vertical-align: middle;\n",
       "    }\n",
       "\n",
       "    .dataframe tbody tr th {\n",
       "        vertical-align: top;\n",
       "    }\n",
       "\n",
       "    .dataframe thead th {\n",
       "        text-align: right;\n",
       "    }\n",
       "</style>\n",
       "<table border=\"1\" class=\"dataframe\">\n",
       "  <thead>\n",
       "    <tr style=\"text-align: right;\">\n",
       "      <th></th>\n",
       "      <th>CourtCourtNameID</th>\n",
       "      <th>CourtNameID</th>\n",
       "      <th>CourtID</th>\n",
       "      <th>State</th>\n",
       "    </tr>\n",
       "  </thead>\n",
       "  <tbody>\n",
       "    <tr>\n",
       "      <th>0</th>\n",
       "      <td>1</td>\n",
       "      <td>1</td>\n",
       "      <td>2</td>\n",
       "      <td>Alabama</td>\n",
       "    </tr>\n",
       "    <tr>\n",
       "      <th>1</th>\n",
       "      <td>2</td>\n",
       "      <td>2</td>\n",
       "      <td>3</td>\n",
       "      <td>Alabama</td>\n",
       "    </tr>\n",
       "    <tr>\n",
       "      <th>2</th>\n",
       "      <td>3</td>\n",
       "      <td>3</td>\n",
       "      <td>1</td>\n",
       "      <td>Alabama</td>\n",
       "    </tr>\n",
       "  </tbody>\n",
       "</table>\n",
       "</div>"
      ],
      "text/plain": [
       "   CourtCourtNameID  CourtNameID  CourtID    State\n",
       "0                 1            1        2  Alabama\n",
       "1                 2            2        3  Alabama\n",
       "2                 3            3        1  Alabama"
      ]
     },
     "execution_count": 346,
     "metadata": {},
     "output_type": "execute_result"
    }
   ],
   "source": [
    "names_of_courts_by_state.head(3)"
   ]
  },
  {
   "cell_type": "code",
   "execution_count": 347,
   "metadata": {},
   "outputs": [
    {
     "data": {
      "text/html": [
       "<div>\n",
       "<style scoped>\n",
       "    .dataframe tbody tr th:only-of-type {\n",
       "        vertical-align: middle;\n",
       "    }\n",
       "\n",
       "    .dataframe tbody tr th {\n",
       "        vertical-align: top;\n",
       "    }\n",
       "\n",
       "    .dataframe thead th {\n",
       "        text-align: right;\n",
       "    }\n",
       "</style>\n",
       "<table border=\"1\" class=\"dataframe\">\n",
       "  <thead>\n",
       "    <tr style=\"text-align: right;\">\n",
       "      <th></th>\n",
       "      <th>CourtNameID</th>\n",
       "      <th>CourtNameName</th>\n",
       "      <th>NumberDivisions</th>\n",
       "      <th>NumberJudges</th>\n",
       "      <th>PanelDecisionID</th>\n",
       "      <th>NumberPanels</th>\n",
       "      <th>EFilingMandatoryID</th>\n",
       "      <th>EFilingFeeID</th>\n",
       "      <th>NumberOfIndividualCourts</th>\n",
       "      <th>EFilingMandatoryStatewideCivilID</th>\n",
       "      <th>EfilingMandatoryStatewideCriminalID</th>\n",
       "      <th>EfilingMandatoryStatewideDRID</th>\n",
       "      <th>EfilingMandatoryStatewideJuvenileID</th>\n",
       "      <th>EfilingMandatoryStatewideTrafficID</th>\n",
       "      <th>CaseManagementID</th>\n",
       "      <th>DisplayOrder</th>\n",
       "    </tr>\n",
       "  </thead>\n",
       "  <tbody>\n",
       "    <tr>\n",
       "      <th>0</th>\n",
       "      <td>1</td>\n",
       "      <td>Court of Civil Appeals</td>\n",
       "      <td>-99</td>\n",
       "      <td>-99</td>\n",
       "      <td>-99</td>\n",
       "      <td>-99</td>\n",
       "      <td>-99</td>\n",
       "      <td>-99</td>\n",
       "      <td>-98</td>\n",
       "      <td>-98</td>\n",
       "      <td>-98</td>\n",
       "      <td>-98</td>\n",
       "      <td>-98</td>\n",
       "      <td>-98</td>\n",
       "      <td>-98</td>\n",
       "      <td>1</td>\n",
       "    </tr>\n",
       "    <tr>\n",
       "      <th>1</th>\n",
       "      <td>2</td>\n",
       "      <td>Court of Criminal Appeals</td>\n",
       "      <td>-99</td>\n",
       "      <td>-99</td>\n",
       "      <td>-99</td>\n",
       "      <td>-99</td>\n",
       "      <td>-99</td>\n",
       "      <td>-99</td>\n",
       "      <td>-98</td>\n",
       "      <td>-98</td>\n",
       "      <td>-98</td>\n",
       "      <td>-98</td>\n",
       "      <td>-98</td>\n",
       "      <td>-98</td>\n",
       "      <td>-98</td>\n",
       "      <td>2</td>\n",
       "    </tr>\n",
       "    <tr>\n",
       "      <th>2</th>\n",
       "      <td>3</td>\n",
       "      <td>Supreme Court</td>\n",
       "      <td>-99</td>\n",
       "      <td>-99</td>\n",
       "      <td>-99</td>\n",
       "      <td>-99</td>\n",
       "      <td>-99</td>\n",
       "      <td>-99</td>\n",
       "      <td>-98</td>\n",
       "      <td>-98</td>\n",
       "      <td>-98</td>\n",
       "      <td>-98</td>\n",
       "      <td>-98</td>\n",
       "      <td>-98</td>\n",
       "      <td>-98</td>\n",
       "      <td>3</td>\n",
       "    </tr>\n",
       "  </tbody>\n",
       "</table>\n",
       "</div>"
      ],
      "text/plain": [
       "   CourtNameID              CourtNameName  NumberDivisions  NumberJudges  \\\n",
       "0            1     Court of Civil Appeals              -99           -99   \n",
       "1            2  Court of Criminal Appeals              -99           -99   \n",
       "2            3              Supreme Court              -99           -99   \n",
       "\n",
       "   PanelDecisionID NumberPanels  EFilingMandatoryID  EFilingFeeID  \\\n",
       "0              -99          -99                 -99           -99   \n",
       "1              -99          -99                 -99           -99   \n",
       "2              -99          -99                 -99           -99   \n",
       "\n",
       "   NumberOfIndividualCourts  EFilingMandatoryStatewideCivilID  \\\n",
       "0                       -98                               -98   \n",
       "1                       -98                               -98   \n",
       "2                       -98                               -98   \n",
       "\n",
       "   EfilingMandatoryStatewideCriminalID  EfilingMandatoryStatewideDRID  \\\n",
       "0                                  -98                            -98   \n",
       "1                                  -98                            -98   \n",
       "2                                  -98                            -98   \n",
       "\n",
       "   EfilingMandatoryStatewideJuvenileID  EfilingMandatoryStatewideTrafficID  \\\n",
       "0                                  -98                                 -98   \n",
       "1                                  -98                                 -98   \n",
       "2                                  -98                                 -98   \n",
       "\n",
       "   CaseManagementID  DisplayOrder  \n",
       "0               -98             1  \n",
       "1               -98             2  \n",
       "2               -98             3  "
      ]
     },
     "execution_count": 347,
     "metadata": {},
     "output_type": "execute_result"
    }
   ],
   "source": [
    "court_names.head(3)"
   ]
  },
  {
   "cell_type": "code",
   "execution_count": 348,
   "metadata": {
    "collapsed": true
   },
   "outputs": [],
   "source": [
    "names_of_courts_by_state = pd.merge(names_of_courts_by_state, court_names, on='CourtNameID')"
   ]
  },
  {
   "cell_type": "code",
   "execution_count": 349,
   "metadata": {},
   "outputs": [
    {
     "data": {
      "text/html": [
       "<div>\n",
       "<style scoped>\n",
       "    .dataframe tbody tr th:only-of-type {\n",
       "        vertical-align: middle;\n",
       "    }\n",
       "\n",
       "    .dataframe tbody tr th {\n",
       "        vertical-align: top;\n",
       "    }\n",
       "\n",
       "    .dataframe thead th {\n",
       "        text-align: right;\n",
       "    }\n",
       "</style>\n",
       "<table border=\"1\" class=\"dataframe\">\n",
       "  <thead>\n",
       "    <tr style=\"text-align: right;\">\n",
       "      <th></th>\n",
       "      <th>CourtCourtNameID</th>\n",
       "      <th>CourtNameID</th>\n",
       "      <th>CourtID</th>\n",
       "      <th>State</th>\n",
       "      <th>CourtNameName</th>\n",
       "      <th>NumberDivisions</th>\n",
       "      <th>NumberJudges</th>\n",
       "      <th>PanelDecisionID</th>\n",
       "      <th>NumberPanels</th>\n",
       "      <th>EFilingMandatoryID</th>\n",
       "      <th>EFilingFeeID</th>\n",
       "      <th>NumberOfIndividualCourts</th>\n",
       "      <th>EFilingMandatoryStatewideCivilID</th>\n",
       "      <th>EfilingMandatoryStatewideCriminalID</th>\n",
       "      <th>EfilingMandatoryStatewideDRID</th>\n",
       "      <th>EfilingMandatoryStatewideJuvenileID</th>\n",
       "      <th>EfilingMandatoryStatewideTrafficID</th>\n",
       "      <th>CaseManagementID</th>\n",
       "      <th>DisplayOrder</th>\n",
       "    </tr>\n",
       "  </thead>\n",
       "  <tbody>\n",
       "    <tr>\n",
       "      <th>0</th>\n",
       "      <td>1</td>\n",
       "      <td>1</td>\n",
       "      <td>2</td>\n",
       "      <td>Alabama</td>\n",
       "      <td>Court of Civil Appeals</td>\n",
       "      <td>-99</td>\n",
       "      <td>-99</td>\n",
       "      <td>-99</td>\n",
       "      <td>-99</td>\n",
       "      <td>-99</td>\n",
       "      <td>-99</td>\n",
       "      <td>-98</td>\n",
       "      <td>-98</td>\n",
       "      <td>-98</td>\n",
       "      <td>-98</td>\n",
       "      <td>-98</td>\n",
       "      <td>-98</td>\n",
       "      <td>-98</td>\n",
       "      <td>1</td>\n",
       "    </tr>\n",
       "    <tr>\n",
       "      <th>1</th>\n",
       "      <td>2</td>\n",
       "      <td>2</td>\n",
       "      <td>3</td>\n",
       "      <td>Alabama</td>\n",
       "      <td>Court of Criminal Appeals</td>\n",
       "      <td>-99</td>\n",
       "      <td>-99</td>\n",
       "      <td>-99</td>\n",
       "      <td>-99</td>\n",
       "      <td>-99</td>\n",
       "      <td>-99</td>\n",
       "      <td>-98</td>\n",
       "      <td>-98</td>\n",
       "      <td>-98</td>\n",
       "      <td>-98</td>\n",
       "      <td>-98</td>\n",
       "      <td>-98</td>\n",
       "      <td>-98</td>\n",
       "      <td>2</td>\n",
       "    </tr>\n",
       "    <tr>\n",
       "      <th>2</th>\n",
       "      <td>3</td>\n",
       "      <td>3</td>\n",
       "      <td>1</td>\n",
       "      <td>Alabama</td>\n",
       "      <td>Supreme Court</td>\n",
       "      <td>-99</td>\n",
       "      <td>-99</td>\n",
       "      <td>-99</td>\n",
       "      <td>-99</td>\n",
       "      <td>-99</td>\n",
       "      <td>-99</td>\n",
       "      <td>-98</td>\n",
       "      <td>-98</td>\n",
       "      <td>-98</td>\n",
       "      <td>-98</td>\n",
       "      <td>-98</td>\n",
       "      <td>-98</td>\n",
       "      <td>-98</td>\n",
       "      <td>3</td>\n",
       "    </tr>\n",
       "  </tbody>\n",
       "</table>\n",
       "</div>"
      ],
      "text/plain": [
       "   CourtCourtNameID  CourtNameID  CourtID    State              CourtNameName  \\\n",
       "0                 1            1        2  Alabama     Court of Civil Appeals   \n",
       "1                 2            2        3  Alabama  Court of Criminal Appeals   \n",
       "2                 3            3        1  Alabama              Supreme Court   \n",
       "\n",
       "   NumberDivisions  NumberJudges  PanelDecisionID NumberPanels  \\\n",
       "0              -99           -99              -99          -99   \n",
       "1              -99           -99              -99          -99   \n",
       "2              -99           -99              -99          -99   \n",
       "\n",
       "   EFilingMandatoryID  EFilingFeeID  NumberOfIndividualCourts  \\\n",
       "0                 -99           -99                       -98   \n",
       "1                 -99           -99                       -98   \n",
       "2                 -99           -99                       -98   \n",
       "\n",
       "   EFilingMandatoryStatewideCivilID  EfilingMandatoryStatewideCriminalID  \\\n",
       "0                               -98                                  -98   \n",
       "1                               -98                                  -98   \n",
       "2                               -98                                  -98   \n",
       "\n",
       "   EfilingMandatoryStatewideDRID  EfilingMandatoryStatewideJuvenileID  \\\n",
       "0                            -98                                  -98   \n",
       "1                            -98                                  -98   \n",
       "2                            -98                                  -98   \n",
       "\n",
       "   EfilingMandatoryStatewideTrafficID  CaseManagementID  DisplayOrder  \n",
       "0                                 -98               -98             1  \n",
       "1                                 -98               -98             2  \n",
       "2                                 -98               -98             3  "
      ]
     },
     "execution_count": 349,
     "metadata": {},
     "output_type": "execute_result"
    }
   ],
   "source": [
    "names_of_courts_by_state.head(3)"
   ]
  },
  {
   "cell_type": "markdown",
   "metadata": {},
   "source": [
    "### <font color='red'>TODO: Ascertain distinction between -99 and -98</font>"
   ]
  },
  {
   "cell_type": "code",
   "execution_count": 350,
   "metadata": {
    "collapsed": true
   },
   "outputs": [],
   "source": [
    "# Add Panel Decision Description\n",
    "\n",
    "def add_panel_decision_description(row):\n",
    "    return panel_decision[\n",
    "        panel_decision['PanelDecisionID'] == row['PanelDecisionID']\n",
    "    ]['PanelDecisionDescription'].values[0]"
   ]
  },
  {
   "cell_type": "code",
   "execution_count": 351,
   "metadata": {
    "collapsed": true
   },
   "outputs": [],
   "source": [
    "names_of_courts_by_state['PanelDecisionDescription'] = names_of_courts_by_state.apply(\n",
    "                                                        add_panel_decision_description, axis=1)"
   ]
  },
  {
   "cell_type": "code",
   "execution_count": 352,
   "metadata": {},
   "outputs": [
    {
     "data": {
      "text/html": [
       "<div>\n",
       "<style scoped>\n",
       "    .dataframe tbody tr th:only-of-type {\n",
       "        vertical-align: middle;\n",
       "    }\n",
       "\n",
       "    .dataframe tbody tr th {\n",
       "        vertical-align: top;\n",
       "    }\n",
       "\n",
       "    .dataframe thead th {\n",
       "        text-align: right;\n",
       "    }\n",
       "</style>\n",
       "<table border=\"1\" class=\"dataframe\">\n",
       "  <thead>\n",
       "    <tr style=\"text-align: right;\">\n",
       "      <th></th>\n",
       "      <th>State</th>\n",
       "      <th>CourtNameName</th>\n",
       "      <th>PanelDecisionDescription</th>\n",
       "    </tr>\n",
       "  </thead>\n",
       "  <tbody>\n",
       "    <tr>\n",
       "      <th>36</th>\n",
       "      <td>Illinois</td>\n",
       "      <td>Fifth District Court of Appeals</td>\n",
       "      <td>Missing information</td>\n",
       "    </tr>\n",
       "    <tr>\n",
       "      <th>37</th>\n",
       "      <td>Illinois</td>\n",
       "      <td>First District Court of Appeals</td>\n",
       "      <td>Yes</td>\n",
       "    </tr>\n",
       "    <tr>\n",
       "      <th>38</th>\n",
       "      <td>Illinois</td>\n",
       "      <td>Fourth District Court of Appeals</td>\n",
       "      <td>Missing information</td>\n",
       "    </tr>\n",
       "  </tbody>\n",
       "</table>\n",
       "</div>"
      ],
      "text/plain": [
       "       State                     CourtNameName PanelDecisionDescription\n",
       "36  Illinois   Fifth District Court of Appeals      Missing information\n",
       "37  Illinois   First District Court of Appeals                      Yes\n",
       "38  Illinois  Fourth District Court of Appeals      Missing information"
      ]
     },
     "execution_count": 352,
     "metadata": {},
     "output_type": "execute_result"
    }
   ],
   "source": [
    "names_of_courts_by_state[['State', 'CourtNameName', 'PanelDecisionDescription']].iloc[36:39]"
   ]
  },
  {
   "cell_type": "code",
   "execution_count": 353,
   "metadata": {
    "collapsed": true
   },
   "outputs": [],
   "source": [
    "# Add Case Management Description\n",
    "\n",
    "def add_case_mgmt_description(row):\n",
    "    return case_mgmt[\n",
    "        case_mgmt['CaseManagementID'] == row['CaseManagementID']\n",
    "        ]['CaseManagementDescription'].values[0]"
   ]
  },
  {
   "cell_type": "code",
   "execution_count": 354,
   "metadata": {
    "collapsed": true
   },
   "outputs": [],
   "source": [
    "names_of_courts_by_state['CaseManagementDescription'] = names_of_courts_by_state.apply(add_case_mgmt_description, axis=1)"
   ]
  },
  {
   "cell_type": "code",
   "execution_count": 355,
   "metadata": {},
   "outputs": [
    {
     "data": {
      "text/html": [
       "<div>\n",
       "<style scoped>\n",
       "    .dataframe tbody tr th:only-of-type {\n",
       "        vertical-align: middle;\n",
       "    }\n",
       "\n",
       "    .dataframe tbody tr th {\n",
       "        vertical-align: top;\n",
       "    }\n",
       "\n",
       "    .dataframe thead th {\n",
       "        text-align: right;\n",
       "    }\n",
       "</style>\n",
       "<table border=\"1\" class=\"dataframe\">\n",
       "  <thead>\n",
       "    <tr style=\"text-align: right;\">\n",
       "      <th></th>\n",
       "      <th>State</th>\n",
       "      <th>CourtNameName</th>\n",
       "      <th>CaseManagementDescription</th>\n",
       "    </tr>\n",
       "  </thead>\n",
       "  <tbody>\n",
       "    <tr>\n",
       "      <th>335</th>\n",
       "      <td>Wisconsin</td>\n",
       "      <td>Circuit</td>\n",
       "      <td>Not all courts on the same case management system</td>\n",
       "    </tr>\n",
       "    <tr>\n",
       "      <th>336</th>\n",
       "      <td>Wisconsin</td>\n",
       "      <td>Municipal</td>\n",
       "      <td>Missing information</td>\n",
       "    </tr>\n",
       "    <tr>\n",
       "      <th>337</th>\n",
       "      <td>Wyoming</td>\n",
       "      <td>District</td>\n",
       "      <td>Missing information</td>\n",
       "    </tr>\n",
       "    <tr>\n",
       "      <th>338</th>\n",
       "      <td>Wyoming</td>\n",
       "      <td>Circuit</td>\n",
       "      <td>Missing information</td>\n",
       "    </tr>\n",
       "    <tr>\n",
       "      <th>339</th>\n",
       "      <td>Wyoming</td>\n",
       "      <td>Municipal</td>\n",
       "      <td>Missing information</td>\n",
       "    </tr>\n",
       "  </tbody>\n",
       "</table>\n",
       "</div>"
      ],
      "text/plain": [
       "         State CourtNameName  \\\n",
       "335  Wisconsin       Circuit   \n",
       "336  Wisconsin     Municipal   \n",
       "337    Wyoming      District   \n",
       "338    Wyoming       Circuit   \n",
       "339    Wyoming     Municipal   \n",
       "\n",
       "                             CaseManagementDescription  \n",
       "335  Not all courts on the same case management system  \n",
       "336                                Missing information  \n",
       "337                                Missing information  \n",
       "338                                Missing information  \n",
       "339                                Missing information  "
      ]
     },
     "execution_count": 355,
     "metadata": {},
     "output_type": "execute_result"
    }
   ],
   "source": [
    "names_of_courts_by_state[['State', 'CourtNameName', 'CaseManagementDescription']].tail()"
   ]
  },
  {
   "cell_type": "code",
   "execution_count": 356,
   "metadata": {},
   "outputs": [
    {
     "data": {
      "text/html": [
       "<div>\n",
       "<style scoped>\n",
       "    .dataframe tbody tr th:only-of-type {\n",
       "        vertical-align: middle;\n",
       "    }\n",
       "\n",
       "    .dataframe tbody tr th {\n",
       "        vertical-align: top;\n",
       "    }\n",
       "\n",
       "    .dataframe thead th {\n",
       "        text-align: right;\n",
       "    }\n",
       "</style>\n",
       "<table border=\"1\" class=\"dataframe\">\n",
       "  <thead>\n",
       "    <tr style=\"text-align: right;\">\n",
       "      <th></th>\n",
       "      <th>CourtCaseTypeID</th>\n",
       "      <th>CourtID</th>\n",
       "      <th>CaseTypeID</th>\n",
       "      <th>AppealByRight</th>\n",
       "      <th>AppealByPermission</th>\n",
       "      <th>OriginalProceeding</th>\n",
       "      <th>InterlocutoryAppeal</th>\n",
       "      <th>Exclusive</th>\n",
       "      <th>Limited</th>\n",
       "      <th>MinValue</th>\n",
       "      <th>MaxValue</th>\n",
       "      <th>Notes</th>\n",
       "      <th>DisplayOrder</th>\n",
       "    </tr>\n",
       "  </thead>\n",
       "  <tbody>\n",
       "    <tr>\n",
       "      <th>0</th>\n",
       "      <td>1</td>\n",
       "      <td>106</td>\n",
       "      <td>1</td>\n",
       "      <td>False</td>\n",
       "      <td>False</td>\n",
       "      <td>False</td>\n",
       "      <td>False</td>\n",
       "      <td>False</td>\n",
       "      <td>False</td>\n",
       "      <td>-98</td>\n",
       "      <td>-98</td>\n",
       "      <td>NaN</td>\n",
       "      <td>1</td>\n",
       "    </tr>\n",
       "    <tr>\n",
       "      <th>1</th>\n",
       "      <td>2</td>\n",
       "      <td>106</td>\n",
       "      <td>2</td>\n",
       "      <td>False</td>\n",
       "      <td>False</td>\n",
       "      <td>False</td>\n",
       "      <td>False</td>\n",
       "      <td>False</td>\n",
       "      <td>False</td>\n",
       "      <td>-98</td>\n",
       "      <td>-98</td>\n",
       "      <td>NaN</td>\n",
       "      <td>2</td>\n",
       "    </tr>\n",
       "    <tr>\n",
       "      <th>2</th>\n",
       "      <td>3</td>\n",
       "      <td>106</td>\n",
       "      <td>53</td>\n",
       "      <td>False</td>\n",
       "      <td>False</td>\n",
       "      <td>False</td>\n",
       "      <td>False</td>\n",
       "      <td>False</td>\n",
       "      <td>False</td>\n",
       "      <td>-98</td>\n",
       "      <td>-98</td>\n",
       "      <td>NaN</td>\n",
       "      <td>3</td>\n",
       "    </tr>\n",
       "  </tbody>\n",
       "</table>\n",
       "</div>"
      ],
      "text/plain": [
       "   CourtCaseTypeID  CourtID  CaseTypeID  AppealByRight  AppealByPermission  \\\n",
       "0                1      106           1          False               False   \n",
       "1                2      106           2          False               False   \n",
       "2                3      106          53          False               False   \n",
       "\n",
       "   OriginalProceeding  InterlocutoryAppeal  Exclusive  Limited  MinValue  \\\n",
       "0               False                False      False    False       -98   \n",
       "1               False                False      False    False       -98   \n",
       "2               False                False      False    False       -98   \n",
       "\n",
       "  MaxValue Notes  DisplayOrder  \n",
       "0      -98   NaN             1  \n",
       "1      -98   NaN             2  \n",
       "2      -98   NaN             3  "
      ]
     },
     "execution_count": 356,
     "metadata": {},
     "output_type": "execute_result"
    }
   ],
   "source": [
    "court_case_type.head(3)"
   ]
  },
  {
   "cell_type": "code",
   "execution_count": 358,
   "metadata": {
    "collapsed": true
   },
   "outputs": [],
   "source": [
    "# names_of_courts_by_state.T"
   ]
  },
  {
   "cell_type": "code",
   "execution_count": 210,
   "metadata": {
    "collapsed": true
   },
   "outputs": [],
   "source": [
    "# court_case_type.head(3)"
   ]
  },
  {
   "cell_type": "markdown",
   "metadata": {},
   "source": [
    "### <font color='red'>TODO: Change NULLs/-99/-98 to empty string for QGrid</font>\n",
    "### <font color='red'>TODO: Demo expanded view (X)</font>"
   ]
  },
  {
   "cell_type": "code",
   "execution_count": 359,
   "metadata": {},
   "outputs": [
    {
     "data": {
      "application/vnd.jupyter.widget-view+json": {
       "model_id": "35cd05ad381a413f9db74c639563ed5e",
       "version_major": 2,
       "version_minor": 0
      },
      "text/plain": [
       "QgridWidget(grid_options={'fullWidthRows': True, 'syncColumnCellResize': True, 'forceFitColumns': True, 'defau…"
      ]
     },
     "metadata": {},
     "output_type": "display_data"
    }
   ],
   "source": [
    "display_cols = [\n",
    "    'State', 'CourtNameName', 'NumberDivisions', 'NumberJudges', \n",
    "    'NumberPanels', 'PanelDecisionDescription', 'NumberOfIndividualCourts', \n",
    "    'CaseManagementDescription']\n",
    "\n",
    "qgrid_widget = qgrid.show_grid(names_of_courts_by_state[display_cols], show_toolbar=True)\n",
    "qgrid_widget"
   ]
  },
  {
   "cell_type": "code",
   "execution_count": null,
   "metadata": {
    "collapsed": true
   },
   "outputs": [],
   "source": [
    "names_of_courts_by_state.fillna('', inplace=True) # Just added 9/26/18"
   ]
  },
  {
   "cell_type": "code",
   "execution_count": 366,
   "metadata": {
    "collapsed": true
   },
   "outputs": [],
   "source": [
    "names_of_courts_by_state[display_cols].to_csv('names_of_courts_by_state.csv', index=False)\n",
    "# names_of_courts_by_state[display_cols].to_csv('csv_files_for_alvin/names_of_courts_by_state.csv', index=False)"
   ]
  },
  {
   "cell_type": "code",
   "execution_count": 360,
   "metadata": {},
   "outputs": [
    {
     "data": {
      "text/plain": [
       "-98      227\n",
       "-99       60\n",
       "3         10\n",
       "1          9\n",
       "5          8\n",
       "4          5\n",
       "2-Jan      4\n",
       "2          3\n",
       "4-Jan      2\n",
       "10         2\n",
       "8          2\n",
       "30         1\n",
       "7          1\n",
       "5-Jan      1\n",
       "12         1\n",
       "3-Jan      1\n",
       "6          1\n",
       "9          1\n",
       "1-100      1\n",
       "Name: NumberPanels, dtype: int64"
      ]
     },
     "execution_count": 360,
     "metadata": {},
     "output_type": "execute_result"
    }
   ],
   "source": [
    "names_of_courts_by_state['NumberPanels'].value_counts()"
   ]
  },
  {
   "cell_type": "code",
   "execution_count": 361,
   "metadata": {
    "collapsed": true
   },
   "outputs": [],
   "source": [
    "def replace_neg_98_neg_99_with_nan(row, col):\n",
    "    if row[col] in ['-99', '-98', -99, -98]:\n",
    "        return np.nan\n",
    "    else:\n",
    "        return row[col]"
   ]
  },
  {
   "cell_type": "code",
   "execution_count": 362,
   "metadata": {
    "collapsed": true
   },
   "outputs": [],
   "source": [
    "names_of_courts_by_state['NumberPanels'] = names_of_courts_by_state.apply(replace_neg_98_neg_99_with_nan, args=('NumberPanels',), axis=1)"
   ]
  },
  {
   "cell_type": "code",
   "execution_count": 363,
   "metadata": {
    "collapsed": true
   },
   "outputs": [],
   "source": [
    "names_of_courts_by_state['NumberPanels'] = names_of_courts_by_state['NumberPanels'].str.replace('-Jan', '')\n",
    "names_of_courts_by_state['NumberPanels'] = names_of_courts_by_state['NumberPanels'].str.replace('-100', '')"
   ]
  },
  {
   "cell_type": "code",
   "execution_count": 364,
   "metadata": {
    "collapsed": true
   },
   "outputs": [],
   "source": [
    "names_of_courts_by_state['NumberOfIndividualCourts'] = names_of_courts_by_state.apply(replace_neg_98_neg_99_with_nan, args=('NumberOfIndividualCourts',), axis=1)"
   ]
  },
  {
   "cell_type": "code",
   "execution_count": 365,
   "metadata": {},
   "outputs": [
    {
     "data": {
      "text/plain": [
       "1.0      17\n",
       "4.0       7\n",
       "3.0       5\n",
       "46.0      4\n",
       "15.0      4\n",
       "159.0     4\n",
       "2.0       4\n",
       "22.0      4\n",
       "43.0      3\n",
       "11.0      3\n",
       "62.0      3\n",
       "120.0     3\n",
       "24.0      3\n",
       "10.0      3\n",
       "7.0       3\n",
       "36.0      2\n",
       "39.0      2\n",
       "14.0      2\n",
       "26.0      2\n",
       "81.0      2\n",
       "17.0      2\n",
       "41.0      2\n",
       "33.0      2\n",
       "82.0      2\n",
       "105.0     2\n",
       "31.0      2\n",
       "71.0      2\n",
       "20.0      2\n",
       "18.0      2\n",
       "58.0      2\n",
       "         ..\n",
       "27.0      1\n",
       "55.0      1\n",
       "69.0      1\n",
       "252.0     1\n",
       "933.0     1\n",
       "365.0     1\n",
       "387.0     1\n",
       "305.0     1\n",
       "317.0     1\n",
       "465.0     1\n",
       "254.0     1\n",
       "156.0     1\n",
       "21.0      1\n",
       "34.0      1\n",
       "226.0     1\n",
       "806.0     1\n",
       "444.0     1\n",
       "48.0      1\n",
       "61.0      1\n",
       "50.0      1\n",
       "53.0      1\n",
       "73.0      1\n",
       "88.0      1\n",
       "129.0     1\n",
       "60.0      1\n",
       "544.0     1\n",
       "208.0     1\n",
       "42.0      1\n",
       "86.0      1\n",
       "16.0      1\n",
       "Name: NumberOfIndividualCourts, Length: 83, dtype: int64"
      ]
     },
     "execution_count": 365,
     "metadata": {},
     "output_type": "execute_result"
    }
   ],
   "source": [
    "names_of_courts_by_state['NumberOfIndividualCourts'].value_counts()"
   ]
  },
  {
   "cell_type": "code",
   "execution_count": null,
   "metadata": {
    "collapsed": true
   },
   "outputs": [],
   "source": []
  },
  {
   "cell_type": "markdown",
   "metadata": {},
   "source": [
    "## <font color='red'>Fourth DataFrame: \"all_court_case_types\"</font>"
   ]
  },
  {
   "cell_type": "code",
   "execution_count": 216,
   "metadata": {
    "collapsed": true
   },
   "outputs": [],
   "source": [
    "all_court_case_types = court_case_type.copy()"
   ]
  },
  {
   "cell_type": "code",
   "execution_count": 217,
   "metadata": {},
   "outputs": [
    {
     "data": {
      "text/html": [
       "<div>\n",
       "<style scoped>\n",
       "    .dataframe tbody tr th:only-of-type {\n",
       "        vertical-align: middle;\n",
       "    }\n",
       "\n",
       "    .dataframe tbody tr th {\n",
       "        vertical-align: top;\n",
       "    }\n",
       "\n",
       "    .dataframe thead th {\n",
       "        text-align: right;\n",
       "    }\n",
       "</style>\n",
       "<table border=\"1\" class=\"dataframe\">\n",
       "  <thead>\n",
       "    <tr style=\"text-align: right;\">\n",
       "      <th></th>\n",
       "      <th>CourtCourtNameID</th>\n",
       "      <th>CourtNameID</th>\n",
       "      <th>CourtID</th>\n",
       "      <th>State</th>\n",
       "      <th>CourtNameName</th>\n",
       "      <th>NumberDivisions</th>\n",
       "      <th>NumberJudges</th>\n",
       "      <th>PanelDecisionID</th>\n",
       "      <th>NumberPanels</th>\n",
       "      <th>EFilingMandatoryID</th>\n",
       "      <th>...</th>\n",
       "      <th>NumberOfIndividualCourts</th>\n",
       "      <th>EFilingMandatoryStatewideCivilID</th>\n",
       "      <th>EfilingMandatoryStatewideCriminalID</th>\n",
       "      <th>EfilingMandatoryStatewideDRID</th>\n",
       "      <th>EfilingMandatoryStatewideJuvenileID</th>\n",
       "      <th>EfilingMandatoryStatewideTrafficID</th>\n",
       "      <th>CaseManagementID</th>\n",
       "      <th>DisplayOrder</th>\n",
       "      <th>PanelDecisionDescription</th>\n",
       "      <th>CaseManagementDescription</th>\n",
       "    </tr>\n",
       "  </thead>\n",
       "  <tbody>\n",
       "    <tr>\n",
       "      <th>0</th>\n",
       "      <td>1</td>\n",
       "      <td>1</td>\n",
       "      <td>2</td>\n",
       "      <td>Alabama</td>\n",
       "      <td>Court of Civil Appeals</td>\n",
       "      <td>-99</td>\n",
       "      <td>-99</td>\n",
       "      <td>-99</td>\n",
       "      <td>-99</td>\n",
       "      <td>-99</td>\n",
       "      <td>...</td>\n",
       "      <td>-98</td>\n",
       "      <td>-98</td>\n",
       "      <td>-98</td>\n",
       "      <td>-98</td>\n",
       "      <td>-98</td>\n",
       "      <td>-98</td>\n",
       "      <td>-98</td>\n",
       "      <td>1</td>\n",
       "      <td>Missing information</td>\n",
       "      <td>NaN</td>\n",
       "    </tr>\n",
       "    <tr>\n",
       "      <th>1</th>\n",
       "      <td>2</td>\n",
       "      <td>2</td>\n",
       "      <td>3</td>\n",
       "      <td>Alabama</td>\n",
       "      <td>Court of Criminal Appeals</td>\n",
       "      <td>-99</td>\n",
       "      <td>-99</td>\n",
       "      <td>-99</td>\n",
       "      <td>-99</td>\n",
       "      <td>-99</td>\n",
       "      <td>...</td>\n",
       "      <td>-98</td>\n",
       "      <td>-98</td>\n",
       "      <td>-98</td>\n",
       "      <td>-98</td>\n",
       "      <td>-98</td>\n",
       "      <td>-98</td>\n",
       "      <td>-98</td>\n",
       "      <td>2</td>\n",
       "      <td>Missing information</td>\n",
       "      <td>NaN</td>\n",
       "    </tr>\n",
       "    <tr>\n",
       "      <th>2</th>\n",
       "      <td>3</td>\n",
       "      <td>3</td>\n",
       "      <td>1</td>\n",
       "      <td>Alabama</td>\n",
       "      <td>Supreme Court</td>\n",
       "      <td>-99</td>\n",
       "      <td>-99</td>\n",
       "      <td>-99</td>\n",
       "      <td>-99</td>\n",
       "      <td>-99</td>\n",
       "      <td>...</td>\n",
       "      <td>-98</td>\n",
       "      <td>-98</td>\n",
       "      <td>-98</td>\n",
       "      <td>-98</td>\n",
       "      <td>-98</td>\n",
       "      <td>-98</td>\n",
       "      <td>-98</td>\n",
       "      <td>3</td>\n",
       "      <td>Missing information</td>\n",
       "      <td>NaN</td>\n",
       "    </tr>\n",
       "  </tbody>\n",
       "</table>\n",
       "<p>3 rows × 21 columns</p>\n",
       "</div>"
      ],
      "text/plain": [
       "   CourtCourtNameID  CourtNameID  CourtID    State              CourtNameName  \\\n",
       "0                 1            1        2  Alabama     Court of Civil Appeals   \n",
       "1                 2            2        3  Alabama  Court of Criminal Appeals   \n",
       "2                 3            3        1  Alabama              Supreme Court   \n",
       "\n",
       "   NumberDivisions  NumberJudges  PanelDecisionID NumberPanels  \\\n",
       "0              -99           -99              -99          -99   \n",
       "1              -99           -99              -99          -99   \n",
       "2              -99           -99              -99          -99   \n",
       "\n",
       "   EFilingMandatoryID            ...             NumberOfIndividualCourts  \\\n",
       "0                 -99            ...                                  -98   \n",
       "1                 -99            ...                                  -98   \n",
       "2                 -99            ...                                  -98   \n",
       "\n",
       "   EFilingMandatoryStatewideCivilID  EfilingMandatoryStatewideCriminalID  \\\n",
       "0                               -98                                  -98   \n",
       "1                               -98                                  -98   \n",
       "2                               -98                                  -98   \n",
       "\n",
       "   EfilingMandatoryStatewideDRID  EfilingMandatoryStatewideJuvenileID  \\\n",
       "0                            -98                                  -98   \n",
       "1                            -98                                  -98   \n",
       "2                            -98                                  -98   \n",
       "\n",
       "   EfilingMandatoryStatewideTrafficID  CaseManagementID  DisplayOrder  \\\n",
       "0                                 -98               -98             1   \n",
       "1                                 -98               -98             2   \n",
       "2                                 -98               -98             3   \n",
       "\n",
       "   PanelDecisionDescription CaseManagementDescription  \n",
       "0       Missing information                       NaN  \n",
       "1       Missing information                       NaN  \n",
       "2       Missing information                       NaN  \n",
       "\n",
       "[3 rows x 21 columns]"
      ]
     },
     "execution_count": 217,
     "metadata": {},
     "output_type": "execute_result"
    }
   ],
   "source": [
    "names_of_courts_by_state.head(3)"
   ]
  },
  {
   "cell_type": "code",
   "execution_count": 218,
   "metadata": {},
   "outputs": [
    {
     "data": {
      "text/html": [
       "<div>\n",
       "<style scoped>\n",
       "    .dataframe tbody tr th:only-of-type {\n",
       "        vertical-align: middle;\n",
       "    }\n",
       "\n",
       "    .dataframe tbody tr th {\n",
       "        vertical-align: top;\n",
       "    }\n",
       "\n",
       "    .dataframe thead th {\n",
       "        text-align: right;\n",
       "    }\n",
       "</style>\n",
       "<table border=\"1\" class=\"dataframe\">\n",
       "  <thead>\n",
       "    <tr style=\"text-align: right;\">\n",
       "      <th></th>\n",
       "      <th>152</th>\n",
       "    </tr>\n",
       "  </thead>\n",
       "  <tbody>\n",
       "    <tr>\n",
       "      <th>CourtCourtNameID</th>\n",
       "      <td>153</td>\n",
       "    </tr>\n",
       "    <tr>\n",
       "      <th>CourtNameID</th>\n",
       "      <td>156</td>\n",
       "    </tr>\n",
       "    <tr>\n",
       "      <th>CourtID</th>\n",
       "      <td>106</td>\n",
       "    </tr>\n",
       "    <tr>\n",
       "      <th>State</th>\n",
       "      <td>Alabama</td>\n",
       "    </tr>\n",
       "    <tr>\n",
       "      <th>CourtNameName</th>\n",
       "      <td>Circuit</td>\n",
       "    </tr>\n",
       "    <tr>\n",
       "      <th>NumberDivisions</th>\n",
       "      <td>-98</td>\n",
       "    </tr>\n",
       "    <tr>\n",
       "      <th>NumberJudges</th>\n",
       "      <td>-99</td>\n",
       "    </tr>\n",
       "    <tr>\n",
       "      <th>PanelDecisionID</th>\n",
       "      <td>-98</td>\n",
       "    </tr>\n",
       "    <tr>\n",
       "      <th>NumberPanels</th>\n",
       "      <td>-98</td>\n",
       "    </tr>\n",
       "    <tr>\n",
       "      <th>EFilingMandatoryID</th>\n",
       "      <td>-98</td>\n",
       "    </tr>\n",
       "    <tr>\n",
       "      <th>EFilingFeeID</th>\n",
       "      <td>-98</td>\n",
       "    </tr>\n",
       "    <tr>\n",
       "      <th>NumberOfIndividualCourts</th>\n",
       "      <td>-99</td>\n",
       "    </tr>\n",
       "    <tr>\n",
       "      <th>EFilingMandatoryStatewideCivilID</th>\n",
       "      <td>-98</td>\n",
       "    </tr>\n",
       "    <tr>\n",
       "      <th>EfilingMandatoryStatewideCriminalID</th>\n",
       "      <td>-98</td>\n",
       "    </tr>\n",
       "    <tr>\n",
       "      <th>EfilingMandatoryStatewideDRID</th>\n",
       "      <td>-98</td>\n",
       "    </tr>\n",
       "    <tr>\n",
       "      <th>EfilingMandatoryStatewideJuvenileID</th>\n",
       "      <td>-98</td>\n",
       "    </tr>\n",
       "    <tr>\n",
       "      <th>EfilingMandatoryStatewideTrafficID</th>\n",
       "      <td>-98</td>\n",
       "    </tr>\n",
       "    <tr>\n",
       "      <th>CaseManagementID</th>\n",
       "      <td>1</td>\n",
       "    </tr>\n",
       "    <tr>\n",
       "      <th>DisplayOrder</th>\n",
       "      <td>153</td>\n",
       "    </tr>\n",
       "    <tr>\n",
       "      <th>PanelDecisionDescription</th>\n",
       "      <td>NaN</td>\n",
       "    </tr>\n",
       "    <tr>\n",
       "      <th>CaseManagementDescription</th>\n",
       "      <td>All courts on the same case management system</td>\n",
       "    </tr>\n",
       "  </tbody>\n",
       "</table>\n",
       "</div>"
      ],
      "text/plain": [
       "                                                                               152\n",
       "CourtCourtNameID                                                               153\n",
       "CourtNameID                                                                    156\n",
       "CourtID                                                                        106\n",
       "State                                                                      Alabama\n",
       "CourtNameName                                                              Circuit\n",
       "NumberDivisions                                                                -98\n",
       "NumberJudges                                                                   -99\n",
       "PanelDecisionID                                                                -98\n",
       "NumberPanels                                                                   -98\n",
       "EFilingMandatoryID                                                             -98\n",
       "EFilingFeeID                                                                   -98\n",
       "NumberOfIndividualCourts                                                       -99\n",
       "EFilingMandatoryStatewideCivilID                                               -98\n",
       "EfilingMandatoryStatewideCriminalID                                            -98\n",
       "EfilingMandatoryStatewideDRID                                                  -98\n",
       "EfilingMandatoryStatewideJuvenileID                                            -98\n",
       "EfilingMandatoryStatewideTrafficID                                             -98\n",
       "CaseManagementID                                                                 1\n",
       "DisplayOrder                                                                   153\n",
       "PanelDecisionDescription                                                       NaN\n",
       "CaseManagementDescription            All courts on the same case management system"
      ]
     },
     "execution_count": 218,
     "metadata": {},
     "output_type": "execute_result"
    }
   ],
   "source": [
    "names_of_courts_by_state[names_of_courts_by_state['CourtID'] == 106].T"
   ]
  },
  {
   "cell_type": "markdown",
   "metadata": {},
   "source": [
    "<h2><font color='red'>Outstanding Question:</font></h2>\n",
    "<img src='OustandingQuestionReCourtIDs196And300.png'></img>"
   ]
  },
  {
   "cell_type": "code",
   "execution_count": 219,
   "metadata": {},
   "outputs": [
    {
     "name": "stdout",
     "output_type": "stream",
     "text": [
      "\u001b[1m\u001b[31mError! `CourtID`: 196\u001b[0m\n",
      "\u001b[1m\u001b[31mError! `CourtID`: 196\u001b[0m\n",
      "\u001b[1m\u001b[31mError! `CourtID`: 196\u001b[0m\n",
      "\u001b[1m\u001b[31mError! `CourtID`: 300\u001b[0m\n",
      "\u001b[1m\u001b[31mError! `CourtID`: 300\u001b[0m\n",
      "\u001b[1m\u001b[31mError! `CourtID`: 300\u001b[0m\n",
      "\u001b[1m\u001b[31mError! `CourtID`: 300\u001b[0m\n",
      "\u001b[1m\u001b[31mError! `CourtID`: 300\u001b[0m\n",
      "\u001b[1m\u001b[31mError! `CourtID`: 300\u001b[0m\n",
      "\u001b[1m\u001b[31mError! `CourtID`: 300\u001b[0m\n",
      "\u001b[1m\u001b[31mError! `CourtID`: 300\u001b[0m\n"
     ]
    }
   ],
   "source": [
    "# Add states name (function definition above)\n",
    "all_court_case_types['State'] = all_court_case_types.apply(add_state_name, axis=1)"
   ]
  },
  {
   "cell_type": "code",
   "execution_count": 220,
   "metadata": {
    "collapsed": true
   },
   "outputs": [],
   "source": [
    "# Add Court Name\n",
    "\n",
    "def add_court_name(row):\n",
    "    try:\n",
    "        return names_of_courts_by_state[names_of_courts_by_state['CourtID'] == row['CourtID']]['CourtNameName'].values[0]\n",
    "    except IndexError:\n",
    "        print(colored('Error! `CourtID`: {}'.format(row['CourtID']), 'red', attrs=['bold']))\n",
    "        return np.nan\n",
    "    "
   ]
  },
  {
   "cell_type": "code",
   "execution_count": 221,
   "metadata": {},
   "outputs": [
    {
     "name": "stdout",
     "output_type": "stream",
     "text": [
      "\u001b[1m\u001b[31mError! `CourtID`: 196\u001b[0m\n",
      "\u001b[1m\u001b[31mError! `CourtID`: 196\u001b[0m\n",
      "\u001b[1m\u001b[31mError! `CourtID`: 196\u001b[0m\n",
      "\u001b[1m\u001b[31mError! `CourtID`: 300\u001b[0m\n",
      "\u001b[1m\u001b[31mError! `CourtID`: 300\u001b[0m\n",
      "\u001b[1m\u001b[31mError! `CourtID`: 300\u001b[0m\n",
      "\u001b[1m\u001b[31mError! `CourtID`: 300\u001b[0m\n",
      "\u001b[1m\u001b[31mError! `CourtID`: 300\u001b[0m\n",
      "\u001b[1m\u001b[31mError! `CourtID`: 300\u001b[0m\n",
      "\u001b[1m\u001b[31mError! `CourtID`: 300\u001b[0m\n",
      "\u001b[1m\u001b[31mError! `CourtID`: 300\u001b[0m\n"
     ]
    }
   ],
   "source": [
    "all_court_case_types['CourtName'] = all_court_case_types.apply(add_court_name, axis=1)"
   ]
  },
  {
   "cell_type": "code",
   "execution_count": 222,
   "metadata": {},
   "outputs": [
    {
     "data": {
      "text/html": [
       "<div>\n",
       "<style scoped>\n",
       "    .dataframe tbody tr th:only-of-type {\n",
       "        vertical-align: middle;\n",
       "    }\n",
       "\n",
       "    .dataframe tbody tr th {\n",
       "        vertical-align: top;\n",
       "    }\n",
       "\n",
       "    .dataframe thead th {\n",
       "        text-align: right;\n",
       "    }\n",
       "</style>\n",
       "<table border=\"1\" class=\"dataframe\">\n",
       "  <thead>\n",
       "    <tr style=\"text-align: right;\">\n",
       "      <th></th>\n",
       "      <th>CourtCaseTypeID</th>\n",
       "      <th>CourtID</th>\n",
       "      <th>CaseTypeID</th>\n",
       "      <th>AppealByRight</th>\n",
       "      <th>AppealByPermission</th>\n",
       "      <th>OriginalProceeding</th>\n",
       "      <th>InterlocutoryAppeal</th>\n",
       "      <th>Exclusive</th>\n",
       "      <th>Limited</th>\n",
       "      <th>MinValue</th>\n",
       "      <th>MaxValue</th>\n",
       "      <th>Notes</th>\n",
       "      <th>DisplayOrder</th>\n",
       "      <th>State</th>\n",
       "      <th>CourtName</th>\n",
       "    </tr>\n",
       "  </thead>\n",
       "  <tbody>\n",
       "    <tr>\n",
       "      <th>0</th>\n",
       "      <td>1</td>\n",
       "      <td>106</td>\n",
       "      <td>1</td>\n",
       "      <td>False</td>\n",
       "      <td>False</td>\n",
       "      <td>False</td>\n",
       "      <td>False</td>\n",
       "      <td>False</td>\n",
       "      <td>False</td>\n",
       "      <td>-98</td>\n",
       "      <td>-98</td>\n",
       "      <td>NaN</td>\n",
       "      <td>1</td>\n",
       "      <td>Alabama</td>\n",
       "      <td>Circuit</td>\n",
       "    </tr>\n",
       "    <tr>\n",
       "      <th>1</th>\n",
       "      <td>2</td>\n",
       "      <td>106</td>\n",
       "      <td>2</td>\n",
       "      <td>False</td>\n",
       "      <td>False</td>\n",
       "      <td>False</td>\n",
       "      <td>False</td>\n",
       "      <td>False</td>\n",
       "      <td>False</td>\n",
       "      <td>-98</td>\n",
       "      <td>-98</td>\n",
       "      <td>NaN</td>\n",
       "      <td>2</td>\n",
       "      <td>Alabama</td>\n",
       "      <td>Circuit</td>\n",
       "    </tr>\n",
       "    <tr>\n",
       "      <th>2</th>\n",
       "      <td>3</td>\n",
       "      <td>106</td>\n",
       "      <td>53</td>\n",
       "      <td>False</td>\n",
       "      <td>False</td>\n",
       "      <td>False</td>\n",
       "      <td>False</td>\n",
       "      <td>False</td>\n",
       "      <td>False</td>\n",
       "      <td>-98</td>\n",
       "      <td>-98</td>\n",
       "      <td>NaN</td>\n",
       "      <td>3</td>\n",
       "      <td>Alabama</td>\n",
       "      <td>Circuit</td>\n",
       "    </tr>\n",
       "    <tr>\n",
       "      <th>3</th>\n",
       "      <td>4</td>\n",
       "      <td>106</td>\n",
       "      <td>3</td>\n",
       "      <td>False</td>\n",
       "      <td>False</td>\n",
       "      <td>False</td>\n",
       "      <td>False</td>\n",
       "      <td>False</td>\n",
       "      <td>False</td>\n",
       "      <td>10000</td>\n",
       "      <td>NOMAX</td>\n",
       "      <td>NaN</td>\n",
       "      <td>4</td>\n",
       "      <td>Alabama</td>\n",
       "      <td>Circuit</td>\n",
       "    </tr>\n",
       "    <tr>\n",
       "      <th>4</th>\n",
       "      <td>5</td>\n",
       "      <td>106</td>\n",
       "      <td>6</td>\n",
       "      <td>False</td>\n",
       "      <td>False</td>\n",
       "      <td>False</td>\n",
       "      <td>False</td>\n",
       "      <td>False</td>\n",
       "      <td>False</td>\n",
       "      <td>-98</td>\n",
       "      <td>-98</td>\n",
       "      <td>NaN</td>\n",
       "      <td>5</td>\n",
       "      <td>Alabama</td>\n",
       "      <td>Circuit</td>\n",
       "    </tr>\n",
       "  </tbody>\n",
       "</table>\n",
       "</div>"
      ],
      "text/plain": [
       "   CourtCaseTypeID  CourtID  CaseTypeID  AppealByRight  AppealByPermission  \\\n",
       "0                1      106           1          False               False   \n",
       "1                2      106           2          False               False   \n",
       "2                3      106          53          False               False   \n",
       "3                4      106           3          False               False   \n",
       "4                5      106           6          False               False   \n",
       "\n",
       "   OriginalProceeding  InterlocutoryAppeal  Exclusive  Limited  MinValue  \\\n",
       "0               False                False      False    False       -98   \n",
       "1               False                False      False    False       -98   \n",
       "2               False                False      False    False       -98   \n",
       "3               False                False      False    False     10000   \n",
       "4               False                False      False    False       -98   \n",
       "\n",
       "  MaxValue Notes  DisplayOrder    State CourtName  \n",
       "0      -98   NaN             1  Alabama   Circuit  \n",
       "1      -98   NaN             2  Alabama   Circuit  \n",
       "2      -98   NaN             3  Alabama   Circuit  \n",
       "3    NOMAX   NaN             4  Alabama   Circuit  \n",
       "4      -98   NaN             5  Alabama   Circuit  "
      ]
     },
     "execution_count": 222,
     "metadata": {},
     "output_type": "execute_result"
    }
   ],
   "source": [
    "all_court_case_types.head()"
   ]
  },
  {
   "cell_type": "code",
   "execution_count": 223,
   "metadata": {
    "collapsed": true
   },
   "outputs": [],
   "source": [
    "# Add court case description\n",
    "def add_court_case_description(row):\n",
    "    return case_type[case_type['CaseTypeID'] == row['CaseTypeID']]['CaseTypeDescription'].values[0]"
   ]
  },
  {
   "cell_type": "code",
   "execution_count": 224,
   "metadata": {
    "collapsed": true
   },
   "outputs": [],
   "source": [
    "all_court_case_types['CaseTypeDescription'] = all_court_case_types.apply(add_court_case_description, axis=1)"
   ]
  },
  {
   "cell_type": "code",
   "execution_count": 225,
   "metadata": {},
   "outputs": [
    {
     "data": {
      "text/html": [
       "<div>\n",
       "<style scoped>\n",
       "    .dataframe tbody tr th:only-of-type {\n",
       "        vertical-align: middle;\n",
       "    }\n",
       "\n",
       "    .dataframe tbody tr th {\n",
       "        vertical-align: top;\n",
       "    }\n",
       "\n",
       "    .dataframe thead th {\n",
       "        text-align: right;\n",
       "    }\n",
       "</style>\n",
       "<table border=\"1\" class=\"dataframe\">\n",
       "  <thead>\n",
       "    <tr style=\"text-align: right;\">\n",
       "      <th></th>\n",
       "      <th>State</th>\n",
       "      <th>CourtName</th>\n",
       "      <th>CaseTypeDescription</th>\n",
       "    </tr>\n",
       "  </thead>\n",
       "  <tbody>\n",
       "    <tr>\n",
       "      <th>0</th>\n",
       "      <td>Alabama</td>\n",
       "      <td>Circuit</td>\n",
       "      <td>Tort</td>\n",
       "    </tr>\n",
       "    <tr>\n",
       "      <th>1</th>\n",
       "      <td>Alabama</td>\n",
       "      <td>Circuit</td>\n",
       "      <td>Contract</td>\n",
       "    </tr>\n",
       "    <tr>\n",
       "      <th>2</th>\n",
       "      <td>Alabama</td>\n",
       "      <td>Circuit</td>\n",
       "      <td>Employment</td>\n",
       "    </tr>\n",
       "    <tr>\n",
       "      <th>3</th>\n",
       "      <td>Alabama</td>\n",
       "      <td>Circuit</td>\n",
       "      <td>Real Property</td>\n",
       "    </tr>\n",
       "    <tr>\n",
       "      <th>4</th>\n",
       "      <td>Alabama</td>\n",
       "      <td>Circuit</td>\n",
       "      <td>Landlord/Tenant</td>\n",
       "    </tr>\n",
       "    <tr>\n",
       "      <th>5</th>\n",
       "      <td>Alabama</td>\n",
       "      <td>Circuit</td>\n",
       "      <td>Civil Appeals from Limited Jurisdiction</td>\n",
       "    </tr>\n",
       "    <tr>\n",
       "      <th>6</th>\n",
       "      <td>Indiana</td>\n",
       "      <td>Tax Court</td>\n",
       "      <td>Revenue (Tax)</td>\n",
       "    </tr>\n",
       "    <tr>\n",
       "      <th>7</th>\n",
       "      <td>Alabama</td>\n",
       "      <td>Circuit</td>\n",
       "      <td>Dissolution</td>\n",
       "    </tr>\n",
       "    <tr>\n",
       "      <th>8</th>\n",
       "      <td>Alabama</td>\n",
       "      <td>Circuit</td>\n",
       "      <td>Paternity</td>\n",
       "    </tr>\n",
       "    <tr>\n",
       "      <th>9</th>\n",
       "      <td>Alabama</td>\n",
       "      <td>Circuit</td>\n",
       "      <td>Custody</td>\n",
       "    </tr>\n",
       "  </tbody>\n",
       "</table>\n",
       "</div>"
      ],
      "text/plain": [
       "     State  CourtName                      CaseTypeDescription\n",
       "0  Alabama    Circuit                                     Tort\n",
       "1  Alabama    Circuit                                 Contract\n",
       "2  Alabama    Circuit                               Employment\n",
       "3  Alabama    Circuit                            Real Property\n",
       "4  Alabama    Circuit                          Landlord/Tenant\n",
       "5  Alabama    Circuit  Civil Appeals from Limited Jurisdiction\n",
       "6  Indiana  Tax Court                            Revenue (Tax)\n",
       "7  Alabama    Circuit                              Dissolution\n",
       "8  Alabama    Circuit                                Paternity\n",
       "9  Alabama    Circuit                                  Custody"
      ]
     },
     "execution_count": 225,
     "metadata": {},
     "output_type": "execute_result"
    }
   ],
   "source": [
    "all_court_case_types[['State', 'CourtName', 'CaseTypeDescription']].head(10)"
   ]
  },
  {
   "cell_type": "code",
   "execution_count": 226,
   "metadata": {},
   "outputs": [
    {
     "data": {
      "application/vnd.jupyter.widget-view+json": {
       "model_id": "18f8aaaa130b4b5bb7ed4709fbda3ef9",
       "version_major": 2,
       "version_minor": 0
      },
      "text/plain": [
       "QgridWidget(grid_options={'fullWidthRows': True, 'syncColumnCellResize': True, 'forceFitColumns': True, 'defau…"
      ]
     },
     "metadata": {},
     "output_type": "display_data"
    }
   ],
   "source": [
    "display_cols = [\n",
    "    'State', 'CourtName', 'CaseTypeDescription', 'AppealByRight', \n",
    "    'AppealByPermission', 'OriginalProceeding', 'InterlocutoryAppeal', \n",
    "    'Exclusive', 'Limited', 'MinValue', 'MaxValue', 'Notes']\n",
    "\n",
    "qgrid_widget = qgrid.show_grid(all_court_case_types[display_cols], show_toolbar=True)\n",
    "qgrid_widget"
   ]
  },
  {
   "cell_type": "code",
   "execution_count": 227,
   "metadata": {
    "collapsed": true
   },
   "outputs": [],
   "source": [
    "# all_court_case_types[display_cols].to_csv('all_court_case_types.csv', index=False)\n",
    "# all_court_case_types[display_cols].to_csv('csv_files_for_alvin/all_court_case_types.csv', index=False)"
   ]
  },
  {
   "cell_type": "markdown",
   "metadata": {},
   "source": [
    "## <font color='red'>Fifth DataFrame: \"court_hierarchy\"</font>"
   ]
  },
  {
   "cell_type": "code",
   "execution_count": 228,
   "metadata": {
    "collapsed": true
   },
   "outputs": [],
   "source": [
    "court_hierarchy = appeals.copy()"
   ]
  },
  {
   "cell_type": "code",
   "execution_count": 229,
   "metadata": {},
   "outputs": [
    {
     "data": {
      "text/html": [
       "<div>\n",
       "<style scoped>\n",
       "    .dataframe tbody tr th:only-of-type {\n",
       "        vertical-align: middle;\n",
       "    }\n",
       "\n",
       "    .dataframe tbody tr th {\n",
       "        vertical-align: top;\n",
       "    }\n",
       "\n",
       "    .dataframe thead th {\n",
       "        text-align: right;\n",
       "    }\n",
       "</style>\n",
       "<table border=\"1\" class=\"dataframe\">\n",
       "  <thead>\n",
       "    <tr style=\"text-align: right;\">\n",
       "      <th></th>\n",
       "      <th>AppealProcessID</th>\n",
       "      <th>ChildCourtID</th>\n",
       "      <th>ParentCourtID</th>\n",
       "    </tr>\n",
       "  </thead>\n",
       "  <tbody>\n",
       "    <tr>\n",
       "      <th>0</th>\n",
       "      <td>1</td>\n",
       "      <td>2</td>\n",
       "      <td>1</td>\n",
       "    </tr>\n",
       "    <tr>\n",
       "      <th>1</th>\n",
       "      <td>2</td>\n",
       "      <td>3</td>\n",
       "      <td>1</td>\n",
       "    </tr>\n",
       "    <tr>\n",
       "      <th>2</th>\n",
       "      <td>3</td>\n",
       "      <td>106</td>\n",
       "      <td>1</td>\n",
       "    </tr>\n",
       "  </tbody>\n",
       "</table>\n",
       "</div>"
      ],
      "text/plain": [
       "   AppealProcessID  ChildCourtID  ParentCourtID\n",
       "0                1             2              1\n",
       "1                2             3              1\n",
       "2                3           106              1"
      ]
     },
     "execution_count": 229,
     "metadata": {},
     "output_type": "execute_result"
    }
   ],
   "source": [
    "court_hierarchy.head(3)"
   ]
  },
  {
   "cell_type": "code",
   "execution_count": 230,
   "metadata": {},
   "outputs": [
    {
     "data": {
      "text/html": [
       "<div>\n",
       "<style scoped>\n",
       "    .dataframe tbody tr th:only-of-type {\n",
       "        vertical-align: middle;\n",
       "    }\n",
       "\n",
       "    .dataframe tbody tr th {\n",
       "        vertical-align: top;\n",
       "    }\n",
       "\n",
       "    .dataframe thead th {\n",
       "        text-align: right;\n",
       "    }\n",
       "</style>\n",
       "<table border=\"1\" class=\"dataframe\">\n",
       "  <thead>\n",
       "    <tr style=\"text-align: right;\">\n",
       "      <th></th>\n",
       "      <th>CourtCourtNameID</th>\n",
       "      <th>CourtNameID</th>\n",
       "      <th>CourtID</th>\n",
       "      <th>State</th>\n",
       "      <th>CourtNameName</th>\n",
       "      <th>NumberDivisions</th>\n",
       "      <th>NumberJudges</th>\n",
       "      <th>PanelDecisionID</th>\n",
       "      <th>NumberPanels</th>\n",
       "      <th>EFilingMandatoryID</th>\n",
       "      <th>...</th>\n",
       "      <th>NumberOfIndividualCourts</th>\n",
       "      <th>EFilingMandatoryStatewideCivilID</th>\n",
       "      <th>EfilingMandatoryStatewideCriminalID</th>\n",
       "      <th>EfilingMandatoryStatewideDRID</th>\n",
       "      <th>EfilingMandatoryStatewideJuvenileID</th>\n",
       "      <th>EfilingMandatoryStatewideTrafficID</th>\n",
       "      <th>CaseManagementID</th>\n",
       "      <th>DisplayOrder</th>\n",
       "      <th>PanelDecisionDescription</th>\n",
       "      <th>CaseManagementDescription</th>\n",
       "    </tr>\n",
       "  </thead>\n",
       "  <tbody>\n",
       "    <tr>\n",
       "      <th>0</th>\n",
       "      <td>1</td>\n",
       "      <td>1</td>\n",
       "      <td>2</td>\n",
       "      <td>Alabama</td>\n",
       "      <td>Court of Civil Appeals</td>\n",
       "      <td>-99</td>\n",
       "      <td>-99</td>\n",
       "      <td>-99</td>\n",
       "      <td>-99</td>\n",
       "      <td>-99</td>\n",
       "      <td>...</td>\n",
       "      <td>-98</td>\n",
       "      <td>-98</td>\n",
       "      <td>-98</td>\n",
       "      <td>-98</td>\n",
       "      <td>-98</td>\n",
       "      <td>-98</td>\n",
       "      <td>-98</td>\n",
       "      <td>1</td>\n",
       "      <td>Missing information</td>\n",
       "      <td>NaN</td>\n",
       "    </tr>\n",
       "    <tr>\n",
       "      <th>1</th>\n",
       "      <td>2</td>\n",
       "      <td>2</td>\n",
       "      <td>3</td>\n",
       "      <td>Alabama</td>\n",
       "      <td>Court of Criminal Appeals</td>\n",
       "      <td>-99</td>\n",
       "      <td>-99</td>\n",
       "      <td>-99</td>\n",
       "      <td>-99</td>\n",
       "      <td>-99</td>\n",
       "      <td>...</td>\n",
       "      <td>-98</td>\n",
       "      <td>-98</td>\n",
       "      <td>-98</td>\n",
       "      <td>-98</td>\n",
       "      <td>-98</td>\n",
       "      <td>-98</td>\n",
       "      <td>-98</td>\n",
       "      <td>2</td>\n",
       "      <td>Missing information</td>\n",
       "      <td>NaN</td>\n",
       "    </tr>\n",
       "    <tr>\n",
       "      <th>2</th>\n",
       "      <td>3</td>\n",
       "      <td>3</td>\n",
       "      <td>1</td>\n",
       "      <td>Alabama</td>\n",
       "      <td>Supreme Court</td>\n",
       "      <td>-99</td>\n",
       "      <td>-99</td>\n",
       "      <td>-99</td>\n",
       "      <td>-99</td>\n",
       "      <td>-99</td>\n",
       "      <td>...</td>\n",
       "      <td>-98</td>\n",
       "      <td>-98</td>\n",
       "      <td>-98</td>\n",
       "      <td>-98</td>\n",
       "      <td>-98</td>\n",
       "      <td>-98</td>\n",
       "      <td>-98</td>\n",
       "      <td>3</td>\n",
       "      <td>Missing information</td>\n",
       "      <td>NaN</td>\n",
       "    </tr>\n",
       "    <tr>\n",
       "      <th>3</th>\n",
       "      <td>4</td>\n",
       "      <td>4</td>\n",
       "      <td>5</td>\n",
       "      <td>Alaska</td>\n",
       "      <td>Court of Appeals</td>\n",
       "      <td>0</td>\n",
       "      <td>3</td>\n",
       "      <td>0</td>\n",
       "      <td>-98</td>\n",
       "      <td>-98</td>\n",
       "      <td>...</td>\n",
       "      <td>-98</td>\n",
       "      <td>-98</td>\n",
       "      <td>-98</td>\n",
       "      <td>-98</td>\n",
       "      <td>-98</td>\n",
       "      <td>-98</td>\n",
       "      <td>-98</td>\n",
       "      <td>4</td>\n",
       "      <td>No</td>\n",
       "      <td>NaN</td>\n",
       "    </tr>\n",
       "    <tr>\n",
       "      <th>4</th>\n",
       "      <td>5</td>\n",
       "      <td>5</td>\n",
       "      <td>4</td>\n",
       "      <td>Alaska</td>\n",
       "      <td>Supreme Court</td>\n",
       "      <td>0</td>\n",
       "      <td>5</td>\n",
       "      <td>0</td>\n",
       "      <td>-98</td>\n",
       "      <td>-98</td>\n",
       "      <td>...</td>\n",
       "      <td>-98</td>\n",
       "      <td>-98</td>\n",
       "      <td>-98</td>\n",
       "      <td>-98</td>\n",
       "      <td>-98</td>\n",
       "      <td>-98</td>\n",
       "      <td>-98</td>\n",
       "      <td>5</td>\n",
       "      <td>No</td>\n",
       "      <td>NaN</td>\n",
       "    </tr>\n",
       "  </tbody>\n",
       "</table>\n",
       "<p>5 rows × 21 columns</p>\n",
       "</div>"
      ],
      "text/plain": [
       "   CourtCourtNameID  CourtNameID  CourtID    State              CourtNameName  \\\n",
       "0                 1            1        2  Alabama     Court of Civil Appeals   \n",
       "1                 2            2        3  Alabama  Court of Criminal Appeals   \n",
       "2                 3            3        1  Alabama              Supreme Court   \n",
       "3                 4            4        5   Alaska           Court of Appeals   \n",
       "4                 5            5        4   Alaska              Supreme Court   \n",
       "\n",
       "   NumberDivisions  NumberJudges  PanelDecisionID NumberPanels  \\\n",
       "0              -99           -99              -99          -99   \n",
       "1              -99           -99              -99          -99   \n",
       "2              -99           -99              -99          -99   \n",
       "3                0             3                0          -98   \n",
       "4                0             5                0          -98   \n",
       "\n",
       "   EFilingMandatoryID            ...             NumberOfIndividualCourts  \\\n",
       "0                 -99            ...                                  -98   \n",
       "1                 -99            ...                                  -98   \n",
       "2                 -99            ...                                  -98   \n",
       "3                 -98            ...                                  -98   \n",
       "4                 -98            ...                                  -98   \n",
       "\n",
       "   EFilingMandatoryStatewideCivilID  EfilingMandatoryStatewideCriminalID  \\\n",
       "0                               -98                                  -98   \n",
       "1                               -98                                  -98   \n",
       "2                               -98                                  -98   \n",
       "3                               -98                                  -98   \n",
       "4                               -98                                  -98   \n",
       "\n",
       "   EfilingMandatoryStatewideDRID  EfilingMandatoryStatewideJuvenileID  \\\n",
       "0                            -98                                  -98   \n",
       "1                            -98                                  -98   \n",
       "2                            -98                                  -98   \n",
       "3                            -98                                  -98   \n",
       "4                            -98                                  -98   \n",
       "\n",
       "   EfilingMandatoryStatewideTrafficID  CaseManagementID  DisplayOrder  \\\n",
       "0                                 -98               -98             1   \n",
       "1                                 -98               -98             2   \n",
       "2                                 -98               -98             3   \n",
       "3                                 -98               -98             4   \n",
       "4                                 -98               -98             5   \n",
       "\n",
       "   PanelDecisionDescription CaseManagementDescription  \n",
       "0       Missing information                       NaN  \n",
       "1       Missing information                       NaN  \n",
       "2       Missing information                       NaN  \n",
       "3                        No                       NaN  \n",
       "4                        No                       NaN  \n",
       "\n",
       "[5 rows x 21 columns]"
      ]
     },
     "execution_count": 230,
     "metadata": {},
     "output_type": "execute_result"
    }
   ],
   "source": [
    "names_of_courts_by_state.head()"
   ]
  },
  {
   "cell_type": "code",
   "execution_count": 231,
   "metadata": {},
   "outputs": [
    {
     "data": {
      "text/plain": [
       "0    Alabama\n",
       "Name: State, dtype: object"
      ]
     },
     "execution_count": 231,
     "metadata": {},
     "output_type": "execute_result"
    }
   ],
   "source": [
    "names_of_courts_by_state[names_of_courts_by_state['CourtID'] == 2]['State']"
   ]
  },
  {
   "cell_type": "code",
   "execution_count": 232,
   "metadata": {
    "collapsed": true
   },
   "outputs": [],
   "source": [
    "def add_parent_child_court_state(row):\n",
    "    try:\n",
    "        return names_of_courts_by_state[names_of_courts_by_state['CourtID'] == row['ChildCourtID']]['State'].values[0]\n",
    "    except IndexError:\n",
    "        print(colored('Error! `CourtID`: {}'.format(row['ChildCourtID']), 'red', attrs=['bold']))\n",
    "        \n",
    "        \n",
    "# def add_parent_court_state_name(row):\n",
    "#     try:\n",
    "#         return us_states_and_courts[us_states_and_courts['CourtID'] == row['ParentCourtID']]['State'].values[0]\n",
    "#     except IndexError:\n",
    "#         print(colored('Error! `CourtID`: {}'.format(row['CourtID']), 'red', attrs=['bold']))"
   ]
  },
  {
   "cell_type": "code",
   "execution_count": 233,
   "metadata": {},
   "outputs": [
    {
     "name": "stdout",
     "output_type": "stream",
     "text": [
      "\u001b[1m\u001b[31mError! `CourtID`: 6\u001b[0m\n",
      "\u001b[1m\u001b[31mError! `CourtID`: 112\u001b[0m\n",
      "\u001b[1m\u001b[31mError! `CourtID`: 113\u001b[0m\n",
      "\u001b[1m\u001b[31mError! `CourtID`: 114\u001b[0m\n",
      "\u001b[1m\u001b[31mError! `CourtID`: 196\u001b[0m\n",
      "\u001b[1m\u001b[31mError! `CourtID`: 71\u001b[0m\n",
      "\u001b[1m\u001b[31mError! `CourtID`: 234\u001b[0m\n",
      "\u001b[1m\u001b[31mError! `CourtID`: 97\u001b[0m\n",
      "\u001b[1m\u001b[31mError! `CourtID`: 285\u001b[0m\n",
      "\u001b[1m\u001b[31mError! `CourtID`: 300\u001b[0m\n"
     ]
    }
   ],
   "source": [
    "court_hierarchy['State'] = court_hierarchy.apply(add_parent_child_court_state, axis=1)"
   ]
  },
  {
   "cell_type": "code",
   "execution_count": 234,
   "metadata": {},
   "outputs": [
    {
     "data": {
      "text/html": [
       "<div>\n",
       "<style scoped>\n",
       "    .dataframe tbody tr th:only-of-type {\n",
       "        vertical-align: middle;\n",
       "    }\n",
       "\n",
       "    .dataframe tbody tr th {\n",
       "        vertical-align: top;\n",
       "    }\n",
       "\n",
       "    .dataframe thead th {\n",
       "        text-align: right;\n",
       "    }\n",
       "</style>\n",
       "<table border=\"1\" class=\"dataframe\">\n",
       "  <thead>\n",
       "    <tr style=\"text-align: right;\">\n",
       "      <th></th>\n",
       "      <th>AppealProcessID</th>\n",
       "      <th>ChildCourtID</th>\n",
       "      <th>ParentCourtID</th>\n",
       "      <th>State</th>\n",
       "    </tr>\n",
       "  </thead>\n",
       "  <tbody>\n",
       "    <tr>\n",
       "      <th>0</th>\n",
       "      <td>1</td>\n",
       "      <td>2</td>\n",
       "      <td>1</td>\n",
       "      <td>Alabama</td>\n",
       "    </tr>\n",
       "    <tr>\n",
       "      <th>1</th>\n",
       "      <td>2</td>\n",
       "      <td>3</td>\n",
       "      <td>1</td>\n",
       "      <td>Alabama</td>\n",
       "    </tr>\n",
       "    <tr>\n",
       "      <th>2</th>\n",
       "      <td>3</td>\n",
       "      <td>106</td>\n",
       "      <td>1</td>\n",
       "      <td>Alabama</td>\n",
       "    </tr>\n",
       "    <tr>\n",
       "      <th>3</th>\n",
       "      <td>4</td>\n",
       "      <td>106</td>\n",
       "      <td>2</td>\n",
       "      <td>Alabama</td>\n",
       "    </tr>\n",
       "    <tr>\n",
       "      <th>4</th>\n",
       "      <td>5</td>\n",
       "      <td>106</td>\n",
       "      <td>3</td>\n",
       "      <td>Alabama</td>\n",
       "    </tr>\n",
       "  </tbody>\n",
       "</table>\n",
       "</div>"
      ],
      "text/plain": [
       "   AppealProcessID  ChildCourtID  ParentCourtID    State\n",
       "0                1             2              1  Alabama\n",
       "1                2             3              1  Alabama\n",
       "2                3           106              1  Alabama\n",
       "3                4           106              2  Alabama\n",
       "4                5           106              3  Alabama"
      ]
     },
     "execution_count": 234,
     "metadata": {},
     "output_type": "execute_result"
    }
   ],
   "source": [
    "court_hierarchy.head()"
   ]
  },
  {
   "cell_type": "code",
   "execution_count": 235,
   "metadata": {
    "collapsed": true
   },
   "outputs": [],
   "source": [
    "def add_child_court(row):\n",
    "    try:\n",
    "        return names_of_courts_by_state[names_of_courts_by_state['CourtID'] == row['ChildCourtID']]['CourtNameName'].values[0]\n",
    "    except IndexError:\n",
    "        print(colored('Error! No Court name for `ChildCourtID` {}'.format(row['ChildCourtID']), 'red'))\n",
    "        return np.nan\n",
    "    \n",
    "def add_parent_court(row):\n",
    "    try:\n",
    "        return names_of_courts_by_state[names_of_courts_by_state['CourtID'] == row['ParentCourtID']]['CourtNameName'].values[0]\n",
    "    except IndexError:\n",
    "        print(colored('Error! No Court name for `ParentCourtID` {}'.format(row['ParentCourtID']), 'red'))\n",
    "        return np.nan"
   ]
  },
  {
   "cell_type": "code",
   "execution_count": 236,
   "metadata": {},
   "outputs": [
    {
     "name": "stdout",
     "output_type": "stream",
     "text": [
      "\u001b[31mError! No Court name for `ChildCourtID` 6\u001b[0m\n",
      "\u001b[31mError! No Court name for `ChildCourtID` 112\u001b[0m\n",
      "\u001b[31mError! No Court name for `ChildCourtID` 113\u001b[0m\n",
      "\u001b[31mError! No Court name for `ChildCourtID` 114\u001b[0m\n",
      "\u001b[31mError! No Court name for `ChildCourtID` 196\u001b[0m\n",
      "\u001b[31mError! No Court name for `ChildCourtID` 71\u001b[0m\n",
      "\u001b[31mError! No Court name for `ChildCourtID` 234\u001b[0m\n",
      "\u001b[31mError! No Court name for `ChildCourtID` 97\u001b[0m\n",
      "\u001b[31mError! No Court name for `ChildCourtID` 285\u001b[0m\n",
      "\u001b[31mError! No Court name for `ChildCourtID` 300\u001b[0m\n"
     ]
    }
   ],
   "source": [
    "court_hierarchy['ChildCourtName'] = court_hierarchy.apply(add_child_court, axis=1)"
   ]
  },
  {
   "cell_type": "code",
   "execution_count": 237,
   "metadata": {},
   "outputs": [
    {
     "name": "stdout",
     "output_type": "stream",
     "text": [
      "\u001b[31mError! No Court name for `ParentCourtID` -98\u001b[0m\n",
      "\u001b[31mError! No Court name for `ParentCourtID` -98\u001b[0m\n",
      "\u001b[31mError! No Court name for `ParentCourtID` -98\u001b[0m\n",
      "\u001b[31mError! No Court name for `ParentCourtID` -98\u001b[0m\n",
      "\u001b[31mError! No Court name for `ParentCourtID` -98\u001b[0m\n",
      "\u001b[31mError! No Court name for `ParentCourtID` -98\u001b[0m\n",
      "\u001b[31mError! No Court name for `ParentCourtID` -98\u001b[0m\n",
      "\u001b[31mError! No Court name for `ParentCourtID` -98\u001b[0m\n"
     ]
    }
   ],
   "source": [
    "court_hierarchy['ParentCourtName'] = court_hierarchy.apply(add_parent_court, axis=1)"
   ]
  },
  {
   "cell_type": "code",
   "execution_count": 238,
   "metadata": {},
   "outputs": [
    {
     "data": {
      "text/html": [
       "<div>\n",
       "<style scoped>\n",
       "    .dataframe tbody tr th:only-of-type {\n",
       "        vertical-align: middle;\n",
       "    }\n",
       "\n",
       "    .dataframe tbody tr th {\n",
       "        vertical-align: top;\n",
       "    }\n",
       "\n",
       "    .dataframe thead th {\n",
       "        text-align: right;\n",
       "    }\n",
       "</style>\n",
       "<table border=\"1\" class=\"dataframe\">\n",
       "  <thead>\n",
       "    <tr style=\"text-align: right;\">\n",
       "      <th></th>\n",
       "      <th>AppealProcessID</th>\n",
       "      <th>ChildCourtID</th>\n",
       "      <th>ParentCourtID</th>\n",
       "      <th>State</th>\n",
       "      <th>ChildCourtName</th>\n",
       "      <th>ParentCourtName</th>\n",
       "    </tr>\n",
       "  </thead>\n",
       "  <tbody>\n",
       "    <tr>\n",
       "      <th>0</th>\n",
       "      <td>1</td>\n",
       "      <td>2</td>\n",
       "      <td>1</td>\n",
       "      <td>Alabama</td>\n",
       "      <td>Court of Civil Appeals</td>\n",
       "      <td>Supreme Court</td>\n",
       "    </tr>\n",
       "    <tr>\n",
       "      <th>1</th>\n",
       "      <td>2</td>\n",
       "      <td>3</td>\n",
       "      <td>1</td>\n",
       "      <td>Alabama</td>\n",
       "      <td>Court of Criminal Appeals</td>\n",
       "      <td>Supreme Court</td>\n",
       "    </tr>\n",
       "    <tr>\n",
       "      <th>2</th>\n",
       "      <td>3</td>\n",
       "      <td>106</td>\n",
       "      <td>1</td>\n",
       "      <td>Alabama</td>\n",
       "      <td>Circuit</td>\n",
       "      <td>Supreme Court</td>\n",
       "    </tr>\n",
       "    <tr>\n",
       "      <th>3</th>\n",
       "      <td>4</td>\n",
       "      <td>106</td>\n",
       "      <td>2</td>\n",
       "      <td>Alabama</td>\n",
       "      <td>Circuit</td>\n",
       "      <td>Court of Civil Appeals</td>\n",
       "    </tr>\n",
       "    <tr>\n",
       "      <th>4</th>\n",
       "      <td>5</td>\n",
       "      <td>106</td>\n",
       "      <td>3</td>\n",
       "      <td>Alabama</td>\n",
       "      <td>Circuit</td>\n",
       "      <td>Court of Criminal Appeals</td>\n",
       "    </tr>\n",
       "  </tbody>\n",
       "</table>\n",
       "</div>"
      ],
      "text/plain": [
       "   AppealProcessID  ChildCourtID  ParentCourtID    State  \\\n",
       "0                1             2              1  Alabama   \n",
       "1                2             3              1  Alabama   \n",
       "2                3           106              1  Alabama   \n",
       "3                4           106              2  Alabama   \n",
       "4                5           106              3  Alabama   \n",
       "\n",
       "              ChildCourtName            ParentCourtName  \n",
       "0     Court of Civil Appeals              Supreme Court  \n",
       "1  Court of Criminal Appeals              Supreme Court  \n",
       "2                    Circuit              Supreme Court  \n",
       "3                    Circuit     Court of Civil Appeals  \n",
       "4                    Circuit  Court of Criminal Appeals  "
      ]
     },
     "execution_count": 238,
     "metadata": {},
     "output_type": "execute_result"
    }
   ],
   "source": [
    "court_hierarchy.head()"
   ]
  },
  {
   "cell_type": "code",
   "execution_count": 239,
   "metadata": {},
   "outputs": [
    {
     "data": {
      "application/vnd.jupyter.widget-view+json": {
       "model_id": "58bf4b5bbd7c436eb707fba76882b34c",
       "version_major": 2,
       "version_minor": 0
      },
      "text/plain": [
       "QgridWidget(grid_options={'fullWidthRows': True, 'syncColumnCellResize': True, 'forceFitColumns': True, 'defau…"
      ]
     },
     "metadata": {},
     "output_type": "display_data"
    }
   ],
   "source": [
    "display_cols = ['State', 'ChildCourtName', 'ParentCourtName']\n",
    "\n",
    "qgrid_widget = qgrid.show_grid(court_hierarchy[display_cols], show_toolbar=True)\n",
    "qgrid_widget"
   ]
  },
  {
   "cell_type": "code",
   "execution_count": 241,
   "metadata": {
    "collapsed": true
   },
   "outputs": [],
   "source": [
    "# court_hierarchy[display_cols].to_csv('court_hierarchy.csv', index=False)\n",
    "court_hierarchy[display_cols].to_csv('csv_files_for_alvin/court_hierarchy.csv', index=False)"
   ]
  },
  {
   "cell_type": "code",
   "execution_count": 242,
   "metadata": {},
   "outputs": [
    {
     "name": "stdout",
     "output_type": "stream",
     "text": [
      "all_court_case_types.csv     states_overview.csv\r\n",
      "court_hierarchy.csv          us_states_and_courts.csv\r\n",
      "names_of_courts_by_state.csv\r\n"
     ]
    }
   ],
   "source": [
    "!ls csv_files_for_alvin/"
   ]
  },
  {
   "cell_type": "code",
   "execution_count": null,
   "metadata": {
    "collapsed": true
   },
   "outputs": [],
   "source": []
  },
  {
   "cell_type": "code",
   "execution_count": 1,
   "metadata": {},
   "outputs": [
    {
     "name": "stderr",
     "output_type": "stream",
     "text": [
      "/Users/erikhawkins/anaconda/envs/nlp_env/lib/python3.6/importlib/_bootstrap.py:219: RuntimeWarning: numpy.dtype size changed, may indicate binary incompatibility. Expected 96, got 88\n",
      "  return f(*args, **kwds)\n",
      "/Users/erikhawkins/anaconda/envs/nlp_env/lib/python3.6/importlib/_bootstrap.py:219: RuntimeWarning: numpy.dtype size changed, may indicate binary incompatibility. Expected 96, got 88\n",
      "  return f(*args, **kwds)\n"
     ]
    }
   ],
   "source": [
    "import pandas as pd"
   ]
  },
  {
   "cell_type": "code",
   "execution_count": 2,
   "metadata": {
    "collapsed": true
   },
   "outputs": [],
   "source": [
    "all_states_display = pd.read_csv('data/all_states_display.csv')"
   ]
  },
  {
   "cell_type": "code",
   "execution_count": 3,
   "metadata": {},
   "outputs": [
    {
     "data": {
      "text/html": [
       "<div>\n",
       "<style scoped>\n",
       "    .dataframe tbody tr th:only-of-type {\n",
       "        vertical-align: middle;\n",
       "    }\n",
       "\n",
       "    .dataframe tbody tr th {\n",
       "        vertical-align: top;\n",
       "    }\n",
       "\n",
       "    .dataframe thead th {\n",
       "        text-align: right;\n",
       "    }\n",
       "</style>\n",
       "<table border=\"1\" class=\"dataframe\">\n",
       "  <thead>\n",
       "    <tr style=\"text-align: right;\">\n",
       "      <th></th>\n",
       "      <th>USStateID</th>\n",
       "      <th>USStateName</th>\n",
       "      <th>PopulationCategoryID</th>\n",
       "      <th>PopulationDensityID</th>\n",
       "      <th>RuralID</th>\n",
       "      <th>TrialStructureID</th>\n",
       "      <th>AppellateCriminalStructureID</th>\n",
       "      <th>TrialCriminalProcessingID</th>\n",
       "      <th>DeathPenaltyID</th>\n",
       "      <th>TrialCaseloadSizeID</th>\n",
       "      <th>...</th>\n",
       "      <th>DeathPenalty</th>\n",
       "      <th>CaseloadSize</th>\n",
       "      <th>PopulationLow</th>\n",
       "      <th>PopulationHigh</th>\n",
       "      <th>PopulationCategoryLow</th>\n",
       "      <th>PopulationCategoryHigh</th>\n",
       "      <th>RuralLow</th>\n",
       "      <th>RuralHigh</th>\n",
       "      <th>CaseloadLow</th>\n",
       "      <th>CaseloadHigh</th>\n",
       "    </tr>\n",
       "  </thead>\n",
       "  <tbody>\n",
       "    <tr>\n",
       "      <th>0</th>\n",
       "      <td>1</td>\n",
       "      <td>Alabama</td>\n",
       "      <td>4</td>\n",
       "      <td>3</td>\n",
       "      <td>2</td>\n",
       "      <td>2</td>\n",
       "      <td>6</td>\n",
       "      <td>2</td>\n",
       "      <td>-99</td>\n",
       "      <td>3</td>\n",
       "      <td>...</td>\n",
       "      <td>Missing information</td>\n",
       "      <td>501 Thousand-1 Million</td>\n",
       "      <td>51.0</td>\n",
       "      <td>100.0</td>\n",
       "      <td>35801.0</td>\n",
       "      <td>47800.0</td>\n",
       "      <td>26.0</td>\n",
       "      <td>49.0</td>\n",
       "      <td>501000</td>\n",
       "      <td>1000000</td>\n",
       "    </tr>\n",
       "    <tr>\n",
       "      <th>1</th>\n",
       "      <td>2</td>\n",
       "      <td>Alaska</td>\n",
       "      <td>1</td>\n",
       "      <td>1</td>\n",
       "      <td>2</td>\n",
       "      <td>2</td>\n",
       "      <td>4</td>\n",
       "      <td>1</td>\n",
       "      <td>0</td>\n",
       "      <td>1</td>\n",
       "      <td>...</td>\n",
       "      <td>No</td>\n",
       "      <td>Under 200 Thousand</td>\n",
       "      <td>0.0</td>\n",
       "      <td>20.0</td>\n",
       "      <td>0.0</td>\n",
       "      <td>9900.0</td>\n",
       "      <td>26.0</td>\n",
       "      <td>49.0</td>\n",
       "      <td>0</td>\n",
       "      <td>200000</td>\n",
       "    </tr>\n",
       "    <tr>\n",
       "      <th>2</th>\n",
       "      <td>3</td>\n",
       "      <td>Arizona</td>\n",
       "      <td>5</td>\n",
       "      <td>3</td>\n",
       "      <td>4</td>\n",
       "      <td>2</td>\n",
       "      <td>4</td>\n",
       "      <td>2</td>\n",
       "      <td>1</td>\n",
       "      <td>4</td>\n",
       "      <td>...</td>\n",
       "      <td>Yes</td>\n",
       "      <td>1.1 Million-3 Million</td>\n",
       "      <td>51.0</td>\n",
       "      <td>100.0</td>\n",
       "      <td>47801.0</td>\n",
       "      <td>64900.0</td>\n",
       "      <td>0.0</td>\n",
       "      <td>15.0</td>\n",
       "      <td>1100000</td>\n",
       "      <td>3000000</td>\n",
       "    </tr>\n",
       "    <tr>\n",
       "      <th>3</th>\n",
       "      <td>4</td>\n",
       "      <td>Arkansas</td>\n",
       "      <td>3</td>\n",
       "      <td>3</td>\n",
       "      <td>2</td>\n",
       "      <td>2</td>\n",
       "      <td>4</td>\n",
       "      <td>1</td>\n",
       "      <td>1</td>\n",
       "      <td>4</td>\n",
       "      <td>...</td>\n",
       "      <td>Yes</td>\n",
       "      <td>1.1 Million-3 Million</td>\n",
       "      <td>51.0</td>\n",
       "      <td>100.0</td>\n",
       "      <td>18601.0</td>\n",
       "      <td>35800.0</td>\n",
       "      <td>26.0</td>\n",
       "      <td>49.0</td>\n",
       "      <td>1100000</td>\n",
       "      <td>3000000</td>\n",
       "    </tr>\n",
       "    <tr>\n",
       "      <th>4</th>\n",
       "      <td>5</td>\n",
       "      <td>California</td>\n",
       "      <td>7</td>\n",
       "      <td>5</td>\n",
       "      <td>4</td>\n",
       "      <td>1</td>\n",
       "      <td>4</td>\n",
       "      <td>1</td>\n",
       "      <td>1</td>\n",
       "      <td>6</td>\n",
       "      <td>...</td>\n",
       "      <td>Yes</td>\n",
       "      <td>Over 6 Million</td>\n",
       "      <td>201.0</td>\n",
       "      <td>500.0</td>\n",
       "      <td>98901.0</td>\n",
       "      <td>NaN</td>\n",
       "      <td>0.0</td>\n",
       "      <td>15.0</td>\n",
       "      <td>6000000</td>\n",
       "      <td>10000000</td>\n",
       "    </tr>\n",
       "  </tbody>\n",
       "</table>\n",
       "<p>5 rows × 27 columns</p>\n",
       "</div>"
      ],
      "text/plain": [
       "   USStateID USStateName  PopulationCategoryID  PopulationDensityID  RuralID  \\\n",
       "0          1     Alabama                     4                    3        2   \n",
       "1          2      Alaska                     1                    1        2   \n",
       "2          3     Arizona                     5                    3        4   \n",
       "3          4    Arkansas                     3                    3        2   \n",
       "4          5  California                     7                    5        4   \n",
       "\n",
       "   TrialStructureID  AppellateCriminalStructureID  TrialCriminalProcessingID  \\\n",
       "0                 2                             6                          2   \n",
       "1                 2                             4                          1   \n",
       "2                 2                             4                          2   \n",
       "3                 2                             4                          1   \n",
       "4                 1                             4                          1   \n",
       "\n",
       "   DeathPenaltyID  TrialCaseloadSizeID      ...              DeathPenalty  \\\n",
       "0             -99                    3      ...       Missing information   \n",
       "1               0                    1      ...                        No   \n",
       "2               1                    4      ...                       Yes   \n",
       "3               1                    4      ...                       Yes   \n",
       "4               1                    6      ...                       Yes   \n",
       "\n",
       "             CaseloadSize PopulationLow PopulationHigh PopulationCategoryLow  \\\n",
       "0  501 Thousand-1 Million          51.0          100.0               35801.0   \n",
       "1      Under 200 Thousand           0.0           20.0                   0.0   \n",
       "2   1.1 Million-3 Million          51.0          100.0               47801.0   \n",
       "3   1.1 Million-3 Million          51.0          100.0               18601.0   \n",
       "4          Over 6 Million         201.0          500.0               98901.0   \n",
       "\n",
       "  PopulationCategoryHigh RuralLow RuralHigh CaseloadLow  CaseloadHigh  \n",
       "0                47800.0     26.0      49.0      501000       1000000  \n",
       "1                 9900.0     26.0      49.0           0        200000  \n",
       "2                64900.0      0.0      15.0     1100000       3000000  \n",
       "3                35800.0     26.0      49.0     1100000       3000000  \n",
       "4                    NaN      0.0      15.0     6000000      10000000  \n",
       "\n",
       "[5 rows x 27 columns]"
      ]
     },
     "execution_count": 3,
     "metadata": {},
     "output_type": "execute_result"
    }
   ],
   "source": [
    "all_states_display.head()"
   ]
  },
  {
   "cell_type": "markdown",
   "metadata": {},
   "source": [
    "# Bar Charts"
   ]
  },
  {
   "cell_type": "code",
   "execution_count": 3,
   "metadata": {
    "collapsed": true
   },
   "outputs": [],
   "source": [
    "import math\n",
    "from bokeh.io import show\n",
    "from bokeh.plotting import figure\n",
    "from bokeh.layouts import column, row\n",
    "from bokeh.layouts import widgetbox\n",
    "from bokeh.models.widgets import Div\n"
   ]
  },
  {
   "cell_type": "code",
   "execution_count": 4,
   "metadata": {
    "collapsed": true
   },
   "outputs": [],
   "source": [
    "# selected_usstate = 'California'"
   ]
  },
  {
   "cell_type": "code",
   "execution_count": 5,
   "metadata": {
    "collapsed": true
   },
   "outputs": [],
   "source": [
    "# selected_usstate_pop_density = all_states_display[all_states_display['USStateName'] == selected_usstate]['PopulationDensity'].values[0]"
   ]
  },
  {
   "cell_type": "code",
   "execution_count": 6,
   "metadata": {
    "collapsed": true
   },
   "outputs": [],
   "source": [
    "# selected_usstate_pop_density"
   ]
  },
  {
   "cell_type": "code",
   "execution_count": 7,
   "metadata": {
    "collapsed": true
   },
   "outputs": [],
   "source": [
    "tools = 'pan,wheel_zoom,reset'"
   ]
  },
  {
   "cell_type": "code",
   "execution_count": 8,
   "metadata": {
    "collapsed": true
   },
   "outputs": [],
   "source": [
    "### Population Density\n",
    "\n",
    "popdensity = all_states_display['PopulationDensity'].value_counts()\n",
    "pop_densities = popdensity.index.values\n",
    "\n",
    "p1 = figure(\n",
    "    x_range=pop_densities,\n",
    "    plot_height=250, \n",
    "    plot_width=300, \n",
    "    title='Population Density', \n",
    "    tools=tools, \n",
    "    toolbar_location='above')\n",
    "\n",
    "p1.vbar(\n",
    "    x=pop_densities,\n",
    "    top=popdensity.values, \n",
    "    width=0.8)\n",
    "\n",
    "p1.xaxis.axis_label = 'Population Density'\n",
    "p1.yaxis.axis_label = 'Number of States'\n",
    "p1.xgrid.grid_line_color = 'white'\n",
    "p1.xaxis.major_label_orientation = math.pi/6\n",
    "\n",
    "# p1.line(x=['101-200', '101-200'], y=[9, 9], color='red', line_width=2)\n",
    "\n",
    "# show(p1);"
   ]
  },
  {
   "cell_type": "code",
   "execution_count": 9,
   "metadata": {
    "collapsed": true
   },
   "outputs": [],
   "source": [
    "# ### Population Category\n",
    "\n",
    "# popcategory = all_states_display['PopulationCategory'].value_counts()\n",
    "# pop_categories = popcategory.index.values\n",
    "\n",
    "# p2 = figure(\n",
    "#     x_range=pop_categories,\n",
    "#     plot_height=250, \n",
    "#     plot_width=300, \n",
    "#     title='Population Category',\n",
    "#     tools=tools, \n",
    "#     toolbar_location='above')\n",
    "\n",
    "# p2.vbar(\n",
    "#     x=pop_categories,\n",
    "#     top=popcategory.values, \n",
    "#     width=0.8)\n",
    "\n",
    "# p2.xaxis.axis_label = 'Population Category'\n",
    "# # p2.yaxis.axis_label = 'Number of States'\n",
    "# p2.xgrid.grid_line_color = 'white'\n",
    "# p2.xaxis.major_label_orientation = math.pi/6\n",
    "\n",
    "# # show(p2);"
   ]
  },
  {
   "cell_type": "code",
   "execution_count": 10,
   "metadata": {
    "collapsed": true
   },
   "outputs": [],
   "source": [
    "### Rural\n",
    "\n",
    "def transform_rural_column(row):\n",
    "    if row['Rural'] == '26-49% of the population':\n",
    "        return '26-49%'\n",
    "    elif row['Rural'] == '16-25% of the population':\n",
    "        return '16-25%'\n",
    "    elif row['Rural'] == 'Less than or equal to 15% of the population':\n",
    "        return '<= 15%'\n",
    "    elif row['Rural'] == 'Greater than or equal to 50% of the population':\n",
    "        return '>= 50%'\n",
    "    elif row['Rural'] == 'Missing information':\n",
    "        return 'N/A'\n",
    "\n",
    "all_states_display['Rural'] = all_states_display.apply(transform_rural_column, axis=1)\n",
    "\n",
    "rural = all_states_display['Rural'].value_counts()\n",
    "rural_categories = rural.index.values\n",
    "\n",
    "p3 = figure(\n",
    "    x_range=rural_categories,\n",
    "    plot_height=250, \n",
    "    plot_width=300,\n",
    "    title='Rural %', \n",
    "    tools=tools,\n",
    "    toolbar_location='above')\n",
    "\n",
    "p3.vbar(\n",
    "    x=rural_categories,\n",
    "    top=rural.values, \n",
    "    width=0.8)\n",
    "\n",
    "p3.xaxis.axis_label = '% of State Population that is Rural'\n",
    "# p3.yaxis.axis_label = 'Number of States'\n",
    "p3.xgrid.grid_line_color = 'white'\n",
    "p3.xaxis.major_label_orientation = math.pi/6\n",
    "\n",
    "\n",
    "# show(p3);"
   ]
  },
  {
   "cell_type": "code",
   "execution_count": 11,
   "metadata": {
    "collapsed": true
   },
   "outputs": [],
   "source": [
    "### Caseload Size\n",
    "\n",
    "def transform_caseload_size_column(row):\n",
    "    if row['CaseloadSize'] == '1.1 Million-3 Million':\n",
    "        return '1.1M - 3M'\n",
    "    elif row['CaseloadSize'] == '501 Thousand-1 Million':\n",
    "        return '500k - 1M'\n",
    "    elif row['CaseloadSize'] == 'Under 200 Thousand':\n",
    "        return '< 200k'\n",
    "    elif row['CaseloadSize'] == '201 Thousand-500 Thousand':\n",
    "        return '201k - 500k'\n",
    "    elif row['CaseloadSize'] == '3.1 Million-6 Million':\n",
    "        return '3.1M - 6M'\n",
    "    elif row['CaseloadSize'] == 'Over 6 Million':\n",
    "        return '> 6M'\n",
    "\n",
    "all_states_display['CaseloadSize'] = all_states_display.apply(transform_caseload_size_column, axis=1)\n",
    "\n",
    "caseload_size = all_states_display['CaseloadSize'].value_counts()\n",
    "caseload_size_categories = caseload_size.index.values\n",
    "\n",
    "p4 = figure(\n",
    "    x_range=caseload_size_categories,\n",
    "    plot_height=250, \n",
    "    plot_width=300, \n",
    "    title='Caseload Size', \n",
    "    tools=tools, \n",
    "    toolbar_location='above')\n",
    "\n",
    "p4.vbar(\n",
    "    x=caseload_size_categories,\n",
    "    top=caseload_size.values, \n",
    "    width=0.8)\n",
    "\n",
    "p4.xaxis.axis_label = 'Caseload Size'\n",
    "# p4.yaxis.axis_label = 'Number of States'\n",
    "p4.xgrid.grid_line_color = 'white'\n",
    "p4.xaxis.major_label_orientation = math.pi/6\n",
    "\n",
    "# show(p4);"
   ]
  },
  {
   "cell_type": "code",
   "execution_count": 12,
   "metadata": {
    "collapsed": true
   },
   "outputs": [],
   "source": [
    "### Death Penalty\n",
    "\n",
    "all_states_display['DeathPenalty'] = all_states_display['DeathPenalty'].str.replace('Missing information', 'N/A')\n",
    "\n",
    "death_penalty = all_states_display['DeathPenalty'].value_counts()\n",
    "death_penalty_categories = death_penalty.index.values\n",
    "\n",
    "p5 = figure(\n",
    "    x_range=death_penalty_categories,\n",
    "    plot_height=250, \n",
    "    plot_width=300,\n",
    "    title='Death Penalty', \n",
    "    tools=tools, \n",
    "    toolbar_location='above')\n",
    "\n",
    "p5.vbar(\n",
    "    x=death_penalty_categories,\n",
    "    top=death_penalty.values, \n",
    "    width=0.8)\n",
    "\n",
    "p5.xaxis.axis_label = 'Death Penalty'\n",
    "# p5.yaxis.axis_label = 'Number of States'\n",
    "p5.xgrid.grid_line_color = 'white'\n",
    "\n",
    "# show(p5);"
   ]
  },
  {
   "cell_type": "code",
   "execution_count": 13,
   "metadata": {
    "collapsed": true
   },
   "outputs": [],
   "source": [
    "# STATE COMPARISONS HTML Cards\n",
    "\n",
    "\n",
    "state_comp_cols = [\n",
    "    'USStateName', 'PopulationDensity', 'PopulationCategory', \n",
    "    'Rural', 'TrialStructure', 'AppCrimStructure', \n",
    "    'TrialCriminalProc', 'DeathPenalty', 'CaseloadSize']\n",
    "\n",
    "states_to_compare = ['California', 'New York']#, 'Georgia', 'Texas']\n",
    "\n",
    "state_comparison_vals = all_states_display[all_states_display['USStateName'].isin(states_to_compare)][state_comp_cols]\n",
    "\n",
    "# output_file(\"div.html\")\n",
    "\n",
    "HTML = \"\"\"\n",
    "<div style=\"margin: 30px; border-style: solid; padding: 10px; border-radius: 15px;\">\n",
    "<h1><font color='#160E76'>{}</font></h1>\n",
    "<p>\n",
    "  <b>Population Density</b>: {}<br>\n",
    "  <b>Population Category</b>: {}<br>\n",
    "  <b>Rural</b>: {}<br>\n",
    "  <b>Death Penalty</b>: {}<br>\n",
    "</p>\n",
    "</div>\n",
    "<div style=\"margin: 30px; border-style: solid; padding: 10px; border-radius: 15px;\">\n",
    "<h1><font color='#160E76'>{}</font></h1>\n",
    "<p>\n",
    "  <b>Population Density</b>: {}<br>\n",
    "  <b>Population Category</b>: {}<br>\n",
    "  <b>Rural</b>: {}<br>\n",
    "  <b>Death Penalty</b>: {}<br>\n",
    "</p>\n",
    "</div>\n",
    "\"\"\".format(\n",
    "    state_comparison_vals['USStateName'].values[0], \n",
    "    state_comparison_vals['PopulationDensity'].values[0],\n",
    "    state_comparison_vals['PopulationCategory'].values[0],\n",
    "    state_comparison_vals['Rural'].values[0],\n",
    "    state_comparison_vals['DeathPenalty'].values[0],\n",
    "    state_comparison_vals['USStateName'].values[1], \n",
    "    state_comparison_vals['PopulationDensity'].values[1],\n",
    "    state_comparison_vals['PopulationCategory'].values[1],\n",
    "    state_comparison_vals['Rural'].values[1],\n",
    "    state_comparison_vals['DeathPenalty'].values[1],)\n",
    "\n",
    "state_comparison_card = Div(text=HTML, width=300, height=350)\n",
    "\n",
    "# show(widgetbox(div))"
   ]
  },
  {
   "cell_type": "code",
   "execution_count": 15,
   "metadata": {
    "collapsed": true
   },
   "outputs": [],
   "source": [
    "# show(column(row([p1, p2, p3, p4, p5]), div))\n",
    "show(column(row([p1, p3, p4, p5]), div))"
   ]
  },
  {
   "cell_type": "code",
   "execution_count": null,
   "metadata": {
    "collapsed": true
   },
   "outputs": [],
   "source": []
  },
  {
   "cell_type": "code",
   "execution_count": null,
   "metadata": {
    "collapsed": true
   },
   "outputs": [],
   "source": []
  },
  {
   "cell_type": "code",
   "execution_count": null,
   "metadata": {
    "collapsed": true
   },
   "outputs": [],
   "source": []
  },
  {
   "cell_type": "code",
   "execution_count": 38,
   "metadata": {},
   "outputs": [],
   "source": [
    "from lib.input_data import InputData"
   ]
  },
  {
   "cell_type": "code",
   "execution_count": 39,
   "metadata": {},
   "outputs": [],
   "source": [
    "idata = InputData()"
   ]
  },
  {
   "cell_type": "code",
   "execution_count": 40,
   "metadata": {},
   "outputs": [],
   "source": [
    "idata.generate_data()"
   ]
  },
  {
   "cell_type": "code",
   "execution_count": 41,
   "metadata": {},
   "outputs": [
    {
     "data": {
      "text/html": [
       "<div>\n",
       "<style scoped>\n",
       "    .dataframe tbody tr th:only-of-type {\n",
       "        vertical-align: middle;\n",
       "    }\n",
       "\n",
       "    .dataframe tbody tr th {\n",
       "        vertical-align: top;\n",
       "    }\n",
       "\n",
       "    .dataframe thead th {\n",
       "        text-align: right;\n",
       "    }\n",
       "</style>\n",
       "<table border=\"1\" class=\"dataframe\">\n",
       "  <thead>\n",
       "    <tr style=\"text-align: right;\">\n",
       "      <th></th>\n",
       "      <th>CourtCaseTypeID</th>\n",
       "      <th>CourtID</th>\n",
       "      <th>CaseTypeID</th>\n",
       "      <th>AppealByRight</th>\n",
       "      <th>AppealByPermission</th>\n",
       "      <th>OriginalProceeding</th>\n",
       "      <th>InterlocutoryAppeal</th>\n",
       "      <th>Exclusive</th>\n",
       "      <th>Limited</th>\n",
       "      <th>MinValue</th>\n",
       "      <th>MaxValue</th>\n",
       "      <th>Notes</th>\n",
       "      <th>DisplayOrder</th>\n",
       "      <th>State</th>\n",
       "      <th>CourtName</th>\n",
       "      <th>CaseTypeDescription</th>\n",
       "    </tr>\n",
       "  </thead>\n",
       "  <tbody>\n",
       "    <tr>\n",
       "      <th>0</th>\n",
       "      <td>1</td>\n",
       "      <td>106</td>\n",
       "      <td>1</td>\n",
       "      <td>False</td>\n",
       "      <td>False</td>\n",
       "      <td>False</td>\n",
       "      <td>False</td>\n",
       "      <td>False</td>\n",
       "      <td>False</td>\n",
       "      <td>-98</td>\n",
       "      <td>-98</td>\n",
       "      <td>NaN</td>\n",
       "      <td>1</td>\n",
       "      <td>Alabama</td>\n",
       "      <td>Circuit</td>\n",
       "      <td>Tort</td>\n",
       "    </tr>\n",
       "    <tr>\n",
       "      <th>1</th>\n",
       "      <td>2</td>\n",
       "      <td>106</td>\n",
       "      <td>2</td>\n",
       "      <td>False</td>\n",
       "      <td>False</td>\n",
       "      <td>False</td>\n",
       "      <td>False</td>\n",
       "      <td>False</td>\n",
       "      <td>False</td>\n",
       "      <td>-98</td>\n",
       "      <td>-98</td>\n",
       "      <td>NaN</td>\n",
       "      <td>2</td>\n",
       "      <td>Alabama</td>\n",
       "      <td>Circuit</td>\n",
       "      <td>Contract</td>\n",
       "    </tr>\n",
       "    <tr>\n",
       "      <th>2</th>\n",
       "      <td>3</td>\n",
       "      <td>106</td>\n",
       "      <td>53</td>\n",
       "      <td>False</td>\n",
       "      <td>False</td>\n",
       "      <td>False</td>\n",
       "      <td>False</td>\n",
       "      <td>False</td>\n",
       "      <td>False</td>\n",
       "      <td>-98</td>\n",
       "      <td>-98</td>\n",
       "      <td>NaN</td>\n",
       "      <td>3</td>\n",
       "      <td>Alabama</td>\n",
       "      <td>Circuit</td>\n",
       "      <td>Employment</td>\n",
       "    </tr>\n",
       "    <tr>\n",
       "      <th>3</th>\n",
       "      <td>4</td>\n",
       "      <td>106</td>\n",
       "      <td>3</td>\n",
       "      <td>False</td>\n",
       "      <td>False</td>\n",
       "      <td>False</td>\n",
       "      <td>False</td>\n",
       "      <td>False</td>\n",
       "      <td>False</td>\n",
       "      <td>10000</td>\n",
       "      <td>NOMAX</td>\n",
       "      <td>NaN</td>\n",
       "      <td>4</td>\n",
       "      <td>Alabama</td>\n",
       "      <td>Circuit</td>\n",
       "      <td>Real Property</td>\n",
       "    </tr>\n",
       "    <tr>\n",
       "      <th>4</th>\n",
       "      <td>5</td>\n",
       "      <td>106</td>\n",
       "      <td>6</td>\n",
       "      <td>False</td>\n",
       "      <td>False</td>\n",
       "      <td>False</td>\n",
       "      <td>False</td>\n",
       "      <td>False</td>\n",
       "      <td>False</td>\n",
       "      <td>-98</td>\n",
       "      <td>-98</td>\n",
       "      <td>NaN</td>\n",
       "      <td>5</td>\n",
       "      <td>Alabama</td>\n",
       "      <td>Circuit</td>\n",
       "      <td>Landlord/Tenant</td>\n",
       "    </tr>\n",
       "  </tbody>\n",
       "</table>\n",
       "</div>"
      ],
      "text/plain": [
       "   CourtCaseTypeID  CourtID  CaseTypeID  AppealByRight  AppealByPermission  \\\n",
       "0                1      106           1          False               False   \n",
       "1                2      106           2          False               False   \n",
       "2                3      106          53          False               False   \n",
       "3                4      106           3          False               False   \n",
       "4                5      106           6          False               False   \n",
       "\n",
       "   OriginalProceeding  InterlocutoryAppeal  Exclusive  Limited  MinValue  \\\n",
       "0               False                False      False    False       -98   \n",
       "1               False                False      False    False       -98   \n",
       "2               False                False      False    False       -98   \n",
       "3               False                False      False    False     10000   \n",
       "4               False                False      False    False       -98   \n",
       "\n",
       "  MaxValue Notes  DisplayOrder    State CourtName CaseTypeDescription  \n",
       "0      -98   NaN             1  Alabama   Circuit                Tort  \n",
       "1      -98   NaN             2  Alabama   Circuit            Contract  \n",
       "2      -98   NaN             3  Alabama   Circuit          Employment  \n",
       "3    NOMAX   NaN             4  Alabama   Circuit       Real Property  \n",
       "4      -98   NaN             5  Alabama   Circuit     Landlord/Tenant  "
      ]
     },
     "execution_count": 41,
     "metadata": {},
     "output_type": "execute_result"
    }
   ],
   "source": [
    "idata.all_court_case_types.head()"
   ]
  },
  {
   "cell_type": "code",
   "execution_count": 42,
   "metadata": {},
   "outputs": [
    {
     "data": {
      "text/html": [
       "<div>\n",
       "<style scoped>\n",
       "    .dataframe tbody tr th:only-of-type {\n",
       "        vertical-align: middle;\n",
       "    }\n",
       "\n",
       "    .dataframe tbody tr th {\n",
       "        vertical-align: top;\n",
       "    }\n",
       "\n",
       "    .dataframe thead th {\n",
       "        text-align: right;\n",
       "    }\n",
       "</style>\n",
       "<table border=\"1\" class=\"dataframe\">\n",
       "  <thead>\n",
       "    <tr style=\"text-align: right;\">\n",
       "      <th></th>\n",
       "      <th>CourtCourtNameID</th>\n",
       "      <th>CourtNameID</th>\n",
       "      <th>CourtID</th>\n",
       "      <th>State</th>\n",
       "      <th>CourtNameName</th>\n",
       "      <th>NumberDivisions</th>\n",
       "      <th>NumberJudges</th>\n",
       "      <th>PanelDecisionID</th>\n",
       "      <th>NumberPanels</th>\n",
       "      <th>EFilingMandatoryID</th>\n",
       "      <th>...</th>\n",
       "      <th>NumberOfIndividualCourts</th>\n",
       "      <th>EFilingMandatoryStatewideCivilID</th>\n",
       "      <th>EfilingMandatoryStatewideCriminalID</th>\n",
       "      <th>EfilingMandatoryStatewideDRID</th>\n",
       "      <th>EfilingMandatoryStatewideJuvenileID</th>\n",
       "      <th>EfilingMandatoryStatewideTrafficID</th>\n",
       "      <th>CaseManagementID</th>\n",
       "      <th>DisplayOrder</th>\n",
       "      <th>PanelDecisionDescription</th>\n",
       "      <th>CaseManagementDescription</th>\n",
       "    </tr>\n",
       "  </thead>\n",
       "  <tbody>\n",
       "    <tr>\n",
       "      <th>0</th>\n",
       "      <td>1</td>\n",
       "      <td>1</td>\n",
       "      <td>2</td>\n",
       "      <td>Alabama</td>\n",
       "      <td>Court of Civil Appeals</td>\n",
       "      <td>-99</td>\n",
       "      <td>-99</td>\n",
       "      <td>-99</td>\n",
       "      <td>NaN</td>\n",
       "      <td>-99</td>\n",
       "      <td>...</td>\n",
       "      <td>NaN</td>\n",
       "      <td>-98</td>\n",
       "      <td>-98</td>\n",
       "      <td>-98</td>\n",
       "      <td>-98</td>\n",
       "      <td>-98</td>\n",
       "      <td>-98</td>\n",
       "      <td>1</td>\n",
       "      <td>Missing information</td>\n",
       "      <td>NaN</td>\n",
       "    </tr>\n",
       "    <tr>\n",
       "      <th>1</th>\n",
       "      <td>2</td>\n",
       "      <td>2</td>\n",
       "      <td>3</td>\n",
       "      <td>Alabama</td>\n",
       "      <td>Court of Criminal Appeals</td>\n",
       "      <td>-99</td>\n",
       "      <td>-99</td>\n",
       "      <td>-99</td>\n",
       "      <td>NaN</td>\n",
       "      <td>-99</td>\n",
       "      <td>...</td>\n",
       "      <td>NaN</td>\n",
       "      <td>-98</td>\n",
       "      <td>-98</td>\n",
       "      <td>-98</td>\n",
       "      <td>-98</td>\n",
       "      <td>-98</td>\n",
       "      <td>-98</td>\n",
       "      <td>2</td>\n",
       "      <td>Missing information</td>\n",
       "      <td>NaN</td>\n",
       "    </tr>\n",
       "    <tr>\n",
       "      <th>2</th>\n",
       "      <td>3</td>\n",
       "      <td>3</td>\n",
       "      <td>1</td>\n",
       "      <td>Alabama</td>\n",
       "      <td>Supreme Court</td>\n",
       "      <td>-99</td>\n",
       "      <td>-99</td>\n",
       "      <td>-99</td>\n",
       "      <td>NaN</td>\n",
       "      <td>-99</td>\n",
       "      <td>...</td>\n",
       "      <td>NaN</td>\n",
       "      <td>-98</td>\n",
       "      <td>-98</td>\n",
       "      <td>-98</td>\n",
       "      <td>-98</td>\n",
       "      <td>-98</td>\n",
       "      <td>-98</td>\n",
       "      <td>3</td>\n",
       "      <td>Missing information</td>\n",
       "      <td>NaN</td>\n",
       "    </tr>\n",
       "  </tbody>\n",
       "</table>\n",
       "<p>3 rows × 21 columns</p>\n",
       "</div>"
      ],
      "text/plain": [
       "   CourtCourtNameID  CourtNameID  CourtID    State              CourtNameName  \\\n",
       "0                 1            1        2  Alabama     Court of Civil Appeals   \n",
       "1                 2            2        3  Alabama  Court of Criminal Appeals   \n",
       "2                 3            3        1  Alabama              Supreme Court   \n",
       "\n",
       "   NumberDivisions  NumberJudges  PanelDecisionID NumberPanels  \\\n",
       "0              -99           -99              -99          NaN   \n",
       "1              -99           -99              -99          NaN   \n",
       "2              -99           -99              -99          NaN   \n",
       "\n",
       "   EFilingMandatoryID            ...             NumberOfIndividualCourts  \\\n",
       "0                 -99            ...                                  NaN   \n",
       "1                 -99            ...                                  NaN   \n",
       "2                 -99            ...                                  NaN   \n",
       "\n",
       "   EFilingMandatoryStatewideCivilID  EfilingMandatoryStatewideCriminalID  \\\n",
       "0                               -98                                  -98   \n",
       "1                               -98                                  -98   \n",
       "2                               -98                                  -98   \n",
       "\n",
       "   EfilingMandatoryStatewideDRID  EfilingMandatoryStatewideJuvenileID  \\\n",
       "0                            -98                                  -98   \n",
       "1                            -98                                  -98   \n",
       "2                            -98                                  -98   \n",
       "\n",
       "   EfilingMandatoryStatewideTrafficID  CaseManagementID  DisplayOrder  \\\n",
       "0                                 -98               -98             1   \n",
       "1                                 -98               -98             2   \n",
       "2                                 -98               -98             3   \n",
       "\n",
       "   PanelDecisionDescription CaseManagementDescription  \n",
       "0       Missing information                       NaN  \n",
       "1       Missing information                       NaN  \n",
       "2       Missing information                       NaN  \n",
       "\n",
       "[3 rows x 21 columns]"
      ]
     },
     "execution_count": 42,
     "metadata": {},
     "output_type": "execute_result"
    }
   ],
   "source": [
    "idata.names_of_courts_by_state.head(3)"
   ]
  },
  {
   "cell_type": "code",
   "execution_count": 43,
   "metadata": {},
   "outputs": [
    {
     "data": {
      "text/html": [
       "<div>\n",
       "<style scoped>\n",
       "    .dataframe tbody tr th:only-of-type {\n",
       "        vertical-align: middle;\n",
       "    }\n",
       "\n",
       "    .dataframe tbody tr th {\n",
       "        vertical-align: top;\n",
       "    }\n",
       "\n",
       "    .dataframe thead th {\n",
       "        text-align: right;\n",
       "    }\n",
       "</style>\n",
       "<table border=\"1\" class=\"dataframe\">\n",
       "  <thead>\n",
       "    <tr style=\"text-align: right;\">\n",
       "      <th></th>\n",
       "      <th>USStateID</th>\n",
       "      <th>USStateName</th>\n",
       "      <th>PopulationCategoryID</th>\n",
       "      <th>PopulationDensityID</th>\n",
       "      <th>RuralID</th>\n",
       "      <th>TrialStructureID</th>\n",
       "      <th>AppellateCriminalStructureID</th>\n",
       "      <th>TrialCriminalProcessingID</th>\n",
       "      <th>DeathPenaltyID</th>\n",
       "      <th>TrialCaseloadSizeID</th>\n",
       "      <th>...</th>\n",
       "      <th>DeathPenalty</th>\n",
       "      <th>CaseloadSize</th>\n",
       "      <th>PopulationLow</th>\n",
       "      <th>PopulationHigh</th>\n",
       "      <th>PopulationCategoryLow</th>\n",
       "      <th>PopulationCategoryHigh</th>\n",
       "      <th>RuralLow</th>\n",
       "      <th>RuralHigh</th>\n",
       "      <th>CaseloadLow</th>\n",
       "      <th>CaseloadHigh</th>\n",
       "    </tr>\n",
       "  </thead>\n",
       "  <tbody>\n",
       "    <tr>\n",
       "      <th>0</th>\n",
       "      <td>1</td>\n",
       "      <td>Alabama</td>\n",
       "      <td>4</td>\n",
       "      <td>3</td>\n",
       "      <td>2</td>\n",
       "      <td>2</td>\n",
       "      <td>6</td>\n",
       "      <td>2</td>\n",
       "      <td>-99</td>\n",
       "      <td>3</td>\n",
       "      <td>...</td>\n",
       "      <td>Missing information</td>\n",
       "      <td>501 Thousand-1 Million</td>\n",
       "      <td>51.0</td>\n",
       "      <td>100.0</td>\n",
       "      <td>35801.0</td>\n",
       "      <td>47800.0</td>\n",
       "      <td>26.0</td>\n",
       "      <td>49.0</td>\n",
       "      <td>501000</td>\n",
       "      <td>1000000</td>\n",
       "    </tr>\n",
       "    <tr>\n",
       "      <th>1</th>\n",
       "      <td>2</td>\n",
       "      <td>Alaska</td>\n",
       "      <td>1</td>\n",
       "      <td>1</td>\n",
       "      <td>2</td>\n",
       "      <td>2</td>\n",
       "      <td>4</td>\n",
       "      <td>1</td>\n",
       "      <td>0</td>\n",
       "      <td>1</td>\n",
       "      <td>...</td>\n",
       "      <td>No</td>\n",
       "      <td>Under 200 Thousand</td>\n",
       "      <td>0.0</td>\n",
       "      <td>20.0</td>\n",
       "      <td>0.0</td>\n",
       "      <td>9900.0</td>\n",
       "      <td>26.0</td>\n",
       "      <td>49.0</td>\n",
       "      <td>0</td>\n",
       "      <td>200000</td>\n",
       "    </tr>\n",
       "    <tr>\n",
       "      <th>2</th>\n",
       "      <td>3</td>\n",
       "      <td>Arizona</td>\n",
       "      <td>5</td>\n",
       "      <td>3</td>\n",
       "      <td>4</td>\n",
       "      <td>2</td>\n",
       "      <td>4</td>\n",
       "      <td>2</td>\n",
       "      <td>1</td>\n",
       "      <td>4</td>\n",
       "      <td>...</td>\n",
       "      <td>Yes</td>\n",
       "      <td>1.1 Million-3 Million</td>\n",
       "      <td>51.0</td>\n",
       "      <td>100.0</td>\n",
       "      <td>47801.0</td>\n",
       "      <td>64900.0</td>\n",
       "      <td>0.0</td>\n",
       "      <td>15.0</td>\n",
       "      <td>1100000</td>\n",
       "      <td>3000000</td>\n",
       "    </tr>\n",
       "  </tbody>\n",
       "</table>\n",
       "<p>3 rows × 28 columns</p>\n",
       "</div>"
      ],
      "text/plain": [
       "   USStateID USStateName  PopulationCategoryID  PopulationDensityID  RuralID  \\\n",
       "0          1     Alabama                     4                    3        2   \n",
       "1          2      Alaska                     1                    1        2   \n",
       "2          3     Arizona                     5                    3        4   \n",
       "\n",
       "   TrialStructureID  AppellateCriminalStructureID  TrialCriminalProcessingID  \\\n",
       "0                 2                             6                          2   \n",
       "1                 2                             4                          1   \n",
       "2                 2                             4                          2   \n",
       "\n",
       "   DeathPenaltyID  TrialCaseloadSizeID     ...              DeathPenalty  \\\n",
       "0             -99                    3     ...       Missing information   \n",
       "1               0                    1     ...                        No   \n",
       "2               1                    4     ...                       Yes   \n",
       "\n",
       "             CaseloadSize PopulationLow PopulationHigh PopulationCategoryLow  \\\n",
       "0  501 Thousand-1 Million          51.0          100.0               35801.0   \n",
       "1      Under 200 Thousand           0.0           20.0                   0.0   \n",
       "2   1.1 Million-3 Million          51.0          100.0               47801.0   \n",
       "\n",
       "  PopulationCategoryHigh RuralLow RuralHigh CaseloadLow CaseloadHigh  \n",
       "0                47800.0     26.0      49.0      501000      1000000  \n",
       "1                 9900.0     26.0      49.0           0       200000  \n",
       "2                64900.0      0.0      15.0     1100000      3000000  \n",
       "\n",
       "[3 rows x 28 columns]"
      ]
     },
     "execution_count": 43,
     "metadata": {},
     "output_type": "execute_result"
    }
   ],
   "source": [
    "idata.all_states_display.head(3)"
   ]
  },
  {
   "cell_type": "code",
   "execution_count": 44,
   "metadata": {},
   "outputs": [
    {
     "data": {
      "text/html": [
       "<div>\n",
       "<style scoped>\n",
       "    .dataframe tbody tr th:only-of-type {\n",
       "        vertical-align: middle;\n",
       "    }\n",
       "\n",
       "    .dataframe tbody tr th {\n",
       "        vertical-align: top;\n",
       "    }\n",
       "\n",
       "    .dataframe thead th {\n",
       "        text-align: right;\n",
       "    }\n",
       "</style>\n",
       "<table border=\"1\" class=\"dataframe\">\n",
       "  <thead>\n",
       "    <tr style=\"text-align: right;\">\n",
       "      <th></th>\n",
       "      <th>USStateCourtID</th>\n",
       "      <th>CourtID</th>\n",
       "      <th>USStateID</th>\n",
       "      <th>CourtName</th>\n",
       "      <th>CourtLevelID</th>\n",
       "      <th>CSPAggID</th>\n",
       "      <th>FundingID</th>\n",
       "      <th>AppealFromAdminAgency</th>\n",
       "      <th>Notes</th>\n",
       "      <th>Link</th>\n",
       "      <th>DisplayOrder</th>\n",
       "      <th>State</th>\n",
       "      <th>FundingDescription</th>\n",
       "      <th>CourtLevelDescription</th>\n",
       "    </tr>\n",
       "  </thead>\n",
       "  <tbody>\n",
       "    <tr>\n",
       "      <th>0</th>\n",
       "      <td>1</td>\n",
       "      <td>1</td>\n",
       "      <td>1</td>\n",
       "      <td>Supreme Court</td>\n",
       "      <td>COLR</td>\n",
       "      <td>COLR</td>\n",
       "      <td>S</td>\n",
       "      <td>No</td>\n",
       "      <td>Assigns cases to the Court of Civil Appeals.</td>\n",
       "      <td>http://judicial.alabama.gov/supreme.cfm</td>\n",
       "      <td>1</td>\n",
       "      <td>Alabama</td>\n",
       "      <td>State funded</td>\n",
       "      <td>Court of Last Resort</td>\n",
       "    </tr>\n",
       "    <tr>\n",
       "      <th>1</th>\n",
       "      <td>2</td>\n",
       "      <td>2</td>\n",
       "      <td>1</td>\n",
       "      <td>Court of Civil Appeals</td>\n",
       "      <td>IAC</td>\n",
       "      <td>IAC</td>\n",
       "      <td>S</td>\n",
       "      <td>No</td>\n",
       "      <td></td>\n",
       "      <td>http://judicial.alabama.gov/civil.cfm</td>\n",
       "      <td>2</td>\n",
       "      <td>Alabama</td>\n",
       "      <td>State funded</td>\n",
       "      <td>Intermediate Appellate Court</td>\n",
       "    </tr>\n",
       "    <tr>\n",
       "      <th>2</th>\n",
       "      <td>3</td>\n",
       "      <td>3</td>\n",
       "      <td>1</td>\n",
       "      <td>Court of Criminal Appeals</td>\n",
       "      <td>IAC</td>\n",
       "      <td>IAC</td>\n",
       "      <td>S</td>\n",
       "      <td>No</td>\n",
       "      <td></td>\n",
       "      <td>http://judicial.alabama.gov/criminal.cfm</td>\n",
       "      <td>3</td>\n",
       "      <td>Alabama</td>\n",
       "      <td>State funded</td>\n",
       "      <td>Intermediate Appellate Court</td>\n",
       "    </tr>\n",
       "  </tbody>\n",
       "</table>\n",
       "</div>"
      ],
      "text/plain": [
       "   USStateCourtID  CourtID  USStateID                  CourtName CourtLevelID  \\\n",
       "0               1        1          1              Supreme Court   COLR         \n",
       "1               2        2          1     Court of Civil Appeals   IAC          \n",
       "2               3        3          1  Court of Criminal Appeals   IAC          \n",
       "\n",
       "     CSPAggID FundingID AppealFromAdminAgency  \\\n",
       "0  COLR               S                    No   \n",
       "1  IAC                S                    No   \n",
       "2  IAC                S                    No   \n",
       "\n",
       "                                          Notes  \\\n",
       "0  Assigns cases to the Court of Civil Appeals.   \n",
       "1                                                 \n",
       "2                                                 \n",
       "\n",
       "                                       Link  DisplayOrder    State  \\\n",
       "0   http://judicial.alabama.gov/supreme.cfm             1  Alabama   \n",
       "1     http://judicial.alabama.gov/civil.cfm             2  Alabama   \n",
       "2  http://judicial.alabama.gov/criminal.cfm             3  Alabama   \n",
       "\n",
       "  FundingDescription         CourtLevelDescription  \n",
       "0       State funded          Court of Last Resort  \n",
       "1       State funded  Intermediate Appellate Court  \n",
       "2       State funded  Intermediate Appellate Court  "
      ]
     },
     "execution_count": 44,
     "metadata": {},
     "output_type": "execute_result"
    }
   ],
   "source": [
    "idata.us_states_and_courts.head(3)"
   ]
  },
  {
   "cell_type": "code",
   "execution_count": 45,
   "metadata": {},
   "outputs": [
    {
     "data": {
      "text/html": [
       "<div>\n",
       "<style scoped>\n",
       "    .dataframe tbody tr th:only-of-type {\n",
       "        vertical-align: middle;\n",
       "    }\n",
       "\n",
       "    .dataframe tbody tr th {\n",
       "        vertical-align: top;\n",
       "    }\n",
       "\n",
       "    .dataframe thead th {\n",
       "        text-align: right;\n",
       "    }\n",
       "</style>\n",
       "<table border=\"1\" class=\"dataframe\">\n",
       "  <thead>\n",
       "    <tr style=\"text-align: right;\">\n",
       "      <th></th>\n",
       "      <th>AppealProcessID</th>\n",
       "      <th>ChildCourtID</th>\n",
       "      <th>ParentCourtID</th>\n",
       "      <th>State</th>\n",
       "      <th>ChildCourtName</th>\n",
       "      <th>ParentCourtName</th>\n",
       "    </tr>\n",
       "  </thead>\n",
       "  <tbody>\n",
       "    <tr>\n",
       "      <th>0</th>\n",
       "      <td>1</td>\n",
       "      <td>2</td>\n",
       "      <td>1</td>\n",
       "      <td>Alabama</td>\n",
       "      <td>Court of Civil Appeals</td>\n",
       "      <td>Supreme Court</td>\n",
       "    </tr>\n",
       "    <tr>\n",
       "      <th>1</th>\n",
       "      <td>2</td>\n",
       "      <td>3</td>\n",
       "      <td>1</td>\n",
       "      <td>Alabama</td>\n",
       "      <td>Court of Criminal Appeals</td>\n",
       "      <td>Supreme Court</td>\n",
       "    </tr>\n",
       "    <tr>\n",
       "      <th>2</th>\n",
       "      <td>3</td>\n",
       "      <td>106</td>\n",
       "      <td>1</td>\n",
       "      <td>Alabama</td>\n",
       "      <td>Circuit</td>\n",
       "      <td>Supreme Court</td>\n",
       "    </tr>\n",
       "  </tbody>\n",
       "</table>\n",
       "</div>"
      ],
      "text/plain": [
       "   AppealProcessID  ChildCourtID  ParentCourtID    State  \\\n",
       "0                1             2              1  Alabama   \n",
       "1                2             3              1  Alabama   \n",
       "2                3           106              1  Alabama   \n",
       "\n",
       "              ChildCourtName ParentCourtName  \n",
       "0     Court of Civil Appeals   Supreme Court  \n",
       "1  Court of Criminal Appeals   Supreme Court  \n",
       "2                    Circuit   Supreme Court  "
      ]
     },
     "execution_count": 45,
     "metadata": {},
     "output_type": "execute_result"
    }
   ],
   "source": [
    "idata.court_hierarchy.head(3)"
   ]
  },
  {
   "cell_type": "code",
   "execution_count": null,
   "metadata": {},
   "outputs": [],
   "source": []
  },
  {
   "cell_type": "code",
   "execution_count": null,
   "metadata": {},
   "outputs": [],
   "source": []
  },
  {
   "cell_type": "markdown",
   "metadata": {},
   "source": [
    "# HTML Cards Select All Data for Selected States"
   ]
  },
  {
   "cell_type": "code",
   "execution_count": 46,
   "metadata": {},
   "outputs": [],
   "source": [
    "s = 'California'"
   ]
  },
  {
   "cell_type": "code",
   "execution_count": 51,
   "metadata": {},
   "outputs": [],
   "source": [
    "court_case_display_cols = [\n",
    "    'State', 'CourtName', 'CaseTypeDescription',\n",
    "    'AppealByRight', 'AppealByPermission', 'OriginalProceeding', \n",
    "    'InterlocutoryAppeal', 'Exclusive', 'Limited', 'MinValue', 'MaxValue', 'Notes']\n",
    "\n",
    "state_court_case_types = idata.all_court_case_types[idata.all_court_case_types['State'] == s][court_case_display_cols]"
   ]
  },
  {
   "cell_type": "code",
   "execution_count": 68,
   "metadata": {
    "scrolled": false
   },
   "outputs": [
    {
     "data": {
      "text/html": [
       "<div>\n",
       "<style scoped>\n",
       "    .dataframe tbody tr th:only-of-type {\n",
       "        vertical-align: middle;\n",
       "    }\n",
       "\n",
       "    .dataframe tbody tr th {\n",
       "        vertical-align: top;\n",
       "    }\n",
       "\n",
       "    .dataframe thead th {\n",
       "        text-align: right;\n",
       "    }\n",
       "</style>\n",
       "<table border=\"1\" class=\"dataframe\">\n",
       "  <thead>\n",
       "    <tr style=\"text-align: right;\">\n",
       "      <th></th>\n",
       "      <th>State</th>\n",
       "      <th>CourtName</th>\n",
       "      <th>CaseTypeDescription</th>\n",
       "      <th>AppealByRight</th>\n",
       "      <th>AppealByPermission</th>\n",
       "      <th>OriginalProceeding</th>\n",
       "      <th>InterlocutoryAppeal</th>\n",
       "      <th>Exclusive</th>\n",
       "      <th>Limited</th>\n",
       "      <th>MinValue</th>\n",
       "      <th>MaxValue</th>\n",
       "      <th>Notes</th>\n",
       "    </tr>\n",
       "  </thead>\n",
       "  <tbody>\n",
       "    <tr>\n",
       "      <th>180</th>\n",
       "      <td>California</td>\n",
       "      <td>Superior</td>\n",
       "      <td>Tort</td>\n",
       "      <td>False</td>\n",
       "      <td>False</td>\n",
       "      <td>False</td>\n",
       "      <td>False</td>\n",
       "      <td>False</td>\n",
       "      <td>False</td>\n",
       "      <td>-98</td>\n",
       "      <td>-98</td>\n",
       "      <td>NaN</td>\n",
       "    </tr>\n",
       "    <tr>\n",
       "      <th>181</th>\n",
       "      <td>California</td>\n",
       "      <td>Superior</td>\n",
       "      <td>Contract</td>\n",
       "      <td>False</td>\n",
       "      <td>False</td>\n",
       "      <td>False</td>\n",
       "      <td>False</td>\n",
       "      <td>False</td>\n",
       "      <td>False</td>\n",
       "      <td>-98</td>\n",
       "      <td>-98</td>\n",
       "      <td>NaN</td>\n",
       "    </tr>\n",
       "    <tr>\n",
       "      <th>182</th>\n",
       "      <td>California</td>\n",
       "      <td>Superior</td>\n",
       "      <td>Employment</td>\n",
       "      <td>False</td>\n",
       "      <td>False</td>\n",
       "      <td>False</td>\n",
       "      <td>False</td>\n",
       "      <td>False</td>\n",
       "      <td>False</td>\n",
       "      <td>-98</td>\n",
       "      <td>-98</td>\n",
       "      <td>NaN</td>\n",
       "    </tr>\n",
       "    <tr>\n",
       "      <th>183</th>\n",
       "      <td>California</td>\n",
       "      <td>Superior</td>\n",
       "      <td>Real Property</td>\n",
       "      <td>False</td>\n",
       "      <td>False</td>\n",
       "      <td>False</td>\n",
       "      <td>False</td>\n",
       "      <td>False</td>\n",
       "      <td>False</td>\n",
       "      <td>25000</td>\n",
       "      <td>NOMAX</td>\n",
       "      <td>NaN</td>\n",
       "    </tr>\n",
       "    <tr>\n",
       "      <th>184</th>\n",
       "      <td>California</td>\n",
       "      <td>Superior</td>\n",
       "      <td>Probate/Estate</td>\n",
       "      <td>False</td>\n",
       "      <td>False</td>\n",
       "      <td>False</td>\n",
       "      <td>False</td>\n",
       "      <td>True</td>\n",
       "      <td>False</td>\n",
       "      <td>-98</td>\n",
       "      <td>-98</td>\n",
       "      <td>NaN</td>\n",
       "    </tr>\n",
       "  </tbody>\n",
       "</table>\n",
       "</div>"
      ],
      "text/plain": [
       "          State CourtName CaseTypeDescription  AppealByRight  \\\n",
       "180  California  Superior                Tort          False   \n",
       "181  California  Superior            Contract          False   \n",
       "182  California  Superior          Employment          False   \n",
       "183  California  Superior       Real Property          False   \n",
       "184  California  Superior      Probate/Estate          False   \n",
       "\n",
       "     AppealByPermission  OriginalProceeding  InterlocutoryAppeal  Exclusive  \\\n",
       "180               False               False                False      False   \n",
       "181               False               False                False      False   \n",
       "182               False               False                False      False   \n",
       "183               False               False                False      False   \n",
       "184               False               False                False       True   \n",
       "\n",
       "     Limited  MinValue MaxValue Notes  \n",
       "180    False       -98      -98   NaN  \n",
       "181    False       -98      -98   NaN  \n",
       "182    False       -98      -98   NaN  \n",
       "183    False     25000    NOMAX   NaN  \n",
       "184    False       -98      -98   NaN  "
      ]
     },
     "execution_count": 68,
     "metadata": {},
     "output_type": "execute_result"
    }
   ],
   "source": [
    "state_court_case_types.head()"
   ]
  },
  {
   "cell_type": "code",
   "execution_count": null,
   "metadata": {},
   "outputs": [],
   "source": []
  },
  {
   "cell_type": "code",
   "execution_count": 69,
   "metadata": {},
   "outputs": [],
   "source": [
    "d = dict()"
   ]
  },
  {
   "cell_type": "code",
   "execution_count": 71,
   "metadata": {},
   "outputs": [],
   "source": [
    "d['State'] = state_court_case_types['State'].values[0]"
   ]
  },
  {
   "cell_type": "code",
   "execution_count": 72,
   "metadata": {},
   "outputs": [
    {
     "data": {
      "text/plain": [
       "{'State': 'California'}"
      ]
     },
     "execution_count": 72,
     "metadata": {},
     "output_type": "execute_result"
    }
   ],
   "source": [
    "d"
   ]
  },
  {
   "cell_type": "code",
   "execution_count": 73,
   "metadata": {},
   "outputs": [],
   "source": [
    "d['Courts'] = state_court_case_types['CourtName'].unique()"
   ]
  },
  {
   "cell_type": "code",
   "execution_count": 74,
   "metadata": {},
   "outputs": [
    {
     "data": {
      "text/plain": [
       "{'State': 'California',\n",
       " 'Courts': array(['Superior', 'Courts of Appeal 1st District', 'Supreme Court'],\n",
       "       dtype=object)}"
      ]
     },
     "execution_count": 74,
     "metadata": {},
     "output_type": "execute_result"
    }
   ],
   "source": [
    "d"
   ]
  },
  {
   "cell_type": "code",
   "execution_count": 86,
   "metadata": {},
   "outputs": [],
   "source": [
    "def get_case_types(df=None, court_name=None):\n",
    "    return set(df[df['CourtName'] == court_name]['CaseTypeDescription'].values)"
   ]
  },
  {
   "cell_type": "code",
   "execution_count": 91,
   "metadata": {},
   "outputs": [],
   "source": [
    "d['CaseTypes'] = {\n",
    "    '{}'.format(court): get_case_types(df=state_court_case_types, court_name=court) for court in d['Courts']}"
   ]
  },
  {
   "cell_type": "code",
   "execution_count": 92,
   "metadata": {},
   "outputs": [
    {
     "data": {
      "text/plain": [
       "{'State': 'California',\n",
       " 'Courts': array(['Superior', 'Courts of Appeal 1st District', 'Supreme Court'],\n",
       "       dtype=object),\n",
       " 'CaseTypes': {'Superior': {'Administrative Agency Appeals',\n",
       "   'Adoption',\n",
       "   'Civil Appeals from Limited Jurisdiction',\n",
       "   'Civil Protections Orders',\n",
       "   'Contract',\n",
       "   'Custody',\n",
       "   'Dissolution',\n",
       "   'Employment',\n",
       "   'Estate',\n",
       "   'Felony',\n",
       "   'Guardianship',\n",
       "   'Juvenile',\n",
       "   'Landlord/Tenant',\n",
       "   'Mental Health',\n",
       "   'Miscellaneous Civil',\n",
       "   'Misdemeanor',\n",
       "   'Mortgage Foreclosure',\n",
       "   'Non-Domestic Restraining Orders',\n",
       "   'Paternity',\n",
       "   'Probate/Estate',\n",
       "   'Probate/Wills/Interstate',\n",
       "   'Real Property',\n",
       "   'Small Claims',\n",
       "   'Status Offenses',\n",
       "   'Support',\n",
       "   'Tax',\n",
       "   'Tort',\n",
       "   'Visitation',\n",
       "   'Writ'},\n",
       "  'Courts of Appeal 1st District': {'Administrative Agency-Other',\n",
       "   'Civil-Other',\n",
       "   'Contract',\n",
       "   'Criminal-Other',\n",
       "   'Family',\n",
       "   'Felony',\n",
       "   'Juvenile',\n",
       "   'Misdemeanor',\n",
       "   'Probate/Estate',\n",
       "   'Real Property',\n",
       "   'Tort'},\n",
       "  'Supreme Court': {'Administrative Agency-Other',\n",
       "   'Certified Questions',\n",
       "   'Civil-Other',\n",
       "   'Contract',\n",
       "   'Criminal-Other',\n",
       "   'Death Penalty',\n",
       "   'Family',\n",
       "   'Felony',\n",
       "   'Juvenile',\n",
       "   'Misdemeanor',\n",
       "   'Probate/Estate',\n",
       "   'Real Property',\n",
       "   'Tort'}}}"
      ]
     },
     "execution_count": 92,
     "metadata": {},
     "output_type": "execute_result"
    }
   ],
   "source": [
    "d"
   ]
  },
  {
   "cell_type": "code",
   "execution_count": null,
   "metadata": {},
   "outputs": [],
   "source": []
  }
 ],
 "metadata": {
  "kernelspec": {
   "display_name": "viz_a_thon_env",
   "language": "python",
   "name": "viz_a_thon_env"
  },
  "language_info": {
   "codemirror_mode": {
    "name": "ipython",
    "version": 3
   },
   "file_extension": ".py",
   "mimetype": "text/x-python",
   "name": "python",
   "nbconvert_exporter": "python",
   "pygments_lexer": "ipython3",
   "version": "3.6.6"
  }
 },
 "nbformat": 4,
 "nbformat_minor": 2
}
